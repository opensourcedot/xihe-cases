{
 "cells": [
  {
   "cell_type": "markdown",
   "id": "fa7e3e52",
   "metadata": {},
   "source": [
    "# ResNetV2-152 实现口腔癌识别\n",
    "\n",
    "本项目基于 ResNetV2-152 网络，采集口腔病变位置特征，判别是否是口腔癌变。"
   ]
  },
  {
   "cell_type": "markdown",
   "id": "a987ee48",
   "metadata": {},
   "source": [
    "## 数据集准备与加载\n"
   ]
  },
  {
   "cell_type": "code",
   "execution_count": 1,
   "id": "8e7f3f0c-768d-4878-b064-5daa1f3c1f8d",
   "metadata": {
    "tags": []
   },
   "outputs": [],
   "source": [
    "%%capture captured_output\n",
    "!pip uninstall mindspore -y\n",
    "%env MINDSPORE_VERSION=2.5.0\n",
    "!pip install https://ms-release.obs.cn-north-4.myhuaweicloud.com/${MINDSPORE_VERSION}/MindSpore/unified/aarch64/mindspore-${MINDSPORE_VERSION}-cp39-cp39-linux_aarch64.whl --trusted-host ms-release.obs.cn-north-4.myhuaweicloud.com -i https://pypi.tuna.tsinghua.edu.cn/simple"
   ]
  },
  {
   "cell_type": "code",
   "execution_count": 2,
   "id": "9169c21ce9b7f171",
   "metadata": {
    "tags": []
   },
   "outputs": [
    {
     "name": "stdout",
     "output_type": "stream",
     "text": [
      "Name: mindspore\n",
      "Version: 2.5.0\n",
      "Summary: MindSpore is a new open source deep learning training/inference framework that could be used for mobile, edge and cloud scenarios.\n",
      "Home-page: https://www.mindspore.cn\n",
      "Author: The MindSpore Authors\n",
      "Author-email: contact@mindspore.cn\n",
      "License: Apache 2.0\n",
      "Location: /home/mindspore/miniconda/envs/jupyter/lib/python3.9/site-packages\n",
      "Requires: asttokens, astunparse, dill, numpy, packaging, pillow, protobuf, psutil, safetensors, scipy\n",
      "Required-by: \n"
     ]
    }
   ],
   "source": [
    "# 查看当前 mindspore 版本\n",
    "!pip show mindspore"
   ]
  },
  {
   "cell_type": "code",
   "execution_count": 8,
   "id": "87fdcf7c-7fa5-44fa-8b8b-bd2320be68f5",
   "metadata": {
    "tags": []
   },
   "outputs": [],
   "source": [
    "batch_size = 128  # 批量大小\n",
    "image_size = 32  # 训练图像空间大小\n",
    "workers = 4  # 并行线程个数\n",
    "num_classes = 2 # 分类数量"
   ]
  },
  {
   "cell_type": "markdown",
   "id": "3cc3c715-07e2-4c9b-9881-d0bf06fe9db6",
   "metadata": {},
   "source": [
    "## 数据集准备\n",
    "通过`git lfs`下载魔乐社区的数据集。"
   ]
  },
  {
   "cell_type": "code",
   "execution_count": 4,
   "id": "4217b2ff-cbb5-47ec-9a94-1395ce88aedb",
   "metadata": {
    "tags": []
   },
   "outputs": [
    {
     "name": "stdout",
     "output_type": "stream",
     "text": [
      "Git LFS initialized.\n",
      "正克隆到 'orcal-cancer'...\n",
      "remote: Enumerating objects: 7, done.\u001b[K\n",
      "remote: Counting objects: 100% (7/7), done.\u001b[K\n",
      "remote: Compressing objects: 100% (6/6), done.\u001b[K\n",
      "remote: Total 7 (delta 1), reused 0 (delta 0), pack-reused 0\u001b[K\n",
      "接收对象中: 100% (7/7), 完成.\n",
      "处理 delta 中: 100% (1/1), 完成.\n"
     ]
    }
   ],
   "source": [
    "!git lfs install\n",
    "!git clone https://modelers.cn/xsir/orcal-cancer.git\n",
    "!unzip -q orcal-cancer/dataset.zip -d orcal-cancer/"
   ]
  },
  {
   "cell_type": "code",
   "execution_count": 9,
   "id": "89655f1d-b568-451d-88cf-16ad72d3dec3",
   "metadata": {
    "tags": []
   },
   "outputs": [
    {
     "name": "stdout",
     "output_type": "stream",
     "text": [
      "清理完成\n"
     ]
    }
   ],
   "source": [
    "import os\n",
    "from PIL import Image, UnidentifiedImageError\n",
    "\n",
    "def delete_invalid_jpeg_files(dataset_path):\n",
    "    \"\"\"\n",
    "    删除所有非.jpg/.jpeg文件及无法以JPEG格式读取的图片\n",
    "    \"\"\"\n",
    "    for root, dirs, files in os.walk(dataset_path):\n",
    "        for file in files:\n",
    "            file_path = os.path.join(root, file)\n",
    "            ext = os.path.splitext(file)[1].lower()\n",
    "\n",
    "            # 删除非jpg/jpeg文件\n",
    "            if ext not in ('.jpg', '.jpeg'):\n",
    "                try:\n",
    "                    os.remove(file_path)\n",
    "                except Exception as e:\n",
    "                    print(f\"删除失败[{file_path}]: {str(e)}\")\n",
    "                continue\n",
    "\n",
    "            # 验证JPEG文件内容\n",
    "            try:\n",
    "                with Image.open(file_path) as img:\n",
    "                    if img.format != 'JPEG':\n",
    "                        raise ValueError(\"文件格式不符\")\n",
    "            except (UnidentifiedImageError, ValueError, Exception) as e:\n",
    "                try:\n",
    "                    os.remove(file_path)\n",
    "                except Exception as delete_error:\n",
    "                    print(f\"删除失败[{file_path}]: {str(delete_error)}\")\n",
    "\n",
    "if __name__ == \"__main__\":\n",
    "    dataset_path = \"./orcal-cancer/dataset\"\n",
    "    \n",
    "    if not os.path.isdir(dataset_path):\n",
    "        print(\"错误：路径不存在或不是目录\")\n",
    "    else:\n",
    "        delete_invalid_jpeg_files(dataset_path)\n",
    "        print(\"清理完成\")\n",
    "\n",
    "# 使用前请先安装Pillow库: pip install Pillow\n",
    "# 注意：操作不可逆，建议先备份数据！"
   ]
  },
  {
   "cell_type": "code",
   "execution_count": 6,
   "id": "e84d5149-2db6-4548-b1b5-744dc7186335",
   "metadata": {
    "tags": []
   },
   "outputs": [
    {
     "name": "stderr",
     "output_type": "stream",
     "text": [
      "/home/mindspore/miniconda/envs/jupyter/lib/python3.9/site-packages/numpy/core/getlimits.py:549: UserWarning: The value of the smallest subnormal for <class 'numpy.float64'> type is zero.\n",
      "  setattr(self, word, getattr(machar, word).flat[0])\n",
      "/home/mindspore/miniconda/envs/jupyter/lib/python3.9/site-packages/numpy/core/getlimits.py:89: UserWarning: The value of the smallest subnormal for <class 'numpy.float64'> type is zero.\n",
      "  return self._float_to_str(self.smallest_subnormal)\n",
      "/home/mindspore/miniconda/envs/jupyter/lib/python3.9/site-packages/numpy/core/getlimits.py:549: UserWarning: The value of the smallest subnormal for <class 'numpy.float32'> type is zero.\n",
      "  setattr(self, word, getattr(machar, word).flat[0])\n",
      "/home/mindspore/miniconda/envs/jupyter/lib/python3.9/site-packages/numpy/core/getlimits.py:89: UserWarning: The value of the smallest subnormal for <class 'numpy.float32'> type is zero.\n",
      "  return self._float_to_str(self.smallest_subnormal)\n"
     ]
    }
   ],
   "source": [
    "import mindspore as ms\n",
    "import mindspore.dataset as ds\n",
    "import mindspore.dataset.vision as vision\n",
    "from typing import Type, Union, List, Optional\n",
    "from mindspore import nn, train\n",
    "from mindspore.common.initializer import Normal\n",
    "import os\n",
    "import time\n",
    "# 数据集目录路径\n",
    "data_path_train = \"./orcal-cancer/dataset/train/\"\n",
    "data_path_val = \"./orcal-cancer/dataset/val/\"\n",
    "\n",
    "# 创建训练数据集\n",
    "\n",
    "def create_dataset_canidae(dataset_path, usage):\n",
    "    \"\"\"数据加载\"\"\"\n",
    "    data_set = ds.ImageFolderDataset(dataset_path,\n",
    "                                     num_parallel_workers=workers,\n",
    "                                     shuffle=True,)\n",
    "\n",
    "    # 数据增强操作\n",
    "    mean = [0.485 * 255, 0.456 * 255, 0.406 * 255]\n",
    "    std = [0.229 * 255, 0.224 * 255, 0.225 * 255]\n",
    "    scale = 32\n",
    "\n",
    "    if usage == \"train\":\n",
    "        # Define map operations for training dataset\n",
    "        trans = [\n",
    "            vision.RandomCropDecodeResize(size=image_size, scale=(0.08, 1.0), ratio=(0.75, 1.333)),\n",
    "            vision.RandomHorizontalFlip(prob=0.5),\n",
    "            vision.Normalize(mean=mean, std=std),\n",
    "            vision.HWC2CHW()\n",
    "        ]\n",
    "    else:\n",
    "        # Define map operations for inference dataset\n",
    "        trans = [\n",
    "            vision.Decode(),\n",
    "            vision.Resize(image_size + scale),\n",
    "            vision.CenterCrop(image_size),\n",
    "            vision.Normalize(mean=mean, std=std),\n",
    "            vision.HWC2CHW()\n",
    "        ]\n",
    "\n",
    "\n",
    "    # 数据映射操作\n",
    "    data_set = data_set.map(\n",
    "        operations=trans,\n",
    "        input_columns='image',\n",
    "        num_parallel_workers=workers)\n",
    "\n",
    "\n",
    "    # 批量操作\n",
    "    data_set = data_set.batch(batch_size)\n",
    "\n",
    "    return data_set\n",
    "\n",
    "\n",
    "dataset_train = create_dataset_canidae(data_path_train, \"train\")\n",
    "step_size_train = dataset_train.get_dataset_size()\n",
    "\n",
    "dataset_val = create_dataset_canidae(data_path_val, \"val\")\n",
    "step_size_val = dataset_val.get_dataset_size()"
   ]
  },
  {
   "cell_type": "markdown",
   "id": "21e86f95",
   "metadata": {},
   "source": [
    "对训练数据集进行可视化。"
   ]
  },
  {
   "cell_type": "code",
   "execution_count": 7,
   "id": "c3ffabb3",
   "metadata": {
    "tags": []
   },
   "outputs": [
    {
     "name": "stdout",
     "output_type": "stream",
     "text": [
      "Image shape: (128, 3, 128, 128), Label shape: (128,)\n",
      "Labels: [0 1 0 0 0 0]\n"
     ]
    }
   ],
   "source": [
    "import matplotlib.pyplot as plt\n",
    "import numpy as np\n",
    "\n",
    "data_iter = next(dataset_train.create_dict_iterator())\n",
    "\n",
    "images = data_iter[\"image\"].asnumpy()\n",
    "labels = data_iter[\"label\"].asnumpy()\n",
    "print(f\"Image shape: {images.shape}, Label shape: {labels.shape}\")\n",
    "\n",
    "# 训练数据集中，前六张图片所对应的标签\n",
    "print(f\"Labels: {labels[:6]}\")\n",
    "\n",
    "classes = [\"normal\", \"Oral Cancer\"]\n",
    "\n",
    "\n",
    "# 训练数据集的前六张图片\n",
    "# plt.figure()\n",
    "# for i in range(6):\n",
    "#     plt.subplot(2, 3, i + 1)\n",
    "#     image_trans = np.transpose(images[i], (1, 2, 0))\n",
    "#     mean = np.array([0.4914, 0.4822, 0.4465])\n",
    "#     std = np.array([0.2023, 0.1994, 0.2010])\n",
    "#     image_trans = std * image_trans + mean\n",
    "#     image_trans = np.clip(image_trans, 0, 1)\n",
    "#     plt.title(f\"{classes[labels[i]]}\")\n",
    "#     plt.imshow(image_trans)\n",
    "#     plt.axis(\"off\")\n",
    "# plt.show()"
   ]
  },
  {
   "cell_type": "markdown",
   "id": "4792c9a2-e2cf-4012-bf76-ed937d3a5182",
   "metadata": {},
   "source": [
    "### ResNetV2-152 网络\n",
    "\n",
    "相较于 ResNetV1，在卷积结构上采用了预激活（pre-activation）设计，如图（e）所示，采用 Batch Normalization（BN）-> ReLU ->  卷积（Conv） 的顺序。由于预激活单元中的所有权重层输入都是归一化后的信号，这不仅使网络训练更加稳定，还提升了泛化性能。\n",
    "\n",
    "![](https://openi.pcl.ac.cn/attachments/ee832864-27c7-4db3-991a-dba1e4deed8f?type=0)\n",
    "\n",
    "在整个网络架构上，与 ResNetV1 相似，包含 5 个卷积结构、1 个全局平均池化（Global Average Pooling）和 1 个全连接层（Fully Connected, FC）：\n",
    "\n",
    "+ **conv1**：输入图片大小为$32\\times32$，输入channel为3。首先经过一个卷积核数量为64，卷积核大小为$7\\times7$，stride为2的卷积层；然后通过一个Batch Normalization层；最后通过Reul激活函数。该层输出feature map大小为$16\\times16$，输出channel为64。\n",
    "+ **conv2_x**：输入feature map大小为$16\\times16$，输入channel为64。首先经过一个卷积核大小为$3\\times3$，stride为2的最大下采样池化操作；然后堆叠3个$[1\\times1，64；3\\times3，64；1\\times1，256]$结构的Bottleneck。该层输出feature map大小为$8\\times8$，输出channel为256。\n",
    "+ **conv3_x**：输入feature map大小为$8\\times8$，输入channel为256。该层堆叠8个[1×1，128；3×3，128；1×1，512]结构的Bottleneck。该层输出feature map大小为$4\\times4$，输出channel为512。\n",
    "+ **conv4_x**：输入feature map大小为$4\\times4$，输入channel为512。该层堆叠36个[1×1，256；3×3，256；1×1，1024]结构的Bottleneck。该层输出feature map大小为$2\\times2$，输出channel为1024。\n",
    "+ **conv5_x**：输入feature map大小为$2\\times2$，输入channel为1024。该层堆叠3个[1×1，512；3×3，512；1×1，2048]结构的Bottleneck。该层输出feature map大小为$1\\times1$，输出channel为2048。\n",
    "+ **global average pooling & fc**：输入channel为2048，输出channel为分类的类别数。"
   ]
  },
  {
   "cell_type": "code",
   "execution_count": 9,
   "id": "1ebef3d0",
   "metadata": {
    "tags": []
   },
   "outputs": [],
   "source": [
    "import mindspore.nn as nn\n",
    "from mindspore.ops import operations as P\n",
    "\n",
    "class PreActBottleNeck(nn.Cell):\n",
    "    \"\"\" PreActBottleNeck \"\"\"\n",
    "    expansion = 4\n",
    "\n",
    "    def __init__(self,\n",
    "                 in_planes,\n",
    "                 planes,\n",
    "                 stride=1):\n",
    "        super(PreActBottleNeck, self).__init__()\n",
    "\n",
    "        self.relu = nn.ReLU()\n",
    "\n",
    "        self.bn1 = nn.BatchNorm2d(in_planes, eps=1e-5, momentum=0.9)\n",
    "        self.conv1 = nn.Conv2d(in_planes, planes, kernel_size=1, stride=1)\n",
    "        self.bn2 = nn.BatchNorm2d(planes, eps=1e-5, momentum=0.9)\n",
    "        self.conv2 = nn.Conv2d(planes, planes, kernel_size=3, stride=stride, padding=1, pad_mode='pad')\n",
    "        self.bn3 = nn.BatchNorm2d(planes, eps=1e-5, momentum=0.9)\n",
    "        self.conv3 = nn.Conv2d(planes, self.expansion*planes, kernel_size=1, stride=1)\n",
    "\n",
    "        self.downtown = False\n",
    "        if stride != 1 or in_planes != self.expansion*planes:\n",
    "            self.downtown = True\n",
    "            self.shortcut = nn.SequentialCell([nn.Conv2d(in_planes, self.expansion*planes,\n",
    "                                                         kernel_size=1, stride=stride)])\n",
    "\n",
    "        self.add = P.Add()\n",
    "\n",
    "    def construct(self, x):\n",
    "        \"\"\" construct network \"\"\"\n",
    "        out = self.bn1(x)\n",
    "        out = self.relu(out)\n",
    "        if self.downtown:\n",
    "            identity = self.shortcut(out)\n",
    "        else:\n",
    "            identity = x\n",
    "        out = self.conv1(out)\n",
    "\n",
    "        out = self.bn2(out)\n",
    "        out = self.relu(out)\n",
    "        out = self.conv2(out)\n",
    "\n",
    "        out = self.bn3(out)\n",
    "        out = self.relu(out)\n",
    "        out = self.conv3(out)\n",
    "\n",
    "        out = self.add(out, identity)\n",
    "        return out\n",
    "\n",
    "\n",
    "class PreActResNet(nn.Cell):\n",
    "    \"\"\" PreActResNet \"\"\"\n",
    "    def __init__(self,\n",
    "                 block,\n",
    "                 num_blocks,\n",
    "                 in_planes,\n",
    "                 planes,\n",
    "                 strides,\n",
    "                 low_memory,\n",
    "                 num_classes=10):\n",
    "        super(PreActResNet, self).__init__()\n",
    "        self.in_planes = in_planes\n",
    "        self.low_memory = low_memory\n",
    "\n",
    "        self.conv1 = nn.Conv2d(3, self.in_planes, kernel_size=7, stride=2)\n",
    "        self.conv2 = nn.Conv2d(3, self.in_planes, kernel_size=3, stride=1, pad_mode='pad', padding=1)\n",
    "\n",
    "        self.layer1 = self._make_layer(block,\n",
    "                                       planes=planes[0],\n",
    "                                       num_blocks=num_blocks[0],\n",
    "                                       stride=strides[0])\n",
    "        self.layer2 = self._make_layer(block,\n",
    "                                       planes=planes[1],\n",
    "                                       num_blocks=num_blocks[1],\n",
    "                                       stride=strides[1])\n",
    "        self.layer3 = self._make_layer(block,\n",
    "                                       planes=planes[2],\n",
    "                                       num_blocks=num_blocks[2],\n",
    "                                       stride=strides[2])\n",
    "        self.layer4 = self._make_layer(block,\n",
    "                                       planes=planes[3],\n",
    "                                       num_blocks=num_blocks[3],\n",
    "                                       stride=strides[3])\n",
    "        self.mean = P.ReduceMean(keep_dims=True)\n",
    "        self.flatten = nn.Flatten()\n",
    "        self.linear = nn.Dense(planes[3]*block.expansion, num_classes)\n",
    "\n",
    "    def _make_layer(self, block, planes, num_blocks, stride):\n",
    "        layers = []\n",
    "        strides = [stride] + [1]*(num_blocks-1)\n",
    "\n",
    "        for s in strides:\n",
    "            layers.append(block(self.in_planes, planes, s))\n",
    "            self.in_planes = planes * block.expansion\n",
    "\n",
    "        return nn.SequentialCell(layers)\n",
    "\n",
    "    def construct(self, x):\n",
    "        \"\"\" construct network \"\"\"\n",
    "        if self.low_memory:\n",
    "            out = self.conv1(x)\n",
    "        else:\n",
    "            out = self.conv2(x)\n",
    "        out = self.layer1(out)\n",
    "        out = self.layer2(out)\n",
    "        out = self.layer3(out)\n",
    "        out = self.layer4(out)\n",
    "\n",
    "        out = self.mean(out, (2, 3))\n",
    "        out = out.view(out.shape[0], -1)\n",
    "        out = self.linear(out)\n",
    "\n",
    "        return out\n",
    "\n",
    "\n",
    "def PreActResNet152(class_num=10, low_memory=False):\n",
    "    return PreActResNet(PreActBottleNeck,\n",
    "                        num_blocks=[3, 8, 36, 3],\n",
    "                        in_planes=64,\n",
    "                        planes=[64, 128, 256, 512],\n",
    "                        strides=[1, 2, 2, 2],\n",
    "                        low_memory=low_memory,\n",
    "                        num_classes=class_num)"
   ]
  },
  {
   "cell_type": "markdown",
   "id": "d40bd05a",
   "metadata": {},
   "source": [
    "## 模型训练与评估\n",
    "调用`PreActResNet`构造 ResNetV2-152 模型，每隔10个epoch打印训练的损失值和评估精度，并保存评估精度最高的ckpt文件（resnetV2_152-best.ckpt）到当前路径的./BestCheckPoint下。\n",
    "\n",
    "由于预训练模型全连接层（fc）的输出大小（对应参数`num_classes`）为1000， 为了成功加载预训练权重，我们将模型的全连接输出大小设置为默认的1000。数据集共有2个分类.\n",
    "\n",
    "> 此处我们展示了30个epochs的训练过程。"
   ]
  },
  {
   "cell_type": "code",
   "execution_count": 10,
   "id": "9cf10c03",
   "metadata": {
    "tags": []
   },
   "outputs": [],
   "source": [
    "# 定义ResNetV2_152网络\n",
    "network = PreActResNet152(class_num=2)\n"
   ]
  },
  {
   "cell_type": "code",
   "execution_count": 11,
   "id": "e1c632ff",
   "metadata": {
    "tags": []
   },
   "outputs": [],
   "source": [
    "# 设置学习率\n",
    "num_epochs = 30\n",
    "lr = nn.cosine_decay_lr(min_lr=0.00001, max_lr=0.001, total_step=step_size_train * num_epochs,\n",
    "                        step_per_epoch=step_size_train, decay_epoch=num_epochs)\n",
    "# 定义优化器和损失函数\n",
    "opt = nn.Momentum(params=network.trainable_params(), learning_rate=lr, momentum=0.9)\n",
    "loss_fn = nn.SoftmaxCrossEntropyWithLogits(sparse=True, reduction='mean')\n",
    "\n",
    "\n",
    "def forward_fn(inputs, targets):\n",
    "    logits = network(inputs)\n",
    "    loss = loss_fn(logits, targets)\n",
    "    return loss\n",
    "\n",
    "\n",
    "grad_fn = ms.value_and_grad(forward_fn, None, opt.parameters)\n",
    "\n",
    "\n",
    "def train_step(inputs, targets):\n",
    "    loss, grads = grad_fn(inputs, targets)\n",
    "    opt(grads)\n",
    "    return loss"
   ]
  },
  {
   "cell_type": "code",
   "execution_count": 12,
   "id": "b627e30c",
   "metadata": {
    "tags": []
   },
   "outputs": [],
   "source": [
    "import os\n",
    "\n",
    "# 创建迭代器\n",
    "data_loader_train = dataset_train.create_tuple_iterator(num_epochs=num_epochs)\n",
    "data_loader_val = dataset_val.create_tuple_iterator(num_epochs=num_epochs)\n",
    "\n",
    "# 最佳模型存储路径\n",
    "best_acc = 0\n",
    "best_ckpt_dir = \"./BestCheckpoint\"\n",
    "best_ckpt_path = \"./BestCheckpoint/resnetV2_152-best.ckpt\"\n",
    "\n",
    "if not os.path.exists(best_ckpt_dir):\n",
    "    os.mkdir(best_ckpt_dir)"
   ]
  },
  {
   "cell_type": "code",
   "execution_count": 13,
   "id": "8a5170df",
   "metadata": {
    "tags": []
   },
   "outputs": [],
   "source": [
    "import mindspore.ops as ops\n",
    "\n",
    "\n",
    "def train(data_loader, epoch):\n",
    "    \"\"\"模型训练\"\"\"\n",
    "    losses = []\n",
    "    network.set_train(True)\n",
    "\n",
    "    for i, (images, labels) in enumerate(data_loader):\n",
    "        loss = train_step(images, labels)\n",
    "        losses.append(loss)\n",
    "\n",
    "    return sum(losses) / len(losses)\n",
    "\n",
    "\n",
    "def evaluate(data_loader):\n",
    "    \"\"\"模型验证\"\"\"\n",
    "    network.set_train(False)\n",
    "\n",
    "    correct_num = 0.0  # 预测正确个数\n",
    "    total_num = 0.0  # 预测总数\n",
    "\n",
    "    for images, labels in data_loader:\n",
    "        logits = network(images)\n",
    "        pred = logits.argmax(axis=1)  # 预测结果\n",
    "        correct = ops.equal(pred, labels).reshape((-1, ))\n",
    "        correct_num += correct.sum().asnumpy()\n",
    "        total_num += correct.shape[0]\n",
    "\n",
    "    acc = correct_num / total_num  # 准确率\n",
    "\n",
    "    return acc"
   ]
  },
  {
   "cell_type": "code",
   "execution_count": 14,
   "id": "562a04ca",
   "metadata": {
    "tags": []
   },
   "outputs": [
    {
     "name": "stdout",
     "output_type": "stream",
     "text": [
      "Start Training Loop ...\n",
      "..........--------------------------------------------------\n",
      "Epoch: [  5/ 30], Average Train Loss: [0.661], Accuracy: [0.630]\n",
      "--------------------------------------------------\n",
      "Epoch: [ 10/ 30], Average Train Loss: [0.632], Accuracy: [0.765]\n",
      "--------------------------------------------------\n",
      "Epoch: [ 15/ 30], Average Train Loss: [0.604], Accuracy: [0.753]\n",
      "--------------------------------------------------\n",
      "Epoch: [ 20/ 30], Average Train Loss: [0.592], Accuracy: [0.741]\n",
      "--------------------------------------------------\n",
      "Epoch: [ 25/ 30], Average Train Loss: [0.602], Accuracy: [0.778]\n",
      "--------------------------------------------------\n",
      "Epoch: [ 30/ 30], Average Train Loss: [0.590], Accuracy: [0.753]\n",
      "================================================================================\n",
      "End of validation the best Accuracy is:  0.790, save the best ckpt file in ./BestCheckpoint/resnetV2_152-best.ckpt\n"
     ]
    }
   ],
   "source": [
    "# 开始循环训练\n",
    "print(\"Start Training Loop ...\")\n",
    "\n",
    "for epoch in range(num_epochs):\n",
    "    curr_loss = train(data_loader_train, epoch)\n",
    "    curr_acc = evaluate(data_loader_val)\n",
    "    if (epoch + 1) % 5 == 0:\n",
    "        print(\"-\" * 50)\n",
    "        print(\"Epoch: [%3d/%3d], Average Train Loss: [%5.3f], Accuracy: [%5.3f]\" % (\n",
    "            epoch+1, num_epochs, curr_loss, curr_acc\n",
    "        ))\n",
    "\n",
    "    # 保存当前预测准确率最高的模型\n",
    "    if curr_acc > best_acc:\n",
    "        best_acc = curr_acc\n",
    "        ms.save_checkpoint(network, best_ckpt_path)\n",
    "\n",
    "print(\"=\" * 80)\n",
    "print(f\"End of validation the best Accuracy is: {best_acc: 5.3f}, \"\n",
    "      f\"save the best ckpt file in {best_ckpt_path}\", flush=True)"
   ]
  },
  {
   "cell_type": "markdown",
   "id": "46e28f6f",
   "metadata": {},
   "source": [
    "## 可视化模型预测\n",
    "\n",
    "定义`visualize_model`函数，使用上述验证精度最高的模型对测试数据集进行预测，并将预测结果可视化。若预测字体颜色为蓝色表示为预测正确，预测字体颜色为红色则表示预测错误。\n",
    "\n",
    "> 由上面的结果可知，30个epochs下模型在验证数据集的预测准确率在70%左右。"
   ]
  },
  {
   "cell_type": "code",
   "execution_count": 16,
   "id": "6ba2fa94",
   "metadata": {
    "tags": []
   },
   "outputs": [
    {
     "data": {
      "image/png": "[encoded data removed]",
      "text/plain": [
       "<Figure size 640x480 with 6 Axes>"
      ]
     },
     "metadata": {},
     "output_type": "display_data"
    }
   ],
   "source": [
    "import matplotlib.pyplot as plt\n",
    "\n",
    "\n",
    "def visualize_model(best_ckpt_path, dataset_val):\n",
    "    net = PreActResNet152(class_num=2)\n",
    "    # 加载模型参数\n",
    "    param_dict = ms.load_checkpoint(best_ckpt_path)\n",
    "    ms.load_param_into_net(net, param_dict)\n",
    "    # 加载验证集的数据进行验证\n",
    "    data = next(dataset_val.create_dict_iterator())\n",
    "    images = data[\"image\"]\n",
    "    labels = data[\"label\"]\n",
    "    # 预测图像类别\n",
    "    output = net(data['image'])\n",
    "    pred = np.argmax(output.asnumpy(), axis=1)\n",
    "\n",
    "    # 显示图像及图像的预测值\n",
    "    plt.figure()\n",
    "    for i in range(6):\n",
    "        plt.subplot(2, 3, i + 1)\n",
    "        # 若预测正确，显示为蓝色；若预测错误，显示为红色\n",
    "        color = 'blue' if pred[i] == labels.asnumpy()[i] else 'red'\n",
    "        plt.title('{}'.format(classes[pred[i]]), color=color)\n",
    "        picture_show = np.transpose(images.asnumpy()[i], (1, 2, 0))\n",
    "        mean = np.array([0.4914, 0.4822, 0.4465])\n",
    "        std = np.array([0.2023, 0.1994, 0.2010])\n",
    "        picture_show = std * picture_show + mean\n",
    "        picture_show = np.clip(picture_show, 0, 1)\n",
    "        plt.imshow(picture_show)\n",
    "        plt.axis('off')\n",
    "\n",
    "    plt.show()\n",
    "\n",
    "\n",
    "# 使用测试数据集进行验证\n",
    "visualize_model(best_ckpt_path=best_ckpt_path, dataset_val=dataset_val)"
   ]
  }
 ],
 "metadata": {
  "kernelspec": {
   "display_name": "Python 3 (ipykernel)",
   "language": "python",
   "name": "python3"
  },
  "language_info": {
   "codemirror_mode": {
    "name": "ipython",
    "version": 3
   },
   "file_extension": ".py",
   "mimetype": "text/x-python",
   "name": "python",
   "nbconvert_exporter": "python",
   "pygments_lexer": "ipython3",
   "version": "3.9.21"
  }
 },
 "nbformat": 4,
 "nbformat_minor": 5
}
