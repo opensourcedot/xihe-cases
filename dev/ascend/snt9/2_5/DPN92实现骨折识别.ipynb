{
 "cells": [
  {
   "cell_type": "markdown",
   "id": "e01b6d0d-6ed1-46ea-9bd7-c432631dd2ed",
   "metadata": {},
   "source": [
    "## 基于DPN模型实现骨折识别\n",
    "\n",
    "该项目基于 DPN 算法，判断是否有骨折。"
   ]
  },
  {
   "cell_type": "markdown",
   "id": "83023189-1ead-4766-a2aa-681ba0057e03",
   "metadata": {},
   "source": [
    "### 环境准备"
   ]
  },
  {
   "cell_type": "code",
   "execution_count": 1,
   "id": "0e868d24-fa9b-44b6-b609-4d7aac7fdc97",
   "metadata": {
    "tags": []
   },
   "outputs": [],
   "source": [
    "%%capture captured_output\n",
    "!pip uninstall mindspore -y\n",
    "%env MINDSPORE_VERSION=2.5.0\n",
    "!pip install https://ms-release.obs.cn-north-4.myhuaweicloud.com/${MINDSPORE_VERSION}/MindSpore/unified/aarch64/mindspore-${MINDSPORE_VERSION}-cp39-cp39-linux_aarch64.whl --trusted-host ms-release.obs.cn-north-4.myhuaweicloud.com -i https://pypi.tuna.tsinghua.edu.cn/simple"
   ]
  },
  {
   "cell_type": "code",
   "execution_count": 2,
   "id": "58d35c57-ad64-4b87-ba9e-6786b5ddb110",
   "metadata": {
    "tags": []
   },
   "outputs": [
    {
     "name": "stdout",
     "output_type": "stream",
     "text": [
      "Name: mindspore\n",
      "Version: 2.5.0\n",
      "Summary: MindSpore is a new open source deep learning training/inference framework that could be used for mobile, edge and cloud scenarios.\n",
      "Home-page: https://www.mindspore.cn\n",
      "Author: The MindSpore Authors\n",
      "Author-email: contact@mindspore.cn\n",
      "License: Apache 2.0\n",
      "Location: /home/mindspore/miniconda/envs/jupyter/lib/python3.9/site-packages\n",
      "Requires: asttokens, astunparse, dill, numpy, packaging, pillow, protobuf, psutil, safetensors, scipy\n",
      "Required-by: \n"
     ]
    }
   ],
   "source": [
    "# 查看当前 mindspore 版本\n",
    "!pip show mindspore"
   ]
  },
  {
   "cell_type": "markdown",
   "id": "07c2b6dc-b0ae-4338-ac19-0dc53bb5f3a3",
   "metadata": {},
   "source": [
    "### 超参设置"
   ]
  },
  {
   "cell_type": "code",
   "execution_count": 3,
   "id": "13fb5a39-4834-421d-96c9-fd8b57e6f6c2",
   "metadata": {
    "tags": []
   },
   "outputs": [],
   "source": [
    "batch_size = 64  # 批量大小\n",
    "image_size = 64  # 训练图像空间大小\n",
    "workers = 4  # 并行线程个数\n",
    "num_classes = 2  # 分类数量"
   ]
  },
  {
   "cell_type": "markdown",
   "id": "d8f1c8d4-828a-4673-8650-784066588314",
   "metadata": {},
   "source": [
    "### 数据集下载及数据处理\n",
    "\n",
    "通过git下载魔乐平台的数据集。"
   ]
  },
  {
   "cell_type": "code",
   "execution_count": 4,
   "id": "d20d60f2-3d10-415e-80d7-cacfac169f41",
   "metadata": {
    "tags": []
   },
   "outputs": [
    {
     "name": "stdout",
     "output_type": "stream",
     "text": [
      "Git LFS initialized.\n",
      "正克隆到 'fractured'...\n",
      "remote: Enumerating objects: 13, done.\u001b[K\n",
      "remote: Counting objects: 100% (13/13), done.\u001b[K\n",
      "remote: Compressing objects: 100% (12/12), done.\u001b[K\n",
      "remote: Total 13 (delta 3), reused 0 (delta 0), pack-reused 0\u001b[K\n",
      "接收对象中: 100% (13/13), 完成.\n",
      "处理 delta 中: 100% (3/3), 完成.\n"
     ]
    }
   ],
   "source": [
    "!git lfs install\n",
    "!git clone https://modelers.cn/xsir/fractured.git\n",
    "!unzip -q fractured/dataset.zip -d ./fractured"
   ]
  },
  {
   "cell_type": "markdown",
   "id": "73450987",
   "metadata": {},
   "source": [
    "因为数据集里面有些png图片是包含ICCP配置的，而libpng加载时会有警告提示，所以在这里对相关图片进行处理："
   ]
  },
  {
   "cell_type": "code",
   "execution_count": 5,
   "id": "34400727",
   "metadata": {
    "tags": []
   },
   "outputs": [
    {
     "name": "stderr",
     "output_type": "stream",
     "text": [
      "扫描目录: 7it [00:10,  1.50s/it]"
     ]
    },
    {
     "name": "stdout",
     "output_type": "stream",
     "text": [
      "\n",
      "处理完成！\n",
      "成功移除 ICC 的图片: 4\n",
      "无需处理的图片: 86\n",
      "处理失败的图片: 0\n"
     ]
    },
    {
     "name": "stderr",
     "output_type": "stream",
     "text": [
      "\n"
     ]
    }
   ],
   "source": [
    "import os\n",
    "from PIL import Image\n",
    "from tqdm import tqdm  # 可选：用于显示进度条\n",
    "\n",
    "def remove_icc_profile(image_path):\n",
    "    \"\"\"移除单张图片的 ICC 配置并覆盖保存\"\"\"\n",
    "    try:\n",
    "        with Image.open(image_path) as img:\n",
    "            # 检查是否存在 ICC 配置\n",
    "            if \"icc_profile\" in img.info:\n",
    "                # 移除 ICC 配置\n",
    "                img.info.pop(\"icc_profile\")\n",
    "                # 覆盖保存原文件（quality 参数保持原图默认，可根据需要调整）\n",
    "                img.save(image_path, icc_profile=None, optimize=True)\n",
    "                return True\n",
    "            else:\n",
    "                return False  # 无需处理\n",
    "    except Exception as e:\n",
    "        print(f\"处理失败: {image_path} - 错误: {str(e)}\")\n",
    "        return False\n",
    "\n",
    "def process_directory(root_dir):\n",
    "    \"\"\"递归处理目录下的所有 PNG 文件\"\"\"\n",
    "    success_count = 0\n",
    "    fail_count = 0\n",
    "    skip_count = 0\n",
    "\n",
    "    # 遍历所有子目录\n",
    "    for root, dirs, files in tqdm(os.walk(root_dir), desc=\"扫描目录\"):\n",
    "        for file in files:\n",
    "            if file.lower().endswith(\".png\"):\n",
    "                file_path = os.path.join(root, file)\n",
    "                result = remove_icc_profile(file_path)\n",
    "                if result is True:\n",
    "                    success_count += 1\n",
    "                elif result is False:\n",
    "                    skip_count += 1\n",
    "                else:\n",
    "                    fail_count += 1\n",
    "\n",
    "    # 打印统计结果\n",
    "    print(f\"\\n处理完成！\")\n",
    "    print(f\"成功移除 ICC 的图片: {success_count}\")\n",
    "    print(f\"无需处理的图片: {skip_count}\")\n",
    "    print(f\"处理失败的图片: {fail_count}\")\n",
    "\n",
    "if __name__ == \"__main__\":\n",
    "    dataset_path = \"./fractured/dataset\"  # 修改为你的数据集路径\n",
    "    process_directory(dataset_path)"
   ]
  },
  {
   "cell_type": "code",
   "execution_count": 6,
   "id": "8a3b830f-dfaf-4688-a29a-b4d1e257b741",
   "metadata": {
    "tags": []
   },
   "outputs": [
    {
     "name": "stderr",
     "output_type": "stream",
     "text": [
      "/home/mindspore/miniconda/envs/jupyter/lib/python3.9/site-packages/numpy/core/getlimits.py:549: UserWarning: The value of the smallest subnormal for <class 'numpy.float64'> type is zero.\n",
      "  setattr(self, word, getattr(machar, word).flat[0])\n",
      "/home/mindspore/miniconda/envs/jupyter/lib/python3.9/site-packages/numpy/core/getlimits.py:89: UserWarning: The value of the smallest subnormal for <class 'numpy.float64'> type is zero.\n",
      "  return self._float_to_str(self.smallest_subnormal)\n",
      "/home/mindspore/miniconda/envs/jupyter/lib/python3.9/site-packages/numpy/core/getlimits.py:549: UserWarning: The value of the smallest subnormal for <class 'numpy.float32'> type is zero.\n",
      "  setattr(self, word, getattr(machar, word).flat[0])\n",
      "/home/mindspore/miniconda/envs/jupyter/lib/python3.9/site-packages/numpy/core/getlimits.py:89: UserWarning: The value of the smallest subnormal for <class 'numpy.float32'> type is zero.\n",
      "  return self._float_to_str(self.smallest_subnormal)\n"
     ]
    }
   ],
   "source": [
    "import mindspore as ms\n",
    "import mindspore.dataset as ds\n",
    "import mindspore.dataset.vision as vision\n",
    "from typing import Type, Union, List, Optional\n",
    "from mindspore import nn, train\n",
    "from mindspore.common.initializer import Normal\n",
    "import os\n",
    "import time\n",
    "# 数据集目录路径\n",
    "data_path_train = \"./fractured/dataset/train/\"\n",
    "data_path_val = \"./fractured/dataset/val/\"\n",
    "\n",
    "# 创建训练数据集\n",
    "\n",
    "def create_dataset_canidae(dataset_path, usage):\n",
    "    \"\"\"数据加载\"\"\"\n",
    "    data_set = ds.ImageFolderDataset(dataset_path,\n",
    "                                     num_parallel_workers=workers,\n",
    "                                     shuffle=True,)\n",
    "\n",
    "    # 数据增强操作\n",
    "    mean = [0.485 * 255, 0.456 * 255, 0.406 * 255]\n",
    "    std = [0.229 * 255, 0.224 * 255, 0.225 * 255]\n",
    "    scale = 32\n",
    "\n",
    "    if usage == \"train\":\n",
    "        # Define map operations for training dataset\n",
    "        trans = [\n",
    "            vision.RandomCropDecodeResize(size=image_size, scale=(0.08, 1.0), ratio=(0.75, 1.333)),\n",
    "            vision.RandomHorizontalFlip(prob=0.5),\n",
    "            vision.Normalize(mean=mean, std=std),\n",
    "            vision.HWC2CHW()\n",
    "        ]\n",
    "    else:\n",
    "        # Define map operations for inference dataset\n",
    "        trans = [\n",
    "            vision.Decode(),\n",
    "            vision.Resize(image_size + scale),\n",
    "            vision.CenterCrop(image_size),\n",
    "            vision.Normalize(mean=mean, std=std),\n",
    "            vision.HWC2CHW()\n",
    "        ]\n",
    "\n",
    "\n",
    "    # 数据映射操作\n",
    "    data_set = data_set.map(\n",
    "        operations=trans,\n",
    "        input_columns='image',\n",
    "        num_parallel_workers=workers)\n",
    "\n",
    "\n",
    "    # 批量操作\n",
    "    data_set = data_set.batch(batch_size)\n",
    "\n",
    "    return data_set\n",
    "\n",
    "\n",
    "dataset_train = create_dataset_canidae(data_path_train, \"train\")\n",
    "step_size_train = dataset_train.get_dataset_size()\n",
    "\n",
    "dataset_val = create_dataset_canidae(data_path_val, \"val\")\n",
    "step_size_val = dataset_val.get_dataset_size()"
   ]
  },
  {
   "cell_type": "code",
   "execution_count": 7,
   "id": "3046a72b-2695-4c16-8a23-85806f3231e6",
   "metadata": {
    "tags": []
   },
   "outputs": [
    {
     "name": "stdout",
     "output_type": "stream",
     "text": [
      "Image shape: (64, 3, 64, 64), Label shape: (64,)\n",
      "Labels: [0 0 1 0 1 0]\n"
     ]
    }
   ],
   "source": [
    "import matplotlib.pyplot as plt\n",
    "import numpy as np\n",
    "\n",
    "data_iter = next(dataset_train.create_dict_iterator())\n",
    "\n",
    "images = data_iter[\"image\"].asnumpy()\n",
    "labels = data_iter[\"label\"].asnumpy()\n",
    "print(f\"Image shape: {images.shape}, Label shape: {labels.shape}\")\n",
    "\n",
    "# 训练数据集中，前六张图片所对应的标签\n",
    "print(f\"Labels: {labels[:6]}\")\n",
    "\n",
    "classes = [\"fractured\", \"not_fractured\"]\n",
    "\n",
    "\n",
    "# # 训练数据集的前六张图片\n",
    "# plt.figure()\n",
    "# for i in range(6):\n",
    "#     plt.subplot(2, 3, i + 1)\n",
    "#     image_trans = np.transpose(images[i], (1, 2, 0))\n",
    "#     mean = np.array([0.4914, 0.4822, 0.4465])\n",
    "#     std = np.array([0.2023, 0.1994, 0.2010])\n",
    "#     image_trans = std * image_trans + mean\n",
    "#     image_trans = np.clip(image_trans, 0, 1)\n",
    "#     plt.title(f\"{classes[labels[i]]}\")\n",
    "#     plt.imshow(image_trans)\n",
    "#     plt.axis(\"off\")\n",
    "# plt.show()"
   ]
  },
  {
   "cell_type": "markdown",
   "id": "18dd3317-3a66-4d5c-84b1-381b0d6c4c5d",
   "metadata": {
    "tags": []
   },
   "source": [
    "### DPN模型\n",
    "有关 DPN（Dual Path Network）网络的详细信息，可参考论文：https://arxiv.org/abs/1707.01629\n",
    "\n",
    "DPN（Dual Path Network）由 Yunpeng Chen 等人于 2017 年提出，其核心思想是融合 ResNet 的残差学习（Residual Learning）和 DenseNet 的密集连接（Dense Connectivity），在参数效率和特征表达能力之间实现平衡。\n",
    "\n",
    "#### ResNet 与 DenseNet 的优缺点\n",
    "* ResNet\n",
    "\n",
    "  ResNet 通过引入跳跃连接（Skip Connection）有效缓解了深层网络中的梯度消失问题，确保梯度的稳定传播，从而显著提升模型的训练效果。然而，其残差相加机制仅支持信息以“求和”的形式传递，限制了特征复用效率。\n",
    "* DenseNet\n",
    "\n",
    "  DenseNet 采用输入与输出的直接连接方式，替代 ResNet 的残差相加机制，从而实现高效的特征复用，提升了模型的表示能力。然而，由于所有层之间都存在密集连接，随着网络深度增加，参数量和显存消耗会呈指数级增长，限制了模型的可扩展性。\n",
    "\n",
    "#### DPN 设计与创新\n",
    "DPN 创新性地融合了 ResNet 的残差路径和 DenseNet 的密集连接，既保持了 ResNet 在深层网络中的梯度流动性优势，又继承了 DenseNet 的高效特征复用能力。其核心模块设计如下：\n",
    "1. 通道降维与特征提取\n",
    "* 采用 1×1 卷积 进行通道降维，减少计算复杂度。\n",
    "* 通过 3×3 卷积 进行特征提取，增强网络的表达能力。\n",
    "* 最后使用 1×1 卷积 恢复通道数，确保输出维度一致。\n",
    "2. 双路径输出机制\n",
    "   \n",
    "   输出被划分为两个部分：\n",
    "* 残差路径（Residual Path）：部分输出被添加至主干网络，延续 ResNet 的跳跃连接机制，以优化梯度流动。\n",
    "* 密集路径（Dense Path）：另一部分输出传递至后续层，继承 DenseNet 的特征复用优势，提升特征传递效率。\n",
    "\n",
    "3. 分组卷积（Grouped Convolution）\n",
    "\n",
    "    DPN 采用 分组卷积 以进一步提升计算效率，降低参数量和计算成本。\n",
    "\n",
    "4. 超参数优化设计\n",
    "\n",
    "    为避免 DenseNet 在深层网络中引发的“显存消耗过快”问题，DPN 在设计超参数时适当增加了 ResNet 分支的通道数。这一优化在保障特征表达能力的同时，提高了模型的可扩展性和实际应用性能。\n",
    "\n",
    "![](https://openi.pcl.ac.cn/attachments/5c48422f-84e2-4d28-b63e-2d36fe3e2e14?type=0)\n",
    "\n",
    "DPN 由 5 个卷积模块 和 1 个全局平均池化（Global Average Pooling, GAP）+ 全连接层（FC） 组成，其整体结构如下：\n",
    "\n",
    "![](https://openi.pcl.ac.cn/attachments/8011c5db-12c9-408b-a59a-06f6afa3a913?type=0)"
   ]
  },
  {
   "cell_type": "code",
   "execution_count": 8,
   "id": "514cb232-da4e-41c7-8d0c-abd4823328f1",
   "metadata": {
    "tags": []
   },
   "outputs": [],
   "source": [
    "from collections import OrderedDict\n",
    "import mindspore as ms\n",
    "import mindspore.nn as nn\n",
    "import mindspore.ops.operations as F\n",
    "\n",
    "\n",
    "def dpn92(num_classes=1000):\n",
    "    return DPN(num_init_features=64, k_R=96, G=32, k_sec=(3, 4, 20, 3), inc_sec=(16, 32, 24, 128),\n",
    "               num_classes=num_classes)\n",
    "\n",
    "\n",
    "class BottleBlock(nn.Cell):\n",
    "    def __init__(self, in_chs, num_1x1_a, num_3x3_b, num_1x1_c, inc, G, key_stride):\n",
    "        super(BottleBlock, self).__init__()\n",
    "        self.G = G\n",
    "        self.bn1 = nn.BatchNorm2d(in_chs, eps=1e-3, momentum=0.9)\n",
    "        self.conv1 = nn.Conv2d(in_chs, num_1x1_a, 1, stride=1)\n",
    "        self.bn2 = nn.BatchNorm2d(num_1x1_a, eps=1e-3, momentum=0.9)\n",
    "        if ms.context.get_context('device_target') == \"Ascend\":\n",
    "            self.split_conv_concat = True\n",
    "            self.conv2 = nn.CellList()\n",
    "            for _ in range(G):\n",
    "                self.conv2.append(nn.Conv2d(num_1x1_a // G, num_3x3_b // G, 3, key_stride, pad_mode='pad', padding=1))\n",
    "        else:\n",
    "            self.split_conv_concat = False\n",
    "            self.conv2 = nn.Conv2d(num_1x1_a, num_3x3_b, 3, key_stride, pad_mode='pad', padding=1, group=G)\n",
    "        self.bn3 = nn.BatchNorm2d(num_3x3_b, eps=1e-3, momentum=0.9)\n",
    "        self.conv3_r = nn.Conv2d(num_3x3_b, num_1x1_c, 1, stride=1)\n",
    "        self.conv3_d = nn.Conv2d(num_3x3_b, inc, 1, stride=1)\n",
    "\n",
    "        self.relu = nn.ReLU()\n",
    "        self.concat = F.Concat(axis=1)\n",
    "        self.split = F.Split(axis=1, output_num=G)\n",
    "\n",
    "    def construct(self, x):\n",
    "        x = self.bn1(x)\n",
    "        x = self.relu(x)\n",
    "        x = self.conv1(x)\n",
    "        x = self.bn2(x)\n",
    "        x = self.relu(x)\n",
    "        if self.split_conv_concat:\n",
    "            group_x = ()\n",
    "            input_x = self.split(x)\n",
    "            for i in range(self.G):\n",
    "                group_x = group_x + (self.conv2[i](input_x[i]),)\n",
    "            x = self.concat(group_x)\n",
    "        else:\n",
    "            x = self.conv2(x)\n",
    "        x = self.bn3(x)\n",
    "        x = self.relu(x)\n",
    "        return (self.conv3_r(x), self.conv3_d(x))\n",
    "\n",
    "\n",
    "class DualPathBlock(nn.Cell):\n",
    "    def __init__(self, in_chs, num_1x1_a, num_3x3_b, num_1x1_c, inc, G, _type='normal', cat_input=True):\n",
    "        super(DualPathBlock, self).__init__()\n",
    "        self.num_1x1_c = num_1x1_c\n",
    "\n",
    "        if _type == 'proj':\n",
    "            key_stride = 1\n",
    "            self.has_proj = True\n",
    "        if _type == 'down':\n",
    "            key_stride = 2\n",
    "            self.has_proj = True\n",
    "        if _type == 'normal':\n",
    "            key_stride = 1\n",
    "            self.has_proj = False\n",
    "\n",
    "        self.cat_input = cat_input\n",
    "\n",
    "        if self.has_proj:\n",
    "            self.c1x1_w_bn = nn.BatchNorm2d(in_chs, eps=1e-3, momentum=0.9)\n",
    "            self.c1x1_w_relu = nn.ReLU()\n",
    "            self.c1x1_w_r = self.Conv1x1(in_chs=in_chs, out_chs=num_1x1_c, stride=key_stride)\n",
    "            self.c1x1_w_d = self.Conv1x1(in_chs=in_chs, out_chs=2 * inc, stride=key_stride)\n",
    "\n",
    "        self.layers = BottleBlock(in_chs, num_1x1_a, num_3x3_b, num_1x1_c, inc, G, key_stride)\n",
    "        self.concat = F.Concat(axis=1)\n",
    "        self.add = F.Add()\n",
    "\n",
    "    def Conv1x1(self, in_chs, out_chs, stride):\n",
    "        return nn.Conv2d(in_chs, out_chs, kernel_size=1, stride=stride, pad_mode='pad', padding=0)\n",
    "\n",
    "    def construct(self, x):\n",
    "        if self.cat_input:\n",
    "            data_in = self.concat(x)\n",
    "        else:\n",
    "            data_in = x\n",
    "\n",
    "        if self.has_proj:\n",
    "            data_o = self.c1x1_w_bn(data_in)\n",
    "            data_o = self.c1x1_w_relu(data_o)\n",
    "            data_o1 = self.c1x1_w_r(data_o)\n",
    "            data_o2 = self.c1x1_w_d(data_o)\n",
    "        else:\n",
    "            data_o1 = x[0]\n",
    "            data_o2 = x[1]\n",
    "\n",
    "        out = self.layers(data_in)\n",
    "        summ = self.add(data_o1, out[0])\n",
    "        dense = self.concat((data_o2, out[1]))\n",
    "        return (summ, dense)\n",
    "\n",
    "\n",
    "class DPN(nn.Cell):\n",
    "\n",
    "    def __init__(self, num_init_features=64, k_R=96, G=32,\n",
    "                 k_sec=(3, 4, 20, 3), inc_sec=(16, 32, 24, 128), num_classes=1000):\n",
    "\n",
    "        super(DPN, self).__init__()\n",
    "        blocks = OrderedDict()\n",
    "\n",
    "        # conv1\n",
    "        blocks['conv1'] = nn.SequentialCell(OrderedDict([\n",
    "            ('conv', nn.Conv2d(3, num_init_features, kernel_size=7, stride=2, pad_mode='pad', padding=3)),\n",
    "            ('norm', nn.BatchNorm2d(num_init_features, eps=1e-3, momentum=0.9)),\n",
    "            ('relu', nn.ReLU()),\n",
    "            ('maxpool', nn.MaxPool2d(kernel_size=3, stride=2, pad_mode='same')),\n",
    "        ]))\n",
    "\n",
    "        # conv2\n",
    "        bw = 256\n",
    "        inc = inc_sec[0]\n",
    "        R = int((k_R * bw) / 256)\n",
    "        blocks['conv2_1'] = DualPathBlock(num_init_features, R, R, bw, inc, G, 'proj', False)\n",
    "        in_chs = bw + 3 * inc\n",
    "        for i in range(2, k_sec[0] + 1):\n",
    "            blocks['conv2_{}'.format(i)] = DualPathBlock(in_chs, R, R, bw, inc, G, 'normal')\n",
    "            in_chs += inc\n",
    "\n",
    "        # conv3\n",
    "        bw = 512\n",
    "        inc = inc_sec[1]\n",
    "        R = int((k_R * bw) / 256)\n",
    "        blocks['conv3_1'] = DualPathBlock(in_chs, R, R, bw, inc, G, 'down')\n",
    "        in_chs = bw + 3 * inc\n",
    "        for i in range(2, k_sec[1] + 1):\n",
    "            blocks['conv3_{}'.format(i)] = DualPathBlock(in_chs, R, R, bw, inc, G, 'normal')\n",
    "            in_chs += inc\n",
    "\n",
    "        # conv4\n",
    "        bw = 1024\n",
    "        inc = inc_sec[2]\n",
    "        R = int((k_R * bw) / 256)\n",
    "        blocks['conv4_1'] = DualPathBlock(in_chs, R, R, bw, inc, G, 'down')\n",
    "        in_chs = bw + 3 * inc\n",
    "        for i in range(2, k_sec[2] + 1):\n",
    "            blocks['conv4_{}'.format(i)] = DualPathBlock(in_chs, R, R, bw, inc, G, 'normal')\n",
    "            in_chs += inc\n",
    "\n",
    "        # conv5\n",
    "        bw = 2048\n",
    "        inc = inc_sec[3]\n",
    "        R = int((k_R * bw) / 256)\n",
    "        blocks['conv5_1'] = DualPathBlock(in_chs, R, R, bw, inc, G, 'down')\n",
    "        in_chs = bw + 3 * inc\n",
    "        for i in range(2, k_sec[3] + 1):\n",
    "            blocks['conv5_{}'.format(i)] = DualPathBlock(in_chs, R, R, bw, inc, G, 'normal')\n",
    "            in_chs += inc\n",
    "\n",
    "        self.features = nn.SequentialCell(blocks)\n",
    "        self.concat = F.Concat(axis=1)\n",
    "        self.conv5_x = nn.SequentialCell(OrderedDict([\n",
    "            ('norm', nn.BatchNorm2d(in_chs, eps=1e-3, momentum=0.9)),\n",
    "            ('relu', nn.ReLU()),\n",
    "        ]))\n",
    "        self.avgpool = F.ReduceMean(False)\n",
    "        self.classifier = nn.Dense(in_chs, num_classes)\n",
    "\n",
    "    def construct(self, x):\n",
    "        x = self.features(x)\n",
    "        x = self.concat(x)\n",
    "        x = self.conv5_x(x)\n",
    "        x = self.avgpool(x, (2, 3))\n",
    "        x = self.classifier(x)\n",
    "        return x\n"
   ]
  },
  {
   "cell_type": "markdown",
   "id": "5342c0a5-4c16-4401-87d7-aff47f9af345",
   "metadata": {},
   "source": [
    "### 模型训练\n",
    "跑了50epochs训练结果如下:"
   ]
  },
  {
   "cell_type": "code",
   "execution_count": 9,
   "id": "e21a214d-46a2-42d1-8021-49b1791d3fc1",
   "metadata": {
    "tags": []
   },
   "outputs": [],
   "source": [
    "network = dpn92(num_classes=2)"
   ]
  },
  {
   "cell_type": "code",
   "execution_count": 10,
   "id": "e5bf4f6b-29b4-40a1-a23c-c12299cce6e3",
   "metadata": {
    "tags": []
   },
   "outputs": [],
   "source": [
    "# 设置学习率\n",
    "num_epochs = 50\n",
    "lr = nn.cosine_decay_lr(min_lr=0.00001, max_lr=0.001, total_step=step_size_train * num_epochs,\n",
    "                        step_per_epoch=step_size_train, decay_epoch=num_epochs)\n",
    "# 定义优化器和损失函数\n",
    "opt = nn.Momentum(params=network.trainable_params(), learning_rate=lr, momentum=0.9)\n",
    "loss_fn = nn.SoftmaxCrossEntropyWithLogits(sparse=True, reduction='mean')\n",
    "\n",
    "\n",
    "def forward_fn(inputs, targets):\n",
    "    logits = network(inputs)\n",
    "    loss = loss_fn(logits, targets)\n",
    "    return loss\n",
    "\n",
    "\n",
    "grad_fn = ms.value_and_grad(forward_fn, None, opt.parameters)\n",
    "\n",
    "\n",
    "def train_step(inputs, targets):\n",
    "    loss, grads = grad_fn(inputs, targets)\n",
    "    opt(grads)\n",
    "    return loss"
   ]
  },
  {
   "cell_type": "code",
   "execution_count": 11,
   "id": "b71f670e-5c29-4ac3-a1e7-3d09a839ae16",
   "metadata": {
    "tags": []
   },
   "outputs": [],
   "source": [
    "import os\n",
    "\n",
    "# 创建迭代器\n",
    "data_loader_train = dataset_train.create_tuple_iterator(num_epochs=num_epochs)\n",
    "data_loader_val = dataset_val.create_tuple_iterator(num_epochs=num_epochs)\n",
    "\n",
    "# 最佳模型存储路径\n",
    "best_acc = 0\n",
    "best_ckpt_dir = \"./BestCheckpoint\"\n",
    "best_ckpt_path = \"./BestCheckpoint/dpn92-best.ckpt\"\n",
    "\n",
    "if not os.path.exists(best_ckpt_dir):\n",
    "    os.mkdir(best_ckpt_dir)"
   ]
  },
  {
   "cell_type": "code",
   "execution_count": 12,
   "id": "433c98b7-047a-4295-a71d-fad322cc70b6",
   "metadata": {
    "tags": []
   },
   "outputs": [],
   "source": [
    "import mindspore.ops as ops\n",
    "\n",
    "\n",
    "def train(data_loader, epoch):\n",
    "    \"\"\"模型训练\"\"\"\n",
    "    losses = []\n",
    "    network.set_train(True)\n",
    "\n",
    "    for i, (images, labels) in enumerate(data_loader):\n",
    "        loss = train_step(images, labels)\n",
    "        losses.append(loss)\n",
    "\n",
    "    return sum(losses) / len(losses)\n",
    "\n",
    "\n",
    "def evaluate(data_loader):\n",
    "    \"\"\"模型验证\"\"\"\n",
    "    network.set_train(False)\n",
    "\n",
    "    correct_num = 0.0  # 预测正确个数\n",
    "    total_num = 0.0  # 预测总数\n",
    "\n",
    "    for images, labels in data_loader:\n",
    "        logits = network(images)\n",
    "        pred = logits.argmax(axis=1)  # 预测结果\n",
    "        correct = ops.equal(pred, labels).reshape((-1, ))\n",
    "        correct_num += correct.sum().asnumpy()\n",
    "        total_num += correct.shape[0]\n",
    "\n",
    "    acc = correct_num / total_num  # 准确率\n",
    "\n",
    "    return acc"
   ]
  },
  {
   "cell_type": "code",
   "execution_count": 13,
   "id": "ae1df665-f33f-43dd-99c7-379296d2e69e",
   "metadata": {
    "tags": []
   },
   "outputs": [
    {
     "name": "stdout",
     "output_type": "stream",
     "text": [
      "Start Training Loop ...\n",
      "................--------------------------------------------------\n",
      "Epoch: [ 10/ 50], Average Train Loss: [0.530], Accuracy: [0.500]\n",
      "--------------------------------------------------\n",
      "Epoch: [ 20/ 50], Average Train Loss: [0.565], Accuracy: [0.600]\n",
      "--------------------------------------------------\n",
      "Epoch: [ 30/ 50], Average Train Loss: [0.608], Accuracy: [0.650]\n",
      "--------------------------------------------------\n",
      "Epoch: [ 40/ 50], Average Train Loss: [0.558], Accuracy: [0.600]\n",
      "--------------------------------------------------\n",
      "Epoch: [ 50/ 50], Average Train Loss: [0.608], Accuracy: [0.600]\n",
      "================================================================================\n",
      "End of validation the best Accuracy is:  0.800, save the best ckpt file in ./BestCheckpoint/dpn92-best.ckpt\n"
     ]
    }
   ],
   "source": [
    "# 开始循环训练\n",
    "print(\"Start Training Loop ...\")\n",
    "\n",
    "for epoch in range(num_epochs):\n",
    "    curr_loss = train(data_loader_train, epoch)\n",
    "    curr_acc = evaluate(data_loader_val)\n",
    "    if (epoch + 1) % 10 == 0:\n",
    "        print(\"-\" * 50)\n",
    "        print(\"Epoch: [%3d/%3d], Average Train Loss: [%5.3f], Accuracy: [%5.3f]\" % (\n",
    "            epoch+1, num_epochs, curr_loss, curr_acc\n",
    "        ))\n",
    "\n",
    "    # 保存当前预测准确率最高的模型\n",
    "    if curr_acc > best_acc:\n",
    "        best_acc = curr_acc\n",
    "        ms.save_checkpoint(network, best_ckpt_path)\n",
    "\n",
    "print(\"=\" * 80)\n",
    "print(f\"End of validation the best Accuracy is: {best_acc: 5.3f}, \"\n",
    "      f\"save the best ckpt file in {best_ckpt_path}\", flush=True)"
   ]
  },
  {
   "cell_type": "markdown",
   "id": "f044b078-b1ad-44c2-aac9-d3593bab5032",
   "metadata": {},
   "source": [
    "### 可视化模型预测\n",
    "定义`visualize_model`函数，使用上述验证精度最高的模型对测试数据集进行预测，并将预测结果可视化。若预测字体颜色为蓝色表示为预测正确，预测字体颜色为红色则表示预测错误。"
   ]
  },
  {
   "cell_type": "code",
   "execution_count": 13,
   "id": "dac56402-0ca1-43d7-8e30-544ae6d09e74",
   "metadata": {
    "tags": []
   },
   "outputs": [
    {
     "data": {
      "image/png": "[encoded data removed]",
      "text/plain": [
       "<Figure size 640x480 with 6 Axes>"
      ]
     },
     "metadata": {},
     "output_type": "display_data"
    }
   ],
   "source": [
    "import matplotlib.pyplot as plt\n",
    "import numpy as np\n",
    "\n",
    "def visualize_model(best_ckpt_path, dataset_val):\n",
    "    net = dpn92(num_classes=2)\n",
    "    # 加载模型参数\n",
    "    param_dict = ms.load_checkpoint(best_ckpt_path)\n",
    "    ms.load_param_into_net(net, param_dict)\n",
    "    # 加载验证集的数据进行验证\n",
    "    data = next(dataset_val.create_dict_iterator())\n",
    "    images = data[\"image\"]\n",
    "    labels = data[\"label\"]\n",
    "    # 预测图像类别\n",
    "    output = net(data['image'])\n",
    "    pred = np.argmax(output.asnumpy(), axis=1)\n",
    "\n",
    "    # 图像分类\n",
    "    classes = [\"fractured\", \"not_fractured\"]\n",
    "\n",
    "    # 显示图像及图像的预测值\n",
    "    plt.figure()\n",
    "    for i in range(6):\n",
    "        plt.subplot(2, 3, i + 1)\n",
    "        # 若预测正确，显示为蓝色；若预测错误，显示为红色\n",
    "        color = 'blue' if pred[i] == labels.asnumpy()[i] else 'red'\n",
    "        plt.title('predict:\\n{}'.format(classes[pred[i]]), color=color)\n",
    "        picture_show = np.transpose(images.asnumpy()[i], (1, 2, 0))\n",
    "        mean = np.array([0.4914, 0.4822, 0.4465])\n",
    "        std = np.array([0.2023, 0.1994, 0.2010])\n",
    "        picture_show = std * picture_show + mean\n",
    "        picture_show = np.clip(picture_show, 0, 1)\n",
    "        plt.imshow(picture_show)\n",
    "        plt.axis('off')\n",
    "\n",
    "    plt.show()\n",
    "\n",
    "\n",
    "# 使用测试数据集进行验证\n",
    "visualize_model(best_ckpt_path=best_ckpt_path, dataset_val=dataset_val)"
   ]
  }
 ],
 "metadata": {
  "kernelspec": {
   "display_name": "Python 3 (ipykernel)",
   "language": "python",
   "name": "python3"
  },
  "language_info": {
   "codemirror_mode": {
    "name": "ipython",
    "version": 3
   },
   "file_extension": ".py",
   "mimetype": "text/x-python",
   "name": "python",
   "nbconvert_exporter": "python",
   "pygments_lexer": "ipython3",
   "version": "3.9.21"
  }
 },
 "nbformat": 4,
 "nbformat_minor": 5
}
