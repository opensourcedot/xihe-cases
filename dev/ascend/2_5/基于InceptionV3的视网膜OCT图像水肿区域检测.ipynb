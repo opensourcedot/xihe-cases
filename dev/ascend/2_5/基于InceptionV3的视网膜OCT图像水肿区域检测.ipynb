{
 "cells": [
  {
   "cell_type": "markdown",
   "id": "71680298-b74d-45eb-977d-caa0f0e8bb93",
   "metadata": {
    "tags": []
   },
   "source": [
    "# 基于InceptionV3的视网膜OCT图像水肿区域检测"
   ]
  },
  {
   "cell_type": "markdown",
   "id": "c83d9efd-377a-4020-90f0-ea197a7c01f8",
   "metadata": {},
   "source": [
    "本教程构建了一个基于深度学习框架的诊断工具，用于筛查常见且可治疗的致盲性视网膜疾病。该框架采用迁移学习技术，利用传统方法所需数据的一小部分即可训练神经网络。在光学相干断层扫描（OCT）图像数据集上，证明了其在分类年龄相关性黄斑变性（AMD）和糖尿病性黄斑水肿（DME）方面能够达到与人类专家相媲美的性能。此外，通过可视化神经网络关注的区域，提升了诊断的透明性和可解释性。我们还进一步验证了该人工智能系统在使用胸部 X 线图像诊断儿童肺炎方面的广泛适用性。该工具有望加速这些可治疗疾病的诊断与转诊，从而促进早期治疗并改善临床预后。"
   ]
  },
  {
   "cell_type": "markdown",
   "id": "0a521cb3-bbcf-495c-a47b-6d57d59d20eb",
   "metadata": {
    "tags": []
   },
   "source": [
    "## 实验环境\n",
    "本实验基于 MindSpore 框架，并使用 MindCV 套件中 InceptionV3 预训练模型，模型地址：https://github.com/mindspore-lab/mindcv/blob/main/mindcv/models/inceptionv3.py\n",
    "\n",
    "软件环境：\n",
    "* python==3.9.0\n",
    "* mindspore==2.5.0\n",
    "* mindcv==0.3.0\n",
    "\n",
    "硬件环境：Ascend"
   ]
  },
  {
   "cell_type": "code",
   "execution_count": 1,
   "id": "58bb2652-ab3c-465e-88c6-254b81c5da15",
   "metadata": {},
   "outputs": [],
   "source": [
    "%%capture captured_output\n",
    "# 实验环境已经预装了mindspore==2.5.0，如需更换mindspore版本，可更改下面 MINDSPORE_VERSION 变量\n",
    "!pip uninstall mindspore -y\n",
    "%env MINDSPORE_VERSION=2.5.0\n",
    "!pip install https://ms-release.obs.cn-north-4.myhuaweicloud.com/${MINDSPORE_VERSION}/MindSpore/unified/aarch64/mindspore-${MINDSPORE_VERSION}-cp39-cp39-linux_aarch64.whl --trusted-host ms-release.obs.cn-north-4.myhuaweicloud.com -i https://pypi.tuna.tsinghua.edu.cn/simple"
   ]
  },
  {
   "cell_type": "code",
   "execution_count": 2,
   "id": "cf3bc825-5235-4665-9350-9952697e30b2",
   "metadata": {
    "scrolled": true,
    "tags": []
   },
   "outputs": [
    {
     "name": "stdout",
     "output_type": "stream",
     "text": [
      "Name: mindspore\n",
      "Version: 2.5.0\n",
      "Summary: MindSpore is a new open source deep learning training/inference framework that could be used for mobile, edge and cloud scenarios.\n",
      "Home-page: https://www.mindspore.cn\n",
      "Author: The MindSpore Authors\n",
      "Author-email: contact@mindspore.cn\n",
      "License: Apache 2.0\n",
      "Location: /home/mindspore/miniconda/envs/jupyter/lib/python3.9/site-packages\n",
      "Requires: asttokens, astunparse, dill, numpy, packaging, pillow, protobuf, psutil, safetensors, scipy\n",
      "Required-by: \n"
     ]
    }
   ],
   "source": [
    "# 查看当前 mindspore 版本\n",
    "!pip show mindspore"
   ]
  },
  {
   "cell_type": "code",
   "execution_count": 3,
   "id": "f824b3de-4eb1-4e8b-9931-3204a25afdaa",
   "metadata": {
    "scrolled": true,
    "tags": []
   },
   "outputs": [
    {
     "name": "stdout",
     "output_type": "stream",
     "text": [
      "Looking in indexes: https://repo.huaweicloud.com/repository/pypi/simple/\n",
      "Collecting mindcv\n",
      "  Downloading https://repo.huaweicloud.com/repository/pypi/packages/ec/52/86d80f119c428903ce8556557d027cac5a64b9f2e170876412f8d76d1885/mindcv-0.3.0-py3-none-any.whl (275 kB)\n",
      "Requirement already satisfied: numpy>=1.17.0 in /home/mindspore/miniconda/envs/jupyter/lib/python3.9/site-packages (from mindcv) (1.26.4)\n",
      "Requirement already satisfied: PyYAML>=5.3 in /home/mindspore/miniconda/envs/jupyter/lib/python3.9/site-packages (from mindcv) (6.0.2)\n",
      "Requirement already satisfied: tqdm in /home/mindspore/miniconda/envs/jupyter/lib/python3.9/site-packages (from mindcv) (4.67.1)\n",
      "Installing collected packages: mindcv\n",
      "Successfully installed mindcv-0.3.0\n"
     ]
    }
   ],
   "source": [
    "# 安装mindcv\n",
    "!pip install mindcv"
   ]
  },
  {
   "cell_type": "markdown",
   "id": "33ddca83-9c12-46b7-ac0f-1a9dd4fb92ac",
   "metadata": {},
   "source": [
    "## 数据集准备\n",
    "该实验采用开源数据集OCT2017，数据集下载地址为：https://data.mendeley.com/datasets/rscbjbr9sj/2\n",
    "\n",
    "该数据集包括四个类别：\n",
    "\n",
    "* CNV：脉络膜血管新生（Choroidal neovascularization）\n",
    "* DME：糖尿病黄斑水肿（Diabetic macular edema）\n",
    "* DRUSEN：脉络膜玻璃膜疣\n",
    "* NORMAL：正常"
   ]
  },
  {
   "cell_type": "code",
   "execution_count": 4,
   "id": "8937b56d-0142-4403-9418-fc20a2636954",
   "metadata": {
    "scrolled": true,
    "tags": []
   },
   "outputs": [
    {
     "name": "stdout",
     "output_type": "stream",
     "text": [
      "--2025-03-28 06:36:49--  https://data.mendeley.com/public-files/datasets/rscbjbr9sj/files/5699a1d8-d1b6-45db-bb92-b61051445347/file_downloaded\n",
      "正在解析主机 data.mendeley.com (data.mendeley.com)... 162.159.133.86, 162.159.130.86\n",
      "正在连接 data.mendeley.com (data.mendeley.com)|162.159.133.86|:443... 已连接。\n",
      "已发出 HTTP 请求，正在等待回应... 302 Found\n",
      "位置：https://prod-dcd-datasets-public-files-eu-west-1.s3.eu-west-1.amazonaws.com/9cfd5550-a37d-4404-9441-860ee091bc67 [跟随至新的 URL]\n",
      "--2025-03-28 06:36:52--  https://prod-dcd-datasets-public-files-eu-west-1.s3.eu-west-1.amazonaws.com/9cfd5550-a37d-4404-9441-860ee091bc67\n",
      "正在解析主机 prod-dcd-datasets-public-files-eu-west-1.s3.eu-west-1.amazonaws.com (prod-dcd-datasets-public-files-eu-west-1.s3.eu-west-1.amazonaws.com)... 52.218.122.74, 3.5.69.153, 3.5.67.121, ...\n",
      "正在连接 prod-dcd-datasets-public-files-eu-west-1.s3.eu-west-1.amazonaws.com (prod-dcd-datasets-public-files-eu-west-1.s3.eu-west-1.amazonaws.com)|52.218.122.74|:443... 已连接。\n",
      "已发出 HTTP 请求，正在等待回应... 200 OK\n",
      "长度：5793183169 (5.4G) [application/gzip]\n",
      "正在保存至: “./OCT2017.tar.gz”\n",
      "\n",
      "./OCT2017.tar.gz    100%[===================>]   5.39G  14.8MB/s  用时 16m 21s   \n",
      "\n",
      "2025-03-28 06:53:14 (5.63 MB/s) - 已保存 “./OCT2017.tar.gz” [5793183169/5793183169])\n",
      "\n"
     ]
    }
   ],
   "source": [
    "# 数据集下载\n",
    "!wget --no-check-certificate https://data.mendeley.com/public-files/datasets/rscbjbr9sj/files/5699a1d8-d1b6-45db-bb92-b61051445347/file_downloaded -O ./OCT2017.tar.gz"
   ]
  },
  {
   "cell_type": "code",
   "execution_count": 5,
   "id": "129a9358-82df-4105-8942-2b8f6acfb03b",
   "metadata": {
    "scrolled": true,
    "tags": []
   },
   "outputs": [],
   "source": [
    "# 解压数据集\n",
    "!tar -zxvf OCT2017.tar.gz > /dev/null 2>&1"
   ]
  },
  {
   "cell_type": "markdown",
   "id": "9a09679f-0632-4160-bfd4-5b9299b80c78",
   "metadata": {},
   "source": [
    "### 验证集构建\n",
    "从指定的“train”和“test”数据集中各随机抽取 10% 的图像，移动至新的“val”目录，以构建验证集。\n"
   ]
  },
  {
   "cell_type": "code",
   "execution_count": 6,
   "id": "05eb96cd-a33b-4ca7-810b-693db868e014",
   "metadata": {
    "scrolled": true,
    "tags": []
   },
   "outputs": [
    {
     "name": "stdout",
     "output_type": "stream",
     "text": [
      "val 数据集构建完成。\n"
     ]
    }
   ],
   "source": [
    "import os\n",
    "import shutil\n",
    "import random\n",
    "\n",
    "random.seed(42)  # 固定随机种子，确保结果可复现\n",
    "\n",
    "dataset_path = \"./OCT2017\"  # 数据集根目录\n",
    "train_folder = os.path.join(dataset_path, \"train\")\n",
    "test_folder = os.path.join(dataset_path, \"test\")\n",
    "val_folder = os.path.join(dataset_path, \"val\")\n",
    "\n",
    "categories = [\"CNV\", \"DME\", \"DRUSEN\", \"NORMAL\"]\n",
    "\n",
    "# 创建 val 文件夹及各类别子文件夹\n",
    "if not os.path.exists(val_folder):\n",
    "    os.mkdir(val_folder)\n",
    "for cat in categories:\n",
    "    cat_val_folder = os.path.join(val_folder, cat)\n",
    "    if not os.path.exists(cat_val_folder):\n",
    "        os.mkdir(cat_val_folder)\n",
    "\n",
    "# 设定从 train 和 test 目录分别抽取 10% 的数据到 val\n",
    "total_move_ratio = 0.2  # 总共 20% 的数据\n",
    "train_move_ratio = 0.1   # 10% 来自 train\n",
    "test_move_ratio = 0.1    # 10% 来自 test\n",
    "\n",
    "def move_images(source_folder, dest_folder, category, ratio):\n",
    "    source_cat_folder = os.path.join(source_folder, category)\n",
    "    dest_cat_folder = os.path.join(dest_folder, category)\n",
    "    \n",
    "    if not os.path.exists(source_cat_folder):\n",
    "        print(f\"警告: {source_cat_folder} 不存在，跳过。\")\n",
    "        return\n",
    "    \n",
    "    files = [f for f in os.listdir(source_cat_folder) if f.lower().endswith(('.jpeg', '.jpg'))]\n",
    "    num_to_move = int(len(files) * ratio)\n",
    "    files_to_move = random.sample(files, num_to_move) if num_to_move > 0 else []\n",
    "    \n",
    "    for file in files_to_move:\n",
    "        src_file = os.path.join(source_cat_folder, file)\n",
    "        dst_file = os.path.join(dest_cat_folder, file)\n",
    "        shutil.move(src_file, dst_file)\n",
    "        # print(f\"Moved {src_file} to {dst_file}\")\n",
    "\n",
    "# 从 train 和 test 目录中分别抽取部分数据\n",
    "for cat in categories:\n",
    "    move_images(train_folder, val_folder, cat, train_move_ratio)\n",
    "    move_images(test_folder, val_folder, cat, test_move_ratio)\n",
    "\n",
    "print(\"val 数据集构建完成。\")"
   ]
  },
  {
   "cell_type": "markdown",
   "id": "4c74681f-842b-429a-8323-2ca4cdd3d04f",
   "metadata": {},
   "source": [
    "## 训练与工具函数准备\n",
    "\n",
    "本模块提供了一系列工具函数，主要用于数据集管理、图像预处理、模型权重下载与保存、日志目录创建以及 ROC 曲线生成等操作。"
   ]
  },
  {
   "cell_type": "code",
   "execution_count": 10,
   "id": "e9f4882e-bc85-4d31-96f3-e799a60f2a1b",
   "metadata": {
    "scrolled": true,
    "tags": []
   },
   "outputs": [],
   "source": [
    "import sys\n",
    "import os\n",
    "from glob import glob\n",
    "from six.moves import urllib\n",
    "import tarfile\n",
    "import numpy as np\n",
    "import matplotlib.pyplot as plt\n",
    "from mindspore import Tensor\n",
    "import mindspore.common.dtype as mstype\n",
    "\n",
    "\n",
    "# 如果目录不存在则创建目录\n",
    "def create_directory(dir_path):\n",
    "    os.makedirs(dir_path, exist_ok=True)\n",
    "\n",
    "# 获取指定目录下所有 .jpeg 文件的文件名列表，并排序返回\n",
    "def get_image_files(image_dir):\n",
    "    fs = glob(\"{}/*.jpeg\".format(image_dir))\n",
    "    fs = [os.path.basename(filename) for filename in fs]\n",
    "    return sorted(fs)\n",
    "\n",
    "# 根据真实标签和预测得分生成并绘制 ROC 曲线，同时返回 AUC 值\n",
    "def generate_roc(y_test, y_score, pos_label=0):\n",
    "    from sklearn.metrics import roc_curve, auc\n",
    "    # 计算 FPR 和 TPR\n",
    "    fpr, tpr, _ = roc_curve(y_test, y_score, pos_label=pos_label)\n",
    "    # 计算 AUC 值\n",
    "    roc_auc = auc(fpr, tpr)\n",
    "    plt.figure()\n",
    "     # 绘制 ROC 曲线\n",
    "    plt.plot(fpr, tpr, label=\"ROC curve (area = %0.2f)\" % roc_auc)\n",
    "    # 绘制参考直线\n",
    "    plt.plot([0, 1], [0, 1], \"k--\")\n",
    "    plt.xlim([0.0, 1.05])\n",
    "    plt.ylim([0.0, 1.05])\n",
    "    plt.xlabel(\"False Positive Rate\")\n",
    "    plt.ylabel(\"True Positive Rate\")\n",
    "    plt.title(\"Receiver operating characteristic curve\")\n",
    "    plt.legend(loc=\"lower right\")\n",
    "    plt.show()\n",
    "    return roc_auc\n",
    "\n",
    "# 下载预训练权重文件（若 URL 不为空），并将其解压到目标目录中\n",
    "def download_pretrained_weights(inception_url, dest_dir):\n",
    "    if not inception_url:\n",
    "        return\n",
    "    create_directory(dest_dir)\n",
    "    filename = inception_url.split(\"/\")[-1]\n",
    "    filepath = os.path.join(dest_dir, filename)\n",
    "    # 若文件不存在则下载\n",
    "    if not os.path.exists(filepath):\n",
    "        def _progress(count, block_size, total_size):\n",
    "            sys.stdout.write(\"\\r>> Downloading {} {:0.1f}%\".format(\n",
    "                filename, float(count * block_size) / float(total_size) * 100.0))\n",
    "            sys.stdout.flush()\n",
    "        filepath, _ = urllib.request.urlretrieve(inception_url, filepath, _progress)\n",
    "        print()\n",
    "        statinfo = os.stat(filepath)\n",
    "        print(\"Successfully downloaded {} {} bytes.\".format(filename, statinfo.st_size))\n",
    "        tarfile.open(filepath, \"r:gz\").extractall(dest_dir)\n",
    "\n",
    "# 保存模型到 ckpt 文件（MindSpore 格式）\n",
    "def save_model(model, output_file, final_tensor_name):\n",
    "    from mindspore.train.serialization import save_checkpoint\n",
    "    ckpt_file = output_file + \".ckpt\"\n",
    "    save_checkpoint(model, ckpt_file)\n",
    "    print(\"Checkpoint saved to\", ckpt_file)\n",
    "\n",
    "# 根据数据集目录生成训练、测试和验证集的图像列表（以字典形式返回）    \n",
    "def create_image_lists(image_dir):\n",
    "    result = {}\n",
    "    training_images = []\n",
    "    testing_images = []\n",
    "    validation_images = []\n",
    "    \n",
    "    # 遍历 train、test 和 val 目录\n",
    "    for category in [\"train\", \"test\", \"val\"]:\n",
    "        category_path = os.path.join(image_dir, category)\n",
    "        try:\n",
    "            bins = next(os.walk(category_path))[1] # 获取子目录名称（即各类别）\n",
    "        except StopIteration:\n",
    "            sys.exit(\"ERROR: Missing either train/test/val folders in image_dir\")\n",
    "            \n",
    "        # 对每个类别收集图像文件名列表\n",
    "        for diagnosis in bins:\n",
    "            bin_path = os.path.join(category_path, diagnosis)\n",
    "            if category == \"train\":\n",
    "                training_images.append(get_image_files(bin_path))\n",
    "            if category == \"test\":\n",
    "                testing_images.append(get_image_files(bin_path))\n",
    "            if category == \"val\":\n",
    "                validation_images.append(get_image_files(bin_path))\n",
    "                \n",
    "    # 构造结果字典，键为类别名称，值为各类别在训练、测试和验证集中的图像列表\n",
    "    for diagnosis in bins:\n",
    "        result[diagnosis] = {\n",
    "            \"training\": training_images[bins.index(diagnosis)],\n",
    "            \"testing\": testing_images[bins.index(diagnosis)],\n",
    "            \"validation\": validation_images[bins.index(diagnosis)],\n",
    "        }\n",
    "    return result\n",
    "\n",
    "# 获取指定类别及索引图像的完整路径\n",
    "def get_image_path(image_lists, label_name, index, image_dir, category):\n",
    "    if label_name not in image_lists:\n",
    "        raise ValueError(\"Label does not exist: {}\".format(label_name))\n",
    "    label_lists = image_lists[label_name]\n",
    "    if category not in label_lists:\n",
    "        raise ValueError(\"Category does not exist: {}\".format(category))\n",
    "    category_list = label_lists[category]\n",
    "    if not category_list:\n",
    "        raise ValueError(\"Label {} has no images in the category {}.\".format(label_name, category))\n",
    "    mod_index = index % len(category_list)\n",
    "    base_name = category_list[mod_index]\n",
    "    \n",
    "     # 根据不同类别构造完整路径\n",
    "    if \"train\" in category:\n",
    "        full_path = os.path.join(image_dir, \"train\", label_name.upper(), base_name)\n",
    "    elif \"test\" in category:\n",
    "        full_path = os.path.join(image_dir, \"test\", label_name.upper(), base_name)\n",
    "    elif \"val\" in category:\n",
    "        full_path = os.path.join(image_dir, \"val\", label_name.upper(), base_name)\n",
    "    return full_path\n",
    "\n",
    "# 构造图像对应的瓶颈特征文件路径（附加特定后缀）\n",
    "def get_bottleneck_path(image_lists, label_name, index, bottleneck_dir, category):\n",
    "    return get_image_path(image_lists, label_name, index, bottleneck_dir, category) + \"_inception_v3.txt\"\n",
    "\n",
    "# 创建（或重建）用于 TensorBoard 的日志目录\n",
    "def create_tensorboard_directories(summaries_dir):\n",
    "    if os.path.exists(summaries_dir):\n",
    "        import shutil\n",
    "        shutil.rmtree(summaries_dir)\n",
    "    os.makedirs(summaries_dir)\n",
    "\n",
    "# 返回 JPEG 解码函数，用于将图像转换为固定尺寸、归一化的数组\n",
    "def decode_jpeg(input_width, input_height, input_depth, input_mean, input_std):\n",
    "    from PIL import Image\n",
    "    def decode_image_file(image_path):\n",
    "        img = Image.open(image_path)\n",
    "        img = img.convert(\"RGB\")\n",
    "        img = img.resize((input_width, input_height))\n",
    "        img_array = np.array(img).astype(np.float32)\n",
    "         # 归一化处理\n",
    "        img_array = (img_array - input_mean) / input_std\n",
    "        # 转换通道顺序\n",
    "        img_array = np.transpose(img_array, (2, 0, 1))\n",
    "        return img_array\n",
    "    return decode_image_file, decode_image_file\n",
    "\n",
    "# 直接读取图像文件并转换为指定尺寸的数组\n",
    "def decode_image(image_path, target_size):\n",
    "    from PIL import Image\n",
    "    img = Image.open(image_path)\n",
    "    img = img.convert(\"RGB\")\n",
    "    img = img.resize(target_size)\n",
    "    img_array = np.array(img).astype(np.float32)\n",
    "    img_array = np.transpose(img_array, (2, 0, 1))\n",
    "    return img_array"
   ]
  },
  {
   "cell_type": "markdown",
   "id": "32e774a4-1918-483f-88ff-f5d767c2c5b7",
   "metadata": {},
   "source": [
    "### 构造训练函数\n",
    "基于 MindSpore 框架加载 InceptionV3 预训练模型，提取瓶颈特征，并训练最终分类层。\n",
    "#### 主要功能：\n",
    "1. 模型配置：定义 InceptionV3 相关的参数，如输入尺寸、归一化参数等。\n",
    "2. 瓶颈特征提取：使用 InceptionV3 提取图像的瓶颈特征，并存储到本地。\n",
    "3. 数据处理：支持批量存储和读取瓶颈特征。\n",
    "4. 分类层训练：定义一个全连接层，使用瓶颈特征进行分类训练。\n",
    "5. 模型评估：计算模型的分类准确率。\n",
    "#### 关键步骤\n",
    "1. 加载 InceptionV3 预训练模型\n",
    "2. 定义瓶颈特征提取流程\n",
    "3. 存储和管理瓶颈特征\n",
    "4. 训练最终分类层\n",
    "5. 使用瓶颈特征进行批量训练\n",
    "6. 模型评估，计算准确率"
   ]
  },
  {
   "cell_type": "code",
   "execution_count": 11,
   "id": "6be50f95-41df-4d3e-9d22-20f80b0a796b",
   "metadata": {
    "tags": []
   },
   "outputs": [],
   "source": [
    "import os\n",
    "import random\n",
    "import numpy as np\n",
    "import mindspore as ms\n",
    "import mindspore.nn as nn\n",
    "from mindspore import Tensor\n",
    "import mindspore.common.dtype as mstype\n",
    "\n",
    "# 获取 InceptionV3 模型的相关配置参数\n",
    "def get_model_config():\n",
    "    # 使用 mindcv 的 InceptionV3 模型\n",
    "    inception_url = \"\"  # 预训练模型的下载地址（如果有的话）\n",
    "    bottleneck_tensor_size = 2048   # InceptionV3 瓶颈层特征向量的大小\n",
    "    input_width = 299   # 输入图像的宽度\n",
    "    input_height = 299  # 输入图像的高度\n",
    "    input_depth = 3  # 输入图像的通道数（RGB）\n",
    "    model_file_name = \"inception_v3.ms\"  # 预训练模型文件名\n",
    "    input_mean = 128  # 归一化时的均值\n",
    "    input_std = 128  # 归一化时的标准差\n",
    "    return {\n",
    "        \"inception_url\": inception_url,\n",
    "        \"bottleneck_tensor_size\": bottleneck_tensor_size,\n",
    "        \"input_width\": input_width,\n",
    "        \"input_height\": input_height,\n",
    "        \"input_depth\": input_depth,\n",
    "        \"model_file_name\": model_file_name,\n",
    "        \"input_mean\": input_mean,\n",
    "        \"input_std\": input_std,\n",
    "    }\n",
    "\n",
    "# 使用模型计算图像的瓶颈特征\n",
    "def run_bottleneck_on_image(model, image_data):\n",
    "    features = model(image_data)  # 通过模型提取特征\n",
    "    features = features.asnumpy().squeeze()  # 转换为 numpy 数组并去除多余维度\n",
    "    return features\n",
    "\n",
    "# 生成并保存瓶颈特征\n",
    "def create_bottleneck(bottleneck_path, image_path, model):\n",
    "    # print(\"Creating Bottleneck at {}\".format(bottleneck_path))\n",
    "    # 利用 decode_image 解码图像\n",
    "    img = decode_image(image_path, target_size=(get_model_config()[\"input_height\"], get_model_config()[\"input_width\"]))\n",
    "    bottleneck_values = run_bottleneck_on_image(model, Tensor(np.expand_dims(img, axis=0).astype(np.float32)))\n",
    "    bottleneck_string = \",\".join(str(x) for x in bottleneck_values)\n",
    "    # 创建目录（如果不存在）\n",
    "    bottleneck_dir = os.path.dirname(bottleneck_path)\n",
    "    os.makedirs(bottleneck_dir, exist_ok=True)\n",
    "    # 将瓶颈特征写入文件\n",
    "    with open(bottleneck_path, \"w\") as f:\n",
    "        f.write(bottleneck_string)\n",
    "\n",
    "# 读取或创建瓶颈特征\n",
    "def get_bottleneck(model, image_lists, label_name, index, image_dir, category, bottleneck_dir):\n",
    "    bottleneck_path = get_bottleneck_path(image_lists, label_name, index, bottleneck_dir, category)\n",
    "    # 如果瓶颈文件不存在，则创建它\n",
    "    if not os.path.exists(bottleneck_path):\n",
    "        image_path = get_image_path(image_lists, label_name, index, image_dir, category)\n",
    "        create_bottleneck(bottleneck_path, image_path, model)\n",
    "    # 读取瓶颈文件\n",
    "    with open(bottleneck_path, \"r\") as f:\n",
    "        bottleneck_string = f.read()\n",
    "    try:\n",
    "        bottleneck_values = [float(x) for x in bottleneck_string.split(\",\")]\n",
    "    except ValueError:\n",
    "        # 如果读取失败，则重新创建瓶颈文件\n",
    "        print(\"Error reading bottleneck, recreating bottleneck\")\n",
    "        image_path = get_image_path(image_lists, label_name, index, image_dir, category)\n",
    "        create_bottleneck(bottleneck_path, image_path, model)\n",
    "        with open(bottleneck_path, \"r\") as f:\n",
    "            bottleneck_string = f.read()\n",
    "        bottleneck_values = [float(x) for x in bottleneck_string.split(\",\")]\n",
    "    return bottleneck_values\n",
    "\n",
    "# 生成并存储所有瓶颈特征\n",
    "def store_bottlenecks(model, image_lists, image_dir, bottleneck_dir, jpeg_decoder, decoded_image_func, resized_image_processor):\n",
    "    num_bottlenecks = 0\n",
    "    os.makedirs(bottleneck_dir, exist_ok=True)\n",
    "    for label_name, label_lists in image_lists.items():\n",
    "        for category in label_lists:  # 直接遍历 training, testing, validation\n",
    "            for index, _ in enumerate(label_lists[category]):\n",
    "                get_bottleneck(model, image_lists, label_name, index, image_dir, category, bottleneck_dir)\n",
    "                num_bottlenecks += 1\n",
    "            # if num_bottlenecks % 1000 == 0:\n",
    "            #     print(\"{} bottleneck files created.\".format(num_bottlenecks))\n",
    "    print(f\"Bottleneck feature extraction completed. Total: {num_bottlenecks} files.\")\n",
    "\n",
    "# 定义最终的全连接分类层\n",
    "def train_final_layer(class_count, final_tensor_name, bottleneck_model, bottleneck_tensor_size, learning_rate):\n",
    "    class FinalLayer(nn.Cell):\n",
    "        def __init__(self, bottleneck_tensor_size, class_count):\n",
    "            super(FinalLayer, self).__init__()\n",
    "            self.fc = nn.Dense(\n",
    "                in_channels=bottleneck_tensor_size,\n",
    "                out_channels=class_count,\n",
    "                dtype=mstype.float32\n",
    "            )\n",
    "        def construct(self, x):\n",
    "            x = x.astype(np.float32)\n",
    "            x = x.view(-1, self.fc.in_channels)\n",
    "            return self.fc(x)\n",
    "    final_layer = FinalLayer(bottleneck_tensor_size, class_count)\n",
    "    loss_fn = nn.SoftmaxCrossEntropyWithLogits(sparse=False, reduction=\"mean\")\n",
    "    optimizer = nn.Adam(final_layer.trainable_params(), learning_rate=learning_rate)\n",
    "    return final_layer, loss_fn, optimizer\n",
    "\n",
    "# 创建评估计算图\n",
    "def create_evaluation_graph(final_layer, ground_truth_tensor):\n",
    "    evaluation_metric = nn.Accuracy()\n",
    "    return evaluation_metric\n",
    "\n",
    "# 构建 InceptionV3 相关的计算图\n",
    "def create_model_graph(model_config, model_dir):\n",
    "    from mindcv.models import inception_v3\n",
    "    pretrained_model = inception_v3(num_classes=1000, pretrained=True)\n",
    "    \n",
    "    # 定义瓶颈特征提取器\n",
    "    class BottleneckExtractor(nn.Cell):\n",
    "        def __init__(self, model):\n",
    "            super(BottleneckExtractor, self).__init__()\n",
    "            self.model = model\n",
    "        def construct(self, x):\n",
    "            x = self.model.forward_preaux(x)\n",
    "            x = self.model.forward_postaux(x)\n",
    "            x = self.model.pool(x)\n",
    "            x = self.model.dropout(x)\n",
    "            return x\n",
    "    bottleneck_extractor = BottleneckExtractor(pretrained_model)\n",
    "    \n",
    "    # 图像预处理\n",
    "    def resized_image_processor(image):\n",
    "        from mindspore.dataset.vision import vision\n",
    "        resize = vision.Resize((model_config[\"input_height\"], model_config[\"input_width\"]))\n",
    "        return resize(image)\n",
    "    return pretrained_model, bottleneck_extractor, resized_image_processor\n",
    "\n",
    "# 获取批量存储的瓶颈特征\n",
    "def get_batch_of_stored_bottlenecks(image_lists, batch_size, category, bottleneck_dir, image_dir, jpeg_decoder, decoded_image_func, resized_image_processor, bottleneck_model):\n",
    "    MAX_NUM_IMAGES_PER_CLASS = 2**27 - 1\n",
    "    class_count = len(image_lists.keys())\n",
    "    bottlenecks = []\n",
    "    ground_truths = []\n",
    "    filenames = []\n",
    "    if batch_size >= 0:\n",
    "        for i in range(batch_size):\n",
    "            label_index = random.randrange(class_count)\n",
    "            label_name = list(image_lists.keys())[label_index]\n",
    "            image_index = random.randrange(MAX_NUM_IMAGES_PER_CLASS + 1)\n",
    "            image_name = get_image_path(image_lists, label_name, image_index, image_dir, category)\n",
    "            bottleneck = get_bottleneck(bottleneck_model, image_lists, label_name, image_index, image_dir, category, bottleneck_dir)\n",
    "            ground_truth = np.zeros(class_count, dtype=np.float32)\n",
    "            ground_truth[label_index] = 1\n",
    "            bottlenecks.append(bottleneck)\n",
    "            ground_truths.append(ground_truth)\n",
    "            filenames.append(image_name)\n",
    "    else:\n",
    "        for label_index, label_name in enumerate(image_lists.keys()):\n",
    "            for image_index, image_name in enumerate(image_lists[label_name][category]):\n",
    "                image_name = get_image_path(image_lists, label_name, image_index, image_dir, category)\n",
    "                bottleneck = get_bottleneck(bottleneck_model, image_lists, label_name, image_index, image_dir, category, bottleneck_dir)\n",
    "                ground_truth = np.zeros(class_count, dtype=np.float32)\n",
    "                ground_truth[label_index] = 1.0\n",
    "                bottlenecks.append(bottleneck)\n",
    "                ground_truths.append(ground_truth)\n",
    "                filenames.append(image_name)\n",
    "    return np.array(bottlenecks), np.array(ground_truths), filenames\n",
    "\n",
    "# 创建 MindSpore 数据集\n",
    "def get_dataset_from_bottlenecks(bottlenecks, ground_truth):\n",
    "    import mindspore.dataset as ds\n",
    "    dataset = ds.NumpySlicesDataset({\"bottleneck\": bottlenecks, \"label\": ground_truth}, shuffle=True)\n",
    "    dataset = dataset.batch(bottlenecks.shape[0])\n",
    "    return dataset\n",
    "\n",
    "# 评估模型\n",
    "def evaluate_model(bottlenecks, ground_truth, final_layer, evaluation_metric, return_details=False):\n",
    "    bottlenecks_tensor = Tensor(bottlenecks.astype(np.float32))\n",
    "    logits = final_layer(bottlenecks_tensor)\n",
    "    predictions = logits.asnumpy()\n",
    "    true_labels = np.argmax(ground_truth, axis=1)\n",
    "    accuracy = evaluation_metric(Tensor(predictions), Tensor(true_labels))\n",
    "    if return_details:\n",
    "        return accuracy, predictions, predictions\n",
    "    else:\n",
    "        return accuracy, np.mean(logits.asnumpy())"
   ]
  },
  {
   "cell_type": "markdown",
   "id": "b5f76eb5-e53b-4903-8ba1-77ce7e9e40a8",
   "metadata": {
    "tags": []
   },
   "source": [
    "## 视网膜 OCT 图像分类训练流程\n",
    "\n",
    "### 1. 设置参数和环境\n",
    "- 通过 `FLAGS` 类定义数据路径和训练参数（学习率、训练步数、批次大小等）。\n",
    "- 设置 MindSpore 运行环境为 Ascend 设备的图模式（`GRAPH_MODE`）。\n",
    "\n",
    "### 2. 初始化与数据准备\n",
    "- 创建 TensorBoard 相关目录并打开日志文件。\n",
    "- 下载预训练模型（如 Inception），并加载用于瓶颈特征提取的网络。\n",
    "- 读取数据集，构建 `image_lists`，确保数据包含多个类别。\n",
    "- 预计算瓶颈特征（加速训练），并保存到 `bottleneck_dir`。\n",
    "\n",
    "### 3. 构建训练模型\n",
    "- 定义最终分类层，设置损失函数和优化器。\n",
    "- 通过 `MindSpore Model` 组织训练流程，并添加准确率评估指标。\n",
    "\n",
    "### 4. 模型训练\n",
    "- 进行 `training_steps` 轮训练，每 `eval_frequency` 轮评估一次训练和验证集的准确率。\n",
    "- 选择最佳验证准确率的模型进行保存。\n",
    "\n",
    "### 5. 模型测试\n",
    "- 使用测试集数据评估最终模型，并计算测试准确率。\n",
    "- 记录训练总耗时。\n",
    "\n",
    "### 6. 计算 AUC\n",
    "- 计算 ROC 曲线，并计算 AUC 作为最终评估指标。\n",
    "\n",
    "本流程涵盖了数据预处理、模型训练、评估与测试，并记录关键日志。\n"
   ]
  },
  {
   "cell_type": "code",
   "execution_count": 12,
   "id": "b5ec508d-7eba-4ae4-95c5-de044e949b44",
   "metadata": {
    "scrolled": true,
    "tags": []
   },
   "outputs": [
    {
     "name": "stdout",
     "output_type": "stream",
     "text": [
      "Logging: INFO\n"
     ]
    },
    {
     "name": "stderr",
     "output_type": "stream",
     "text": [
      "[ERROR] CORE(92,ffff81325020,python):2025-03-28-07:05:28.886.430 [mindspore/core/utils/file_utils.cc:253] GetRealPath] Get realpath failed, path[/tmp/ipykernel_92/527617648.py]\n",
      "[WARNING] CORE(92,ffff81325020,python):2025-03-28-07:05:28.886.480 [mindspore/core/utils/info.cc:121] ToString] The file '/tmp/ipykernel_92/527617648.py' may not exists.\n"
     ]
    },
    {
     "name": "stdout",
     "output_type": "stream",
     "text": [
      ".Bottleneck feature extraction completed. Total: 84475 files.\n"
     ]
    },
    {
     "name": "stderr",
     "output_type": "stream",
     "text": [
      "Training Progress:   0%|          | 0/5000 [00:00<?, ?it/s]"
     ]
    },
    {
     "name": "stdout",
     "output_type": "stream",
     "text": [
      ".."
     ]
    },
    {
     "name": "stderr",
     "output_type": "stream",
     "text": [
      "Training Progress:   0%|          | 1/5000 [00:16<23:07:42, 16.66s/it]"
     ]
    },
    {
     "name": "stdout",
     "output_type": "stream",
     "text": [
      "Checkpoint saved to /home/mindspore/work/MS_Demo/retrained_model.ckpt\n",
      "Step 0: loss = -0.22039273381233215 train acc = 0.3046875 val acc = 0.11769586345857533\n"
     ]
    },
    {
     "name": "stderr",
     "output_type": "stream",
     "text": [
      "Training Progress:   2%|▏         | 101/5000 [00:55<3:55:44,  2.89s/it]"
     ]
    },
    {
     "name": "stdout",
     "output_type": "stream",
     "text": [
      "Checkpoint saved to /home/mindspore/work/MS_Demo/retrained_model.ckpt\n",
      "Step 100: loss = -0.27786582708358765 train acc = 0.55078125 val acc = 0.6136067322508001\n"
     ]
    },
    {
     "name": "stderr",
     "output_type": "stream",
     "text": [
      "Training Progress:   4%|▍         | 201/5000 [01:33<4:08:18,  3.10s/it]"
     ]
    },
    {
     "name": "stdout",
     "output_type": "stream",
     "text": [
      "Checkpoint saved to /home/mindspore/work/MS_Demo/retrained_model.ckpt\n",
      "Step 200: loss = -0.3243280053138733 train acc = 0.59375 val acc = 0.6741732843427759\n"
     ]
    },
    {
     "name": "stderr",
     "output_type": "stream",
     "text": [
      "Training Progress:   6%|▌         | 301/5000 [02:12<4:15:34,  3.26s/it]"
     ]
    },
    {
     "name": "stdout",
     "output_type": "stream",
     "text": [
      "Step 300: loss = -0.3789061903953552 train acc = 0.640625 val acc = 0.6096953893564063\n"
     ]
    },
    {
     "name": "stderr",
     "output_type": "stream",
     "text": [
      "Training Progress:   8%|▊         | 401/5000 [02:53<4:31:26,  3.54s/it]"
     ]
    },
    {
     "name": "stdout",
     "output_type": "stream",
     "text": [
      "Step 400: loss = -0.4094407856464386 train acc = 0.65625 val acc = 0.643238117814389\n"
     ]
    },
    {
     "name": "stderr",
     "output_type": "stream",
     "text": [
      "Training Progress:  10%|█         | 501/5000 [03:33<3:51:14,  3.08s/it]"
     ]
    },
    {
     "name": "stdout",
     "output_type": "stream",
     "text": [
      "Step 500: loss = -0.4333704113960266 train acc = 0.5703125 val acc = 0.6420528623918454\n"
     ]
    },
    {
     "name": "stderr",
     "output_type": "stream",
     "text": [
      "Training Progress:  12%|█▏        | 601/5000 [04:12<3:58:21,  3.25s/it]"
     ]
    },
    {
     "name": "stdout",
     "output_type": "stream",
     "text": [
      "Checkpoint saved to /home/mindspore/work/MS_Demo/retrained_model.ckpt\n",
      "Step 600: loss = -0.4426540434360504 train acc = 0.65625 val acc = 0.6936114732724902\n"
     ]
    },
    {
     "name": "stderr",
     "output_type": "stream",
     "text": [
      "Training Progress:  14%|█▍        | 701/5000 [04:51<3:50:04,  3.21s/it]"
     ]
    },
    {
     "name": "stdout",
     "output_type": "stream",
     "text": [
      "Step 700: loss = -0.457197904586792 train acc = 0.62109375 val acc = 0.6606613725257793\n"
     ]
    },
    {
     "name": "stderr",
     "output_type": "stream",
     "text": [
      "Training Progress:  16%|█▌        | 801/5000 [05:30<3:40:01,  3.14s/it]"
     ]
    },
    {
     "name": "stdout",
     "output_type": "stream",
     "text": [
      "Checkpoint saved to /home/mindspore/work/MS_Demo/retrained_model.ckpt\n",
      "Step 800: loss = -0.48080116510391235 train acc = 0.609375 val acc = 0.7021453123148038\n"
     ]
    },
    {
     "name": "stderr",
     "output_type": "stream",
     "text": [
      "Training Progress:  18%|█▊        | 901/5000 [06:08<3:34:13,  3.14s/it]"
     ]
    },
    {
     "name": "stdout",
     "output_type": "stream",
     "text": [
      "Step 900: loss = -0.4726446270942688 train acc = 0.59765625 val acc = 0.6799810359132393\n"
     ]
    },
    {
     "name": "stderr",
     "output_type": "stream",
     "text": [
      "Training Progress:  20%|██        | 1001/5000 [06:45<3:30:43,  3.16s/it]"
     ]
    },
    {
     "name": "stdout",
     "output_type": "stream",
     "text": [
      "Step 1000: loss = -0.4961070418357849 train acc = 0.6328125 val acc = 0.6658764963849709\n"
     ]
    },
    {
     "name": "stderr",
     "output_type": "stream",
     "text": [
      "Training Progress:  22%|██▏       | 1101/5000 [07:23<3:27:09,  3.19s/it]"
     ]
    },
    {
     "name": "stdout",
     "output_type": "stream",
     "text": [
      "Step 1100: loss = -0.4953887462615967 train acc = 0.66015625 val acc = 0.6981154438781557\n"
     ]
    },
    {
     "name": "stderr",
     "output_type": "stream",
     "text": [
      "Training Progress:  24%|██▍       | 1201/5000 [08:05<3:43:45,  3.53s/it]"
     ]
    },
    {
     "name": "stdout",
     "output_type": "stream",
     "text": [
      "Step 1200: loss = -0.52284175157547 train acc = 0.62109375 val acc = 0.669550788194856\n"
     ]
    },
    {
     "name": "stderr",
     "output_type": "stream",
     "text": [
      "Training Progress:  26%|██▌       | 1301/5000 [08:44<3:09:16,  3.07s/it]"
     ]
    },
    {
     "name": "stdout",
     "output_type": "stream",
     "text": [
      "Step 1300: loss = -0.5369048714637756 train acc = 0.6171875 val acc = 0.6488088183003438\n"
     ]
    },
    {
     "name": "stderr",
     "output_type": "stream",
     "text": [
      "Training Progress:  28%|██▊       | 1401/5000 [09:23<3:06:03,  3.10s/it]"
     ]
    },
    {
     "name": "stdout",
     "output_type": "stream",
     "text": [
      "Step 1400: loss = -0.5349594354629517 train acc = 0.6328125 val acc = 0.6543795187862984\n"
     ]
    },
    {
     "name": "stderr",
     "output_type": "stream",
     "text": [
      "Training Progress:  30%|███       | 1501/5000 [10:01<3:05:11,  3.18s/it]"
     ]
    },
    {
     "name": "stdout",
     "output_type": "stream",
     "text": [
      "Checkpoint saved to /home/mindspore/work/MS_Demo/retrained_model.ckpt\n",
      "Step 1500: loss = -0.5282431244850159 train acc = 0.6796875 val acc = 0.7055825530401801\n"
     ]
    },
    {
     "name": "stderr",
     "output_type": "stream",
     "text": [
      "Training Progress:  32%|███▏      | 1601/5000 [10:38<2:57:43,  3.14s/it]"
     ]
    },
    {
     "name": "stdout",
     "output_type": "stream",
     "text": [
      "Step 1600: loss = -0.5355967283248901 train acc = 0.671875 val acc = 0.6936114732724902\n"
     ]
    },
    {
     "name": "stderr",
     "output_type": "stream",
     "text": [
      "Training Progress:  34%|███▍      | 1701/5000 [11:16<2:51:53,  3.13s/it]"
     ]
    },
    {
     "name": "stdout",
     "output_type": "stream",
     "text": [
      "Step 1700: loss = -0.5616157054901123 train acc = 0.71484375 val acc = 0.687211093990755\n"
     ]
    },
    {
     "name": "stderr",
     "output_type": "stream",
     "text": [
      "Training Progress:  36%|███▌      | 1801/5000 [11:53<2:43:27,  3.07s/it]"
     ]
    },
    {
     "name": "stdout",
     "output_type": "stream",
     "text": [
      "Checkpoint saved to /home/mindspore/work/MS_Demo/retrained_model.ckpt\n",
      "Step 1800: loss = -0.5504646301269531 train acc = 0.65625 val acc = 0.7137608154557307\n"
     ]
    },
    {
     "name": "stderr",
     "output_type": "stream",
     "text": [
      "Training Progress:  38%|███▊      | 1901/5000 [12:30<2:38:45,  3.07s/it]"
     ]
    },
    {
     "name": "stdout",
     "output_type": "stream",
     "text": [
      "Step 1900: loss = -0.5744730234146118 train acc = 0.70703125 val acc = 0.6553277231243333\n"
     ]
    },
    {
     "name": "stderr",
     "output_type": "stream",
     "text": [
      "Training Progress:  40%|████      | 2001/5000 [13:11<2:52:05,  3.44s/it]"
     ]
    },
    {
     "name": "stdout",
     "output_type": "stream",
     "text": [
      "Step 2000: loss = -0.5847660303115845 train acc = 0.671875 val acc = 0.6817589190470547\n"
     ]
    },
    {
     "name": "stderr",
     "output_type": "stream",
     "text": [
      "Training Progress:  46%|████▌     | 2301/5000 [15:06<2:19:42,  3.11s/it]"
     ]
    },
    {
     "name": "stdout",
     "output_type": "stream",
     "text": [
      "Checkpoint saved to /home/mindspore/work/MS_Demo/retrained_model.ckpt\n",
      "Step 2300: loss = -0.5739045143127441 train acc = 0.6953125 val acc = 0.7371103472798388\n"
     ]
    },
    {
     "name": "stderr",
     "output_type": "stream",
     "text": [
      "Training Progress:  48%|████▊     | 2401/5000 [15:44<2:12:02,  3.05s/it]"
     ]
    },
    {
     "name": "stdout",
     "output_type": "stream",
     "text": [
      "Step 2400: loss = -0.5898727774620056 train acc = 0.67578125 val acc = 0.6827071233850894\n"
     ]
    },
    {
     "name": "stderr",
     "output_type": "stream",
     "text": [
      "Training Progress:  50%|█████     | 2501/5000 [16:21<2:06:45,  3.04s/it]"
     ]
    },
    {
     "name": "stdout",
     "output_type": "stream",
     "text": [
      "Step 2500: loss = -0.5778603553771973 train acc = 0.6640625 val acc = 0.7213464501600095\n"
     ]
    },
    {
     "name": "stderr",
     "output_type": "stream",
     "text": [
      "Training Progress:  52%|█████▏    | 2601/5000 [16:58<2:00:54,  3.02s/it]"
     ]
    },
    {
     "name": "stdout",
     "output_type": "stream",
     "text": [
      "Step 2600: loss = -0.5854548215866089 train acc = 0.65625 val acc = 0.7195685670261941\n"
     ]
    },
    {
     "name": "stderr",
     "output_type": "stream",
     "text": [
      "Training Progress:  54%|█████▍    | 2701/5000 [17:36<2:07:50,  3.34s/it]"
     ]
    },
    {
     "name": "stdout",
     "output_type": "stream",
     "text": [
      "Step 2700: loss = -0.5904163718223572 train acc = 0.7109375 val acc = 0.7189759393149223\n"
     ]
    },
    {
     "name": "stderr",
     "output_type": "stream",
     "text": [
      "Training Progress:  56%|█████▌    | 2801/5000 [18:17<2:04:00,  3.38s/it]"
     ]
    },
    {
     "name": "stdout",
     "output_type": "stream",
     "text": [
      "Step 2800: loss = -0.6026269793510437 train acc = 0.71875 val acc = 0.7167239540120897\n"
     ]
    },
    {
     "name": "stderr",
     "output_type": "stream",
     "text": [
      "Training Progress:  58%|█████▊    | 2901/5000 [18:56<1:50:21,  3.15s/it]"
     ]
    },
    {
     "name": "stdout",
     "output_type": "stream",
     "text": [
      "Step 2900: loss = -0.6209189891815186 train acc = 0.6875 val acc = 0.7220576034135356\n"
     ]
    },
    {
     "name": "stderr",
     "output_type": "stream",
     "text": [
      "Training Progress:  60%|██████    | 3001/5000 [19:34<1:42:52,  3.09s/it]"
     ]
    },
    {
     "name": "stdout",
     "output_type": "stream",
     "text": [
      "Checkpoint saved to /home/mindspore/work/MS_Demo/retrained_model.ckpt\n",
      "Step 3000: loss = -0.5879384875297546 train acc = 0.71875 val acc = 0.7431551499348109\n"
     ]
    },
    {
     "name": "stderr",
     "output_type": "stream",
     "text": [
      "Training Progress:  62%|██████▏   | 3101/5000 [20:12<1:37:33,  3.08s/it]"
     ]
    },
    {
     "name": "stdout",
     "output_type": "stream",
     "text": [
      "Step 3100: loss = -0.6078305840492249 train acc = 0.7109375 val acc = 0.7321322745051558\n"
     ]
    },
    {
     "name": "stderr",
     "output_type": "stream",
     "text": [
      "Training Progress:  64%|██████▍   | 3201/5000 [20:49<1:30:22,  3.01s/it]"
     ]
    },
    {
     "name": "stdout",
     "output_type": "stream",
     "text": [
      "Step 3200: loss = -0.6081521511077881 train acc = 0.6953125 val acc = 0.730828493540358\n"
     ]
    },
    {
     "name": "stderr",
     "output_type": "stream",
     "text": [
      "Training Progress:  66%|██████▌   | 3301/5000 [21:27<1:29:16,  3.15s/it]"
     ]
    },
    {
     "name": "stdout",
     "output_type": "stream",
     "text": [
      "Step 3300: loss = -0.6432962417602539 train acc = 0.66796875 val acc = 0.6856702619414484\n"
     ]
    },
    {
     "name": "stderr",
     "output_type": "stream",
     "text": [
      "Training Progress:  68%|██████▊   | 3401/5000 [22:04<1:23:07,  3.12s/it]"
     ]
    },
    {
     "name": "stdout",
     "output_type": "stream",
     "text": [
      "Step 3400: loss = -0.6178998947143555 train acc = 0.72265625 val acc = 0.7064122318359607\n"
     ]
    },
    {
     "name": "stderr",
     "output_type": "stream",
     "text": [
      "Training Progress:  74%|███████▍  | 3701/5000 [24:04<1:06:45,  3.08s/it]"
     ]
    },
    {
     "name": "stdout",
     "output_type": "stream",
     "text": [
      "Step 3700: loss = -0.633251428604126 train acc = 0.69921875 val acc = 0.6994192248429536\n"
     ]
    },
    {
     "name": "stderr",
     "output_type": "stream",
     "text": [
      "Training Progress:  76%|███████▌  | 3801/5000 [24:42<1:00:31,  3.03s/it]"
     ]
    },
    {
     "name": "stdout",
     "output_type": "stream",
     "text": [
      "Step 3800: loss = -0.6298139691352844 train acc = 0.7265625 val acc = 0.7298802892023231\n"
     ]
    },
    {
     "name": "stderr",
     "output_type": "stream",
     "text": [
      "Training Progress:  78%|███████▊  | 3901/5000 [25:20<57:34,  3.14s/it]  "
     ]
    },
    {
     "name": "stdout",
     "output_type": "stream",
     "text": [
      "Step 3900: loss = -0.6285020709037781 train acc = 0.69921875 val acc = 0.7194500414839398\n"
     ]
    },
    {
     "name": "stderr",
     "output_type": "stream",
     "text": [
      "Training Progress:  80%|████████  | 4001/5000 [25:58<51:22,  3.09s/it]"
     ]
    },
    {
     "name": "stdout",
     "output_type": "stream",
     "text": [
      "Step 4000: loss = -0.6453887224197388 train acc = 0.6796875 val acc = 0.7060566552091976\n"
     ]
    },
    {
     "name": "stderr",
     "output_type": "stream",
     "text": [
      "Training Progress:  82%|████████▏ | 4101/5000 [26:35<46:06,  3.08s/it]"
     ]
    },
    {
     "name": "stdout",
     "output_type": "stream",
     "text": [
      "Step 4100: loss = -0.6387050151824951 train acc = 0.68359375 val acc = 0.711864406779661\n"
     ]
    },
    {
     "name": "stderr",
     "output_type": "stream",
     "text": [
      "Training Progress:  84%|████████▍ | 4201/5000 [27:12<40:14,  3.02s/it]"
     ]
    },
    {
     "name": "stdout",
     "output_type": "stream",
     "text": [
      "Step 4200: loss = -0.64223712682724 train acc = 0.6953125 val acc = 0.7374659239066019\n"
     ]
    },
    {
     "name": "stderr",
     "output_type": "stream",
     "text": [
      "Training Progress:  86%|████████▌ | 4301/5000 [27:52<41:18,  3.55s/it]"
     ]
    },
    {
     "name": "stdout",
     "output_type": "stream",
     "text": [
      "Step 4300: loss = -0.6369646787643433 train acc = 0.70703125 val acc = 0.7192129903994311\n"
     ]
    },
    {
     "name": "stderr",
     "output_type": "stream",
     "text": [
      "Training Progress:  88%|████████▊ | 4401/5000 [28:32<31:02,  3.11s/it]"
     ]
    },
    {
     "name": "stdout",
     "output_type": "stream",
     "text": [
      "Step 4400: loss = -0.6506205797195435 train acc = 0.6953125 val acc = 0.7199241436529572\n"
     ]
    },
    {
     "name": "stderr",
     "output_type": "stream",
     "text": [
      "Training Progress:  90%|█████████ | 4501/5000 [29:11<25:34,  3.08s/it]"
     ]
    },
    {
     "name": "stdout",
     "output_type": "stream",
     "text": [
      "Step 4500: loss = -0.6559533476829529 train acc = 0.7421875 val acc = 0.7244281142586227\n"
     ]
    },
    {
     "name": "stderr",
     "output_type": "stream",
     "text": [
      "Training Progress:  92%|█████████▏| 4601/5000 [29:49<20:10,  3.03s/it]"
     ]
    },
    {
     "name": "stdout",
     "output_type": "stream",
     "text": [
      "Step 4600: loss = -0.6554387807846069 train acc = 0.71875 val acc = 0.7179092094346332\n"
     ]
    },
    {
     "name": "stderr",
     "output_type": "stream",
     "text": [
      "Training Progress:  94%|█████████▍| 4701/5000 [30:27<15:38,  3.14s/it]"
     ]
    },
    {
     "name": "stdout",
     "output_type": "stream",
     "text": [
      "Step 4700: loss = -0.6616194844245911 train acc = 0.70703125 val acc = 0.6767808462723717\n"
     ]
    },
    {
     "name": "stderr",
     "output_type": "stream",
     "text": [
      "Training Progress:  96%|█████████▌| 4801/5000 [31:05<10:18,  3.11s/it]"
     ]
    },
    {
     "name": "stdout",
     "output_type": "stream",
     "text": [
      "Step 4800: loss = -0.6737197637557983 train acc = 0.69140625 val acc = 0.7235984354628422\n"
     ]
    },
    {
     "name": "stderr",
     "output_type": "stream",
     "text": [
      "Training Progress:  98%|█████████▊| 4901/5000 [31:42<05:04,  3.07s/it]"
     ]
    },
    {
     "name": "stdout",
     "output_type": "stream",
     "text": [
      "Step 4900: loss = -0.6665873527526855 train acc = 0.68359375 val acc = 0.7231243332938249\n"
     ]
    },
    {
     "name": "stderr",
     "output_type": "stream",
     "text": [
      "Training Progress: 100%|██████████| 5000/5000 [32:19<00:00,  2.58it/s]"
     ]
    },
    {
     "name": "stdout",
     "output_type": "stream",
     "text": [
      "Step 4999: loss = -0.675876259803772 train acc = 0.68359375 val acc = 0.6993006993006993\n"
     ]
    },
    {
     "name": "stderr",
     "output_type": "stream",
     "text": [
      "\n"
     ]
    },
    {
     "name": "stdout",
     "output_type": "stream",
     "text": [
      ".Best validation accuracy = 75.12148868081071\n",
      "Final test accuracy = 83.55555555555556\n",
      "总推理时间: 1.16 秒\n",
      "每张图片的平均推理时间: 0.0013 秒\n",
      "Total Model Runtime: 32min, 21.39sec\n"
     ]
    },
    {
     "data": {
      "image/png": "[encoded data removed]",
      "text/plain": [
       "<Figure size 640x480 with 1 Axes>"
      ]
     },
     "metadata": {},
     "output_type": "display_data"
    },
    {
     "name": "stdout",
     "output_type": "stream",
     "text": [
      "Final Model AUC: 94.23%\n"
     ]
    }
   ],
   "source": [
    "import os\n",
    "import sys\n",
    "import time\n",
    "import numpy as np\n",
    "import mindspore as ms\n",
    "from mindspore import context\n",
    "from tqdm import tqdm\n",
    "\n",
    "# 在 Notebook 中直接定义参数，不使用命令行参数\n",
    "class FLAGS:\n",
    "    images = \"/home/mindspore/work/OCT2017\"\n",
    "    output_graph = \"/home/mindspore/work/MS_Demo/retrained_model\"\n",
    "    output_labels = \"/home/mindspore/work/MS_Demo/output_labels.txt\"\n",
    "    summaries_dir = \"/home/mindspore/work/MS_Demo/retrain_logs\"\n",
    "    training_steps = 5000\n",
    "    learning_rate = 0.001\n",
    "    eval_frequency = 100\n",
    "    train_batch_size = 256\n",
    "    test_batch_size = -1\n",
    "    validation_batch_size = -1\n",
    "    model_dir = \"/home/mindspore/work/MS_Demo/imagenet\"\n",
    "    bottleneck_dir = \"/home/mindspore/work/MS_Demo/bottleneck\"\n",
    "    final_tensor_name = \"final_result\"\n",
    "\n",
    "# 设置 MindSpore 运行环境\n",
    "ms.set_device(\"Ascend\")\n",
    "context.set_context(mode=context.GRAPH_MODE)\n",
    "print(\"Logging: INFO\")\n",
    "\n",
    "# 创建日志目录，并打开日志文件\n",
    "create_tensorboard_directories(FLAGS.summaries_dir)\n",
    "log_file_path = os.path.join(FLAGS.summaries_dir, \"training.log\")\n",
    "log_file = open(log_file_path, \"w\")\n",
    "\n",
    "# 设置模型参数\n",
    "model_config = get_model_config()\n",
    "\n",
    "# 如果 inception_url 非空，则下载预训练权重\n",
    "if model_config.get(\"inception_url\"):\n",
    "    download_pretrained_weights(model_config[\"inception_url\"], FLAGS.model_dir)\n",
    "\n",
    "# 加载预训练模型并构造瓶颈提取器与图像预处理函数\n",
    "pretrained_model, bottleneck_extractor, resized_image_processor = create_model_graph(model_config, FLAGS.model_dir)\n",
    "\n",
    "# 构建所有图像的列表\n",
    "image_lists = create_image_lists(FLAGS.images)\n",
    "class_count = len(image_lists.keys())\n",
    "if class_count == 0:\n",
    "    print(\"ERROR: No valid folders of images found at \" + FLAGS.images)\n",
    "    sys.exit(-1)\n",
    "if class_count == 1:\n",
    "    print(\"ERROR: Only one valid folder of images found at \" + FLAGS.images + \" - multiple classes are needed for classification.\")\n",
    "    sys.exit(-1)\n",
    "\n",
    "# 写出标签文件\n",
    "with open(FLAGS.output_labels, \"w\") as f:\n",
    "    f.write(\"\\n\".join(image_lists.keys()) + \"\\n\")\n",
    "\n",
    "# 设置图像解码函数\n",
    "jpeg_decoder, decoded_image_func = decode_jpeg(\n",
    "    model_config[\"input_width\"], model_config[\"input_height\"],\n",
    "    model_config[\"input_depth\"], model_config[\"input_mean\"],\n",
    "    model_config[\"input_std\"]\n",
    ")\n",
    "\n",
    "# 预先计算并保存瓶颈特征\n",
    "store_bottlenecks(bottleneck_extractor, image_lists, FLAGS.images, FLAGS.bottleneck_dir,\n",
    "                  jpeg_decoder, decoded_image_func, resized_image_processor)\n",
    "\n",
    "# 训练最终分类层\n",
    "final_layer, loss_fn, optimizer = train_final_layer(\n",
    "    len(image_lists.keys()), FLAGS.final_tensor_name, bottleneck_extractor,\n",
    "    model_config[\"bottleneck_tensor_size\"], FLAGS.learning_rate\n",
    ")\n",
    "\n",
    "# 创建评估指标\n",
    "evaluation_metric = create_evaluation_graph(final_layer, None)\n",
    "\n",
    "# 构造 MindSpore Model\n",
    "final_model = ms.Model(final_layer, loss_fn=loss_fn, optimizer=optimizer, metrics={\"Accuracy\": ms.nn.Accuracy()})\n",
    "\n",
    "best_acc = 0.0\n",
    "since = time.time()\n",
    "\n",
    "# 训练循环\n",
    "# for i in range(FLAGS.training_steps):\n",
    "for i in tqdm(range(FLAGS.training_steps), desc=\"Training Progress\"):\n",
    "    # 获取训练阶段的瓶颈特征\n",
    "    train_bottlenecks, train_ground_truth, _ = get_batch_of_stored_bottlenecks(\n",
    "        image_lists, FLAGS.train_batch_size, \"training\",\n",
    "        FLAGS.bottleneck_dir, FLAGS.images, jpeg_decoder,\n",
    "        decoded_image_func, resized_image_processor, bottleneck_extractor\n",
    "    )\n",
    "    train_dataset = get_dataset_from_bottlenecks(train_bottlenecks, train_ground_truth)\n",
    "    final_model.train(1, train_dataset=train_dataset, dataset_sink_mode=False)\n",
    "    final_step = (i + 1 == FLAGS.training_steps)\n",
    "    if (i % FLAGS.eval_frequency == 0) or final_step:\n",
    "        train_accuracy, ce_value = evaluate_model(train_bottlenecks, train_ground_truth, final_layer, evaluation_metric)\n",
    "        validation_bottlenecks, validation_ground_truth, _ = get_batch_of_stored_bottlenecks(\n",
    "            image_lists, FLAGS.validation_batch_size, \"validation\",\n",
    "            FLAGS.bottleneck_dir, FLAGS.images, jpeg_decoder,\n",
    "            decoded_image_func, resized_image_processor, bottleneck_extractor\n",
    "        )\n",
    "        val_accuracy, _ = evaluate_model(validation_bottlenecks, validation_ground_truth, final_layer, evaluation_metric)\n",
    "        if val_accuracy > best_acc:\n",
    "            best_acc = val_accuracy\n",
    "            save_model(final_layer, FLAGS.output_graph, FLAGS.final_tensor_name)\n",
    "        log_line = \"Step {}: loss = {} train acc = {} val acc = {}\\n\".format(i, ce_value, train_accuracy, val_accuracy)\n",
    "        print(log_line.strip())\n",
    "        log_file.write(log_line)\n",
    "\n",
    "# 测试阶段评估\n",
    "test_bottlenecks, test_ground_truth, test_filenames = get_batch_of_stored_bottlenecks(\n",
    "    image_lists, FLAGS.test_batch_size, \"testing\",\n",
    "    FLAGS.bottleneck_dir, FLAGS.images, jpeg_decoder,\n",
    "    decoded_image_func, resized_image_processor, bottleneck_extractor\n",
    ")\n",
    "# 测量测试数据的推理时间\n",
    "start_time = time.time()\n",
    "\n",
    "test_accuracy, predictions, probabilities = evaluate_model(test_bottlenecks, test_ground_truth, final_layer, evaluation_metric, return_details=True)\n",
    "\n",
    "# 停止计时\n",
    "end_time = time.time()\n",
    "# 计算总推理时间\n",
    "inference_time = end_time - start_time\n",
    "\n",
    "print(\"Best validation accuracy = {}\".format(best_acc * 100))\n",
    "print(\"Final test accuracy = {}\".format(test_accuracy * 100))\n",
    "\n",
    "# 如果你想计算每张图片的平均推理时间（假设你有一批测试图像）：\n",
    "num_test_images = len(test_bottlenecks)  # 测试集中的图片数量\n",
    "average_inference_time_per_image = inference_time / num_test_images\n",
    "\n",
    "# 输出结果\n",
    "print(f\"总推理时间: {inference_time:.2f} 秒\")\n",
    "print(f\"每张图片的平均推理时间: {average_inference_time_per_image:.4f} 秒\")\n",
    "\n",
    "time_elapsed = time.time() - since\n",
    "predictions = np.argmax(probabilities, axis=1)\n",
    "labels = np.argmax(test_ground_truth, axis=1)\n",
    "print(\"Total Model Runtime: {}min, {:0.2f}sec\".format(int(time_elapsed // 60), time_elapsed % 60))\n",
    "log_file.write(\"Best validation accuracy = {}\\n\".format(best_acc * 100))\n",
    "log_file.write(\"Final test accuracy = {}\\n\".format(test_accuracy * 100))\n",
    "# 先写入占位的 AUC 值\n",
    "auc_temp = 0.0\n",
    "log_file.write(\"Final Model AUC: {:0.2f}%\\n\".format(auc_temp * 100))\n",
    "log_file.write(\"Total Model Runtime: {}min, {:0.2f}sec\\n\".format(int(time_elapsed // 60), time_elapsed % 60))\n",
    "log_file.close()\n",
    "\n",
    "# 计算 ROC 与 AUC\n",
    "pos_idx = 0  # 假定 DME 的索引为 0\n",
    "roc_labels = [0 if label == pos_idx else 1 for label in labels]\n",
    "pos_probs = probabilities[:, pos_idx]\n",
    "roc_probs = pos_probs\n",
    "auc = generate_roc(roc_labels, roc_probs, pos_label=0)\n",
    "print(\"Final Model AUC: {:0.2f}%\".format(auc * 100))"
   ]
  },
  {
   "cell_type": "code",
   "execution_count": 13,
   "id": "6399b89a-b56c-43de-a9c1-4b4c90495ac6",
   "metadata": {
    "scrolled": true,
    "tags": []
   },
   "outputs": [
    {
     "data": {
      "image/png": "[encoded data removed]",
      "text/plain": [
       "<Figure size 1000x600 with 1 Axes>"
      ]
     },
     "metadata": {},
     "output_type": "display_data"
    },
    {
     "data": {
      "image/png": "[encoded data removed]",
      "text/plain": [
       "<Figure size 1000x600 with 1 Axes>"
      ]
     },
     "metadata": {},
     "output_type": "display_data"
    },
    {
     "data": {
      "image/png": "[encoded data removed]",
      "text/plain": [
       "<Figure size 1000x600 with 1 Axes>"
      ]
     },
     "metadata": {},
     "output_type": "display_data"
    },
    {
     "data": {
      "image/png": "[encoded data removed]",
      "text/plain": [
       "<Figure size 1000x600 with 1 Axes>"
      ]
     },
     "metadata": {},
     "output_type": "display_data"
    }
   ],
   "source": [
    "import matplotlib.pyplot as plt\n",
    "import pandas as pd\n",
    "import re\n",
    "\n",
    "# 读取日志文件\n",
    "log_file_path = 'MS_Demo/retrain_logs/training.log'\n",
    "with open(log_file_path, 'r') as file:\n",
    "    log_data = file.readlines()\n",
    "\n",
    "# 解析日志内容\n",
    "pattern = re.compile(r\"Step (\\d+): loss = ([\\-\\d\\.]+) train acc = ([\\d\\.]+) val acc = ([\\d\\.]+)\")\n",
    "data = []\n",
    "for line in log_data:\n",
    "    match = pattern.match(line.strip())\n",
    "    if match:\n",
    "        step, loss, train_acc, val_acc = match.groups()\n",
    "        data.append({\n",
    "            'Step': int(step),\n",
    "            'Loss': float(loss),\n",
    "            'Train Accuracy': float(train_acc),\n",
    "            'Validation Accuracy': float(val_acc)\n",
    "        })\n",
    "\n",
    "# 转换为 DataFrame\n",
    "df = pd.DataFrame(data)\n",
    "\n",
    "# 绘制损失值曲线\n",
    "plt.figure(figsize=(10, 6))\n",
    "plt.plot(df['Step'], df['Loss'], label='Loss', color='blue')\n",
    "plt.xlabel('Step')\n",
    "plt.ylabel('Loss')\n",
    "plt.title('Loss Curve')\n",
    "plt.legend()\n",
    "plt.grid(True)\n",
    "plt.show()\n",
    "\n",
    "# 绘制训练准确率曲线\n",
    "plt.figure(figsize=(10, 6))\n",
    "plt.plot(df['Step'], df['Train Accuracy'], label='Train Accuracy', color='green')\n",
    "plt.xlabel('Step')\n",
    "plt.ylabel('Accuracy')\n",
    "plt.title('Train Accuracy Curve')\n",
    "plt.legend()\n",
    "plt.grid(True)\n",
    "plt.show()\n",
    "\n",
    "# 绘制验证准确率曲线\n",
    "plt.figure(figsize=(10, 6))\n",
    "plt.plot(df['Step'], df['Validation Accuracy'], label='Validation Accuracy', color='red')\n",
    "plt.xlabel('Step')\n",
    "plt.ylabel('Accuracy')\n",
    "plt.title('Validation Accuracy Curve')\n",
    "plt.legend()\n",
    "plt.grid(True)\n",
    "plt.show()\n",
    "\n",
    "# 绘制训练准确率与验证准确率对比图\n",
    "plt.figure(figsize=(10, 6))\n",
    "plt.plot(df['Step'], df['Train Accuracy'], label='Train Accuracy', color='green')\n",
    "plt.plot(df['Step'], df['Validation Accuracy'], label='Validation Accuracy', color='red')\n",
    "plt.xlabel('Step')\n",
    "plt.ylabel('Accuracy')\n",
    "plt.title('Train vs Validation Accuracy')\n",
    "plt.legend()\n",
    "plt.grid(True)\n",
    "plt.show()\n"
   ]
  },
  {
   "cell_type": "markdown",
   "id": "d7de39fe-f54e-4621-90a8-7084e42bf0ea",
   "metadata": {},
   "source": [
    "## 遮挡分析工具\n",
    "\n",
    "下面流程是一个基于 MindSpore 框架的遮挡分析（Occlusion Analysis）工具，主要用于评估输入图像中不同区域对最终分类结果的影响。通过在图像上系统地移动遮挡块（occluding filter），观察目标类别预测概率的变化，并生成对应的热力图，进而与原图融合，直观展示各区域的重要性。\n",
    "\n",
    "### 主要功能\n",
    "\n",
    "- **遮挡图像生成**  \n",
    "  使用 `create_occlusion` 函数，在输入图像（要求尺寸为 512×512）上按照给定遮挡块大小（roi_size）和步长（stride_size），生成一系列带有遮挡效果的图像。这些图像用于后续预测，以观察遮挡对模型预测的影响。\n",
    "\n",
    "- **图像预处理**  \n",
    "  `process_image_for_model` 函数将 PIL 格式图像转换为模型输入所需的格式：调整到预期尺寸（例如 299×299），归一化处理，并将图像数据格式转换为 (C, H, W) 的 numpy 数组。\n",
    "\n",
    "- **模型构建与加载**  \n",
    "  `build_model` 函数根据训练时使用的逻辑：\n",
    "  - 加载预训练的 InceptionV3 模型，并构造瓶颈特征提取器。\n",
    "  - 构建最终的全连接分类层（final_layer）。\n",
    "  - 通过加载已训练好的 checkpoint 参数，将参数注入最终分类层，并设置模型为评估模式。\n",
    "\n",
    "- **单图像预测**  \n",
    "  `predict` 函数先对输入图像进行预处理，再将图像通过瓶颈提取器和最终分类层进行前向计算，最后利用 Softmax 得到每个类别的预测概率。\n",
    "\n",
    "- **遮挡热力图生成与融合**  \n",
    "  - 根据原图预测结果确定目标类别（预测概率最高的类别）。  \n",
    "  - 对每个遮挡图像进行预测，并记录目标类别的概率变化。  \n",
    "  - 将原图目标概率与遮挡图像预测的目标概率之差构造成热力图，其中差值越大说明该区域对预测结果的影响越大。  \n",
    "  - 使用 `blend_occlusion_map` 函数，将生成的热力图与原图融合，直观展示不同区域对最终预测结果的贡献。\n",
    "\n",
    "- **结果保存与展示**  \n",
    "  代码最终会保存遮挡热力图和融合后的图像，方便用户查看并进一步分析图像中哪些部分对分类起关键作用。\n",
    "\n",
    "### 流程概述\n",
    "\n",
    "1. **参数解析与初始化**  \n",
    "   通过命令行参数（在 Notebook 中可转为直接设置变量）传入图像路径、checkpoint 文件、标签文件、遮挡块大小、步长和输出目录。\n",
    "\n",
    "2. **模型与标签加载**  \n",
    "   - 读取标签文件，确定类别数。  \n",
    "   - 调用 `build_model` 加载模型配置、构造瓶颈提取器与最终层，并加载训练好的参数。\n",
    "\n",
    "3. **原图处理与初始预测**  \n",
    "   - 载入原始图像并调整为 512×512 尺寸。  \n",
    "   - 使用 `predict` 得到原图的预测结果，并确定目标类别（预测最高的类别）。\n",
    "\n",
    "4. **遮挡图生成与预测**  \n",
    "   - 使用 `create_occlusion` 在原图上生成一批遮挡图像。  \n",
    "   - 对每个遮挡图像进行预测，记录目标类别的预测概率。\n",
    "\n",
    "5. **热力图生成与图像融合**  \n",
    "   - 计算遮挡热力图：每个遮挡位置的数值为原图目标概率与遮挡图目标概率之差。  \n",
    "   - 使用 matplotlib 绘制热力图并保存。  \n",
    "   - 利用 `blend_occlusion_map` 将热力图与原图融合，生成最终的融合图像。\n",
    "\n",
    "6. **保存结果**  \n",
    "   将生成的热力图和融合图像保存到指定的输出目录中，并在控制台打印保存路径和完成信息。\n",
    "\n",
    "通过上述步骤，代码实现了对输入图像进行区域敏感性分析，帮助理解哪些图像区域对分类结果贡献较大，为模型解释性提供了直观的参考。\n"
   ]
  },
  {
   "cell_type": "code",
   "execution_count": 14,
   "id": "e9bb7433-5c55-4ac7-a9b9-aa4dce81255f",
   "metadata": {
    "tags": []
   },
   "outputs": [],
   "source": [
    "#%% 导入必要模块\n",
    "import os\n",
    "import time\n",
    "from math import floor\n",
    "import numpy as np\n",
    "import matplotlib.pyplot as plt\n",
    "from PIL import Image, ImageDraw\n",
    "\n",
    "import mindspore as ms\n",
    "import mindspore.nn as nn\n",
    "from mindspore.train.serialization import load_checkpoint, load_param_into_net"
   ]
  },
  {
   "cell_type": "code",
   "execution_count": 15,
   "id": "471e6a7a-aacf-43a7-9025-42ae4260d5b5",
   "metadata": {
    "tags": []
   },
   "outputs": [],
   "source": [
    "#%% 定义辅助函数\n",
    "\n",
    "def create_occlusion(im, roi_size, stride_size):\n",
    "    \"\"\"\n",
    "    对给定 PIL 图像 im（尺寸应为 512x512）创建遮挡图像批次，\n",
    "    遮挡块大小为 roi_size，步长为 stride_size。\n",
    "    返回遮挡图像列表以及 grid 的行数（列数相同）。\n",
    "    \"\"\"\n",
    "    iters = int(floor((512 - roi_size + 1) / stride_size))\n",
    "    batch = []\n",
    "    for r in range(iters):\n",
    "        for c in range(iters):\n",
    "            imOc = im.copy()\n",
    "            draw = ImageDraw.Draw(imOc)\n",
    "            left = c * stride_size\n",
    "            top = r * stride_size\n",
    "            right = left + roi_size - 1\n",
    "            bottom = top + roi_size - 1\n",
    "            draw.rectangle([left, top, right, bottom], fill=(150, 150, 150))\n",
    "            batch.append(imOc)\n",
    "    return batch, iters\n",
    "\n",
    "def process_image_for_model(im, model_config):\n",
    "    \"\"\"\n",
    "    将 PIL 图像转换为模型输入格式：\n",
    "      - 调整大小到模型所需尺寸（例如 299x299）\n",
    "      - 转为 numpy 数组、归一化并转置为 (C,H,W)\n",
    "    \"\"\"\n",
    "    input_width = model_config[\"input_width\"]\n",
    "    input_height = model_config[\"input_height\"]\n",
    "    input_mean = model_config[\"input_mean\"]\n",
    "    input_std = model_config[\"input_std\"]\n",
    "    \n",
    "    im_resized = im.resize((input_width, input_height))\n",
    "    img_array = np.array(im_resized).astype(np.float32)\n",
    "    img_array = (img_array - input_mean) / input_std\n",
    "    img_array = np.transpose(img_array, (2, 0, 1))\n",
    "    return img_array\n",
    "\n",
    "def build_model(ckpt_path, num_classes):\n",
    "    \"\"\"\n",
    "    根据 train.py 中的逻辑构造模型：\n",
    "      - 加载 MindCV 中预训练的 InceptionV3 模型，并构造瓶颈提取器（bottleneck_extractor）\n",
    "      - 创建最终分类层（final_layer）\n",
    "      - 加载 checkpoint 参数到 final_layer\n",
    "    返回：(bottleneck_extractor, final_layer, model_config)\n",
    "    \"\"\"\n",
    "    model_config = get_model_config()\n",
    "    dummy_model_dir = \"./dummy_model_dir\"  # 占位目录\n",
    "    _, bottleneck_extractor, _ = create_model_graph(model_config, dummy_model_dir)\n",
    "    \n",
    "    final_tensor_name = \"final_result\"  # 与训练时保持一致\n",
    "    final_layer, _, _ = train_final_layer(num_classes, final_tensor_name,\n",
    "                                                bottleneck_extractor,\n",
    "                                                model_config[\"bottleneck_tensor_size\"],\n",
    "                                                learning_rate=0.001)\n",
    "    param_dict = load_checkpoint(ckpt_path)\n",
    "    load_param_into_net(final_layer, param_dict)\n",
    "    \n",
    "    final_layer.set_train(False)\n",
    "    bottleneck_extractor.set_train(False)\n",
    "    \n",
    "    return bottleneck_extractor, final_layer, model_config\n",
    "\n",
    "def predict(im, bottleneck_extractor, final_layer, model_config):\n",
    "    \"\"\"\n",
    "    对单张图像（PIL格式）进行预测：\n",
    "      - 预处理图像为模型输入\n",
    "      - 转换为 Tensor，通过 bottleneck_extractor 提取特征，并经过 final_layer 得到 logits，\n",
    "      - 使用 softmax 得到概率分布。\n",
    "    返回一个 numpy 数组，形状为 (num_classes,)\n",
    "    \"\"\"\n",
    "    img_array = process_image_for_model(im, model_config)\n",
    "    tensor_img = ms.Tensor(np.expand_dims(img_array, axis=0), ms.float32)\n",
    "    bottleneck = bottleneck_extractor(tensor_img)\n",
    "    logits = final_layer(bottleneck)\n",
    "    softmax_op = nn.Softmax()\n",
    "    probs = softmax_op(logits)\n",
    "    return probs.asnumpy()[0]\n",
    "\n",
    "def blend_occlusion_map(orig_im, occlusion_map, blend_alpha=0.4):\n",
    "    \"\"\"\n",
    "    将遮挡热力图与原图融合：\n",
    "      - 将 occlusion_map 数值归一化至 0~255，\n",
    "      - 使用 matplotlib 的 colormap（例如 magma）生成伪彩色图像，\n",
    "      - 与原图融合后返回融合图像。\n",
    "    \"\"\"\n",
    "    norm_map = (occlusion_map - np.min(occlusion_map)) / (np.max(occlusion_map) - np.min(occlusion_map) + 1e-8)\n",
    "    norm_map = (norm_map * 255).astype(np.uint8)\n",
    "    cmap = plt.get_cmap(\"magma\")\n",
    "    colored_map = cmap(norm_map)\n",
    "    colored_map = (colored_map[:, :, :3] * 255).astype(np.uint8)\n",
    "    occlusion_im = Image.fromarray(colored_map)\n",
    "    occlusion_im = occlusion_im.resize(orig_im.size)\n",
    "    blended = Image.blend(orig_im, occlusion_im, blend_alpha)\n",
    "    return blended"
   ]
  },
  {
   "cell_type": "code",
   "execution_count": 16,
   "id": "34390c46-333f-42f1-86cf-c4db50fd7429",
   "metadata": {
    "scrolled": true,
    "tags": []
   },
   "outputs": [
    {
     "name": "stderr",
     "output_type": "stream",
     "text": [
      "[ERROR] CORE(92,ffff81325020,python):2025-03-28-08:19:06.851.085 [mindspore/core/utils/file_utils.cc:253] GetRealPath] Get realpath failed, path[/tmp/ipykernel_92/527617648.py]\n",
      "[WARNING] CORE(92,ffff81325020,python):2025-03-28-08:19:06.851.138 [mindspore/core/utils/info.cc:121] ToString] The file '/tmp/ipykernel_92/527617648.py' may not exists.\n"
     ]
    },
    {
     "name": "stdout",
     "output_type": "stream",
     "text": [
      ".原图预测类别: DME 置信度: 0.9738\n",
      "生成 225 张遮挡图像，grid 大小: 15x15\n",
      ".处理 50/225 张遮挡图\n",
      ".处理 100/225 张遮挡图\n",
      "处理 150/225 张遮挡图\n",
      ".处理 200/225 张遮挡图\n"
     ]
    },
    {
     "data": {
      "text/plain": [
       "<Figure size 640x480 with 0 Axes>"
      ]
     },
     "metadata": {},
     "output_type": "display_data"
    },
    {
     "data": {
      "image/png": "[encoded data removed]",
      "text/plain": [
       "<Figure size 480x480 with 2 Axes>"
      ]
     },
     "metadata": {},
     "output_type": "display_data"
    },
    {
     "name": "stdout",
     "output_type": "stream",
     "text": [
      "热力图保存至: /home/mindspore/work/MS_Demo/occlusion_map.png\n",
      "融合图像已保存至: /home/mindspore/work/MS_Demo/Occlusion/DME-1081406-1.jpeg\n",
      "Occlusion 分析完成。\n"
     ]
    }
   ],
   "source": [
    "#%% 设置参数并执行 occlusion 分析\n",
    "\n",
    "# 设置文件路径（根据你的实际环境修改）\n",
    "image_file = \"/home/mindspore/work/OCT2017/test/DME/DME-1081406-1.jpeg\"\n",
    "ckpt_path = \"/home/mindspore/work/MS_Demo/retrained_model.ckpt\"\n",
    "labels_file = \"/home/mindspore/work/MS_Demo/output_labels.txt\"\n",
    "roi_size = 32\n",
    "stride_size = 32\n",
    "output_dir = \"/home/mindspore/work/MS_Demo/Occlusion\"\n",
    "\n",
    "# 加载类别标签\n",
    "with open(labels_file, \"r\") as f:\n",
    "    labels = [line.strip() for line in f.readlines()]\n",
    "num_classes = len(labels)\n",
    "\n",
    "# 构建模型（加载瓶颈提取器与最终层）\n",
    "bottleneck_extractor, final_layer, model_config = build_model(ckpt_path, num_classes)\n",
    "\n",
    "# 加载图像，并调整为 512x512 用于 occlusion 分析\n",
    "orig_im = Image.open(image_file).convert(\"RGB\")\n",
    "im_512 = orig_im.resize((512, 512))\n",
    "\n",
    "# 对原图进行预测，确定目标类别（取最高置信度）\n",
    "baseline_probs = predict(im_512, bottleneck_extractor, final_layer, model_config)\n",
    "target_class = int(np.argmax(baseline_probs))\n",
    "baseline_target_prob = baseline_probs[target_class]\n",
    "print(\"原图预测类别: {} 置信度: {:.4f}\".format(labels[target_class], baseline_target_prob))\n",
    "\n",
    "# 生成遮挡图像批次\n",
    "occlusion_batch, grid_size = create_occlusion(im_512, roi_size, stride_size)\n",
    "num_occlusions = len(occlusion_batch)\n",
    "print(\"生成 {} 张遮挡图像，grid 大小: {}x{}\".format(num_occlusions, grid_size, grid_size))\n",
    "\n",
    "# 对每个遮挡图像进行预测，提取目标类别的预测概率\n",
    "occlusion_probs = []\n",
    "for idx, oc_im in enumerate(occlusion_batch):\n",
    "    probs = predict(oc_im, bottleneck_extractor, final_layer, model_config)\n",
    "    occlusion_probs.append(probs[target_class])\n",
    "    if (idx + 1) % 50 == 0:\n",
    "        print(\"处理 {}/{} 张遮挡图\".format(idx + 1, num_occlusions))\n",
    "occlusion_probs = np.array(occlusion_probs)\n",
    "\n",
    "# 构造遮挡热力图：用 (baseline_target_prob - occluded_prob) 表示预测下降幅度\n",
    "occlusion_map = np.zeros((grid_size, grid_size), dtype=np.float32)\n",
    "i = 0\n",
    "for r in range(grid_size):\n",
    "    for c in range(grid_size):\n",
    "        occlusion_map[r, c] = baseline_target_prob - occlusion_probs[i]\n",
    "        i += 1\n",
    "\n",
    "# 绘制并保存遮挡热力图\n",
    "plt.figure()\n",
    "plt.matshow(occlusion_map, interpolation=\"lanczos\", cmap=\"magma\")\n",
    "plt.title(\"Occlusion Map for class '{}'\".format(labels[target_class]))\n",
    "plt.colorbar()\n",
    "plt.show()\n",
    "heatmap_path = os.path.join(\"/home/mindspore/work/MS_Demo\", \"occlusion_map.png\")\n",
    "plt.savefig(heatmap_path, bbox_inches=\"tight\", pad_inches=0)\n",
    "plt.close(\"all\")\n",
    "print(\"热力图保存至:\", heatmap_path)\n",
    "\n",
    "# 融合原图与遮挡热力图\n",
    "blended = blend_occlusion_map(orig_im, occlusion_map, blend_alpha=0.4)\n",
    "\n",
    "# 保存融合图像至指定目录\n",
    "if not os.path.exists(output_dir):\n",
    "    os.makedirs(output_dir)\n",
    "output_path = os.path.join(output_dir, os.path.basename(image_file))\n",
    "blended.save(output_path)\n",
    "print(\"融合图像已保存至:\", output_path)\n",
    "print(\"Occlusion 分析完成。\")"
   ]
  },
  {
   "cell_type": "markdown",
   "id": "a4bce7ea-9a0c-4152-8377-1d69ffd9e92c",
   "metadata": {},
   "source": [
    "## 参考文献\n",
    "Kermany, Daniel; Zhang, Kang; Goldbaum, Michael (2018), “Labeled Optical Coherence Tomography (OCT) and Chest X-Ray Images for Classification”, Mendeley Data, V2, doi: 10.17632/rscbjbr9sj.2"
   ]
  },
  {
   "cell_type": "markdown",
   "id": "72585d7b-1eb1-4bf6-be14-46d0a27c16b4",
   "metadata": {},
   "source": [
    "**昇思大模型平台链接**：https://xihe.mindspore.cn/models/STRUGGLE/RetinalEdemaDetection/"
   ]
  }
 ],
 "metadata": {
  "kernelspec": {
   "display_name": "MindSpore",
   "language": "python",
   "name": "mindspore"
  },
  "language_info": {
   "codemirror_mode": {
    "name": "ipython",
    "version": 3
   },
   "file_extension": ".py",
   "mimetype": "text/x-python",
   "name": "python",
   "nbconvert_exporter": "python",
   "pygments_lexer": "ipython3",
   "version": "3.9.18"
  }
 },
 "nbformat": 4,
 "nbformat_minor": 5
}
