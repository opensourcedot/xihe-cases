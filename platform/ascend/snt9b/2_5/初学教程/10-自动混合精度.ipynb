{
 "cells": [
  {
   "cell_type": "markdown",
   "id": "3fca2d6c-be41-47be-b020-228c6e2acc98",
   "metadata": {},
   "source": [
    "# 自动混合精度"
   ]
  },
  {
   "cell_type": "markdown",
   "id": "49ed0572-abea-4574-9710-be45d84191b3",
   "metadata": {},
   "source": [
    "混合精度（Mix Precision）训练是指在训练时，对神经网络不同的运算采用不同的数值精度的运算策略。在神经网络运算中，部分运算对数值精度不敏感，此时使用较低精度可以达到明显的加速效果（如conv、matmul等）；而部分运算由于输入和输出的数值差异大，通常需要保留较高精度以保证结果的正确性（如log、softmax等）。\n",
    "\n",
    "当前的AI加速卡通常通过针对计算密集、精度不敏感的运算设计了硬件加速模块，如NVIDIA GPU的TensorCore、Ascend NPU的Cube等。对于conv、matmul等运算占比较大的神经网络，其训练速度通常会有较大的加速比。\n",
    "\n",
    "`mindspore.amp`模块提供了便捷的自动混合精度接口，用户可以在不同的硬件后端通过简单的接口调用获得训练加速。下面我们对混合精度计算原理进行简介，而后通过实例介绍MindSpore的自动混合精度用法。"
   ]
  },
  {
   "cell_type": "markdown",
   "id": "518888c6-a7ad-4a13-8b7e-8cef642457e3",
   "metadata": {},
   "source": [
    "## 混合精度计算原理"
   ]
  },
  {
   "cell_type": "markdown",
   "id": "76ebb0cf-7c2d-49d4-8905-04d928567e76",
   "metadata": {},
   "source": [
    "浮点数据类型主要分为双精度（FP64）、单精度（FP32）、半精度（FP16）。在神经网络模型的训练过程中，一般默认采用单精度（FP32）浮点数据类型，来表示网络模型权重和其他参数。在了解混合精度训练之前，这里简单了解浮点数据类型。\n",
    "\n",
    "根据IEEE二进制浮点数算术标准（[IEEE 754](https://en.wikipedia.org/wiki/IEEE_754)）的定义，浮点数据类型分为双精度（FP64）、单精度（FP32）、半精度（FP16）三种，其中每一种都有三个不同的位来表示。FP64表示采用8个字节共64位，来进行的编码存储的一种数据类型；同理，FP32表示采用4个字节共32位来表示；FP16则是采用2字节共16位来表示。如图所示：\n",
    "\n",
    "![fp16-vs-fp32](https://mindspore-website.obs.cn-north-4.myhuaweicloud.com/website-images/r2.5.0/tutorials/source_zh_cn/beginner/images/fp16_vs_fp32.png)\n",
    "\n",
    "从图中可以看出，与FP32相比，FP16的存储空间是FP32的一半。类似地，FP32则是FP64的一半。因此使用FP16进行运算具备以下优势：\n",
    "\n",
    "- 减少内存占用：FP16的位宽是FP32的一半，因此权重等参数所占用的内存也是原来的一半，节省下来的内存可以放更大的网络模型或者使用更多的数据进行训练。\n",
    "- 计算效率更高：在特殊的AI加速芯片如华为Atlas训练系列产品和Atlas 200/300/500推理产品系列，或者NVIDIA VOLTA架构的GPU上，使用FP16的执行运算性能比FP32更加快。\n",
    "- 加快通讯效率：针对分布式训练，特别是在大模型训练的过程中，通讯的开销制约了网络模型训练的整体性能，通讯的位宽少了意味着可以提升通讯性能，减少等待时间，加快数据的流通。\n",
    "\n",
    "但是使用FP16同样会带来一些问题：\n",
    "\n",
    "- 数据溢出：FP16的有效数据表示范围为 $[5.9\\times10^{-8}, 65504]$，FP32的有效数据表示范围为 $[1.4\\times10^{-45}, 1.7\\times10^{38}]$。可见FP16相比FP32的有效范围要窄很多，使用FP16替换FP32会出现上溢（Overflow）和下溢（Underflow）的情况。而在深度学习中，需要计算网络模型中权重的梯度（一阶导数），因此梯度会比权重值更加小，往往容易出现下溢情况。\n",
    "- 舍入误差：Rounding Error是指当网络模型的反向梯度很小，一般FP32能够表示，但是转换到FP16会小于当前区间内的最小间隔，会导致数据溢出。如`0.00006666666`在FP32中能正常表示，转换到FP16后会表示成为`0.000067`，不满足FP16最小间隔的数会强制舍入。\n",
    "\n",
    "因此，在使用混合精度获得训练加速和内存节省的同时，需要考虑FP16引入问题的解决。Loss Scale损失缩放，FP16类型数据下溢问题的解决方案，其主要思想是在计算损失值loss的时候，将loss扩大一定的倍数。根据链式法则，梯度也会相应扩大，然后在优化器更新权重时再缩小相应的倍数，从而避免了数据下溢。"
   ]
  },
  {
   "cell_type": "markdown",
   "id": "981dd3d3-bec1-4b43-a48e-6563547f8411",
   "metadata": {},
   "source": [
    "根据上述原理介绍，典型的混合精度计算流程如下图所示：\n",
    "\n",
    "![mix precision](https://mindspore-website.obs.cn-north-4.myhuaweicloud.com/website-images/r2.5.0/tutorials/source_zh_cn/beginner/images/mix_precision_fp16.png)\n",
    "\n",
    "1. 参数以FP32存储；\n",
    "2. 正向计算过程中，遇到FP16算子，需要把算子输入和参数从FP32 cast成FP16进行计算；\n",
    "3. 将Loss层设置为FP32进行计算；\n",
    "4. 反向计算过程中，首先乘以Loss Scale值，避免反向梯度过小而产生下溢；\n",
    "5. FP16参数参与梯度计算，其结果将被cast回FP32；\n",
    "6. 除以Loss scale值，还原被放大的梯度；\n",
    "7. 判断梯度是否存在溢出，如果溢出则跳过更新，否则优化器以FP32对原始参数进行更新。"
   ]
  },
  {
   "cell_type": "markdown",
   "id": "81c60159-5242-4ea2-a73e-6015de4a675c",
   "metadata": {},
   "source": [
    "下面我们通过导入[快速入门](https://www.mindspore.cn/tutorials/zh-CN/r2.5.0/beginner/quick_start.html)中的手写数字识别模型及数据集，演示MindSpore的自动混合精度实现。"
   ]
  },
  {
   "cell_type": "code",
   "execution_count": 1,
   "id": "791d5d23",
   "metadata": {},
   "outputs": [],
   "source": [
    "%%capture captured_output\n",
    "# 实验环境已经预装了mindspore==2.5.0，如需更换mindspore版本，可更改下面 MINDSPORE_VERSION 变量\n",
    "!pip uninstall mindspore -y\n",
    "%env MINDSPORE_VERSION=2.5.0\n",
    "!pip install https://ms-release.obs.cn-north-4.myhuaweicloud.com/${MINDSPORE_VERSION}/MindSpore/unified/aarch64/mindspore-${MINDSPORE_VERSION}-cp39-cp39-linux_aarch64.whl --trusted-host ms-release.obs.cn-north-4.myhuaweicloud.com -i https://pypi.tuna.tsinghua.edu.cn/simple"
   ]
  },
  {
   "cell_type": "code",
   "execution_count": 2,
   "id": "e9721600",
   "metadata": {},
   "outputs": [
    {
     "name": "stdout",
     "output_type": "stream",
     "text": [
      "Name: mindspore\n",
      "Version: 2.5.0\n",
      "Summary: MindSpore is a new open source deep learning training/inference framework that could be used for mobile, edge and cloud scenarios.\n",
      "Home-page: https://www.mindspore.cn\n",
      "Author: The MindSpore Authors\n",
      "Author-email: contact@mindspore.cn\n",
      "License: Apache 2.0\n",
      "Location: /home/mindspore/miniconda/envs/jupyter/lib/python3.9/site-packages\n",
      "Requires: asttokens, astunparse, dill, numpy, packaging, pillow, protobuf, psutil, safetensors, scipy\n",
      "Required-by: \n"
     ]
    }
   ],
   "source": [
    "# 查看当前 mindspore 版本\n",
    "!pip show mindspore"
   ]
  },
  {
   "cell_type": "code",
   "execution_count": 3,
   "id": "84bcf378-0988-40ce-b2bc-60ea793ed0d8",
   "metadata": {},
   "outputs": [
    {
     "name": "stdout",
     "output_type": "stream",
     "text": [
      "env: GLOG_v=3\n"
     ]
    }
   ],
   "source": [
    "# 控制日志的级别, 0-DEBUG、1-INFO、2-WARNING、3-ERROR\n",
    "%env GLOG_v=3"
   ]
  },
  {
   "cell_type": "code",
   "execution_count": 4,
   "id": "0dcf1b26-3050-42e6-ade8-889f3b3dc79d",
   "metadata": {},
   "outputs": [
    {
     "name": "stderr",
     "output_type": "stream",
     "text": [
      "/home/mindspore/miniconda/envs/jupyter/lib/python3.9/site-packages/numpy/core/getlimits.py:549: UserWarning: The value of the smallest subnormal for <class 'numpy.float64'> type is zero.\n",
      "  setattr(self, word, getattr(machar, word).flat[0])\n",
      "/home/mindspore/miniconda/envs/jupyter/lib/python3.9/site-packages/numpy/core/getlimits.py:89: UserWarning: The value of the smallest subnormal for <class 'numpy.float64'> type is zero.\n",
      "  return self._float_to_str(self.smallest_subnormal)\n",
      "/home/mindspore/miniconda/envs/jupyter/lib/python3.9/site-packages/numpy/core/getlimits.py:549: UserWarning: The value of the smallest subnormal for <class 'numpy.float32'> type is zero.\n",
      "  setattr(self, word, getattr(machar, word).flat[0])\n",
      "/home/mindspore/miniconda/envs/jupyter/lib/python3.9/site-packages/numpy/core/getlimits.py:89: UserWarning: The value of the smallest subnormal for <class 'numpy.float32'> type is zero.\n",
      "  return self._float_to_str(self.smallest_subnormal)\n"
     ]
    },
    {
     "name": "stdout",
     "output_type": "stream",
     "text": [
      "Downloading data from https://mindspore-website.obs.cn-north-4.myhuaweicloud.com/notebook/datasets/MNIST_Data.zip (10.3 MB)\n",
      "\n",
      "file_sizes: 100%|██████████████████████████| 10.8M/10.8M [00:00<00:00, 94.0MB/s]\n",
      "Extracting zip file...\n",
      "Successfully downloaded / unzipped to ./\n"
     ]
    }
   ],
   "source": [
    "import mindspore as ms\n",
    "from mindspore import nn\n",
    "from mindspore import value_and_grad\n",
    "from mindspore.dataset import vision, transforms\n",
    "from mindspore.dataset import MnistDataset\n",
    "\n",
    "# Download data from open datasets\n",
    "from download import download\n",
    "\n",
    "url = \"https://mindspore-website.obs.cn-north-4.myhuaweicloud.com/\" \\\n",
    "      \"notebook/datasets/MNIST_Data.zip\"\n",
    "path = download(url, \"./\", kind=\"zip\", replace=True)\n",
    "\n",
    "\n",
    "def datapipe(path, batch_size):\n",
    "    image_transforms = [\n",
    "        vision.Rescale(1.0 / 255.0, 0),\n",
    "        vision.Normalize(mean=(0.1307,), std=(0.3081,)),\n",
    "        vision.HWC2CHW()\n",
    "    ]\n",
    "    label_transform = transforms.TypeCast(ms.int32)\n",
    "\n",
    "    dataset = MnistDataset(path)\n",
    "    dataset = dataset.map(image_transforms, 'image')\n",
    "    dataset = dataset.map(label_transform, 'label')\n",
    "    dataset = dataset.batch(batch_size)\n",
    "    return dataset\n",
    "\n",
    "train_dataset = datapipe('MNIST_Data/train', 64)\n",
    "\n",
    "# Define model\n",
    "class Network(nn.Cell):\n",
    "    def __init__(self):\n",
    "        super().__init__()\n",
    "        self.flatten = nn.Flatten()\n",
    "        self.dense_relu_sequential = nn.SequentialCell(\n",
    "            nn.Dense(28*28, 512),\n",
    "            nn.ReLU(),\n",
    "            nn.Dense(512, 512),\n",
    "            nn.ReLU(),\n",
    "            nn.Dense(512, 10)\n",
    "        )\n",
    "\n",
    "    def construct(self, x):\n",
    "        x = self.flatten(x)\n",
    "        logits = self.dense_relu_sequential(x)\n",
    "        return logits"
   ]
  },
  {
   "cell_type": "markdown",
   "id": "b22c0430-ad94-47b5-bd04-278e2c71775c",
   "metadata": {},
   "source": [
    "## 类型转换\n",
    "\n",
    "混合精度计算需要将需要使用低精度的运算进行类型转换，将其输入转为FP16类型，得到输出后进将其重新转回FP32类型。MindSpore同时提供了自动和手动类型转换的方法，满足对易用性和灵活性的不同需求，下面我们分别对其进行介绍。\n",
    "\n",
    "### 自动类型转换"
   ]
  },
  {
   "cell_type": "markdown",
   "id": "8bdf54b3",
   "metadata": {
    "pycharm": {
     "name": "#%% md\n"
    }
   },
   "source": [
    "`mindspore.amp.auto_mixed_precision` 接口提供对网络做自动类型转换的功能。自动类型转换遵循黑白名单机制，根据常用的运算精度习惯配置了5个等级，分别为：\n",
    "\n",
    "- 'O0'：神经网络保持FP32；\n",
    "- 'O1'：按白名单将运算cast为FP16；\n",
    "- 'O2'：按黑名单保留FP32，其余运算cast为FP16；\n",
    "- 'O3'：神经网络完全cast为FP16。\n",
    "- 'auto'：白名单内的算子运算cast为FP16，黑名单内的算子运算cast为FP32，其余算子选择算子输入的最高浮点精度来转换。\n",
    "\n",
    "下面是使用自动类型转换的示例："
   ]
  },
  {
   "cell_type": "code",
   "execution_count": 5,
   "id": "ead4d2ea-95a0-44e6-a722-0701a3e11bfb",
   "metadata": {},
   "outputs": [],
   "source": [
    "from mindspore.amp import auto_mixed_precision\n",
    "\n",
    "model = Network()\n",
    "model = auto_mixed_precision(model, 'O2')"
   ]
  },
  {
   "cell_type": "markdown",
   "id": "8f89dc3c-e419-484d-8d7c-4e991d85cfd1",
   "metadata": {},
   "source": [
    "### 手动类型转换\n",
    "\n",
    "通常情况下自动类型转换可以通过满足大部分混合精度训练的需求，但当用户需要精细化控制神经网络不同部分的运算精度时，可以通过手动类型转换的方式进行控制。\n",
    "\n",
    "> 手动类型转换需考虑模型各个模块的运算精度，一般仅在需要获得极致性能的情况下使用。\n",
    "\n",
    "下面我们对前文的`Network`进行改造，演示手动类型转换的不同方式。"
   ]
  },
  {
   "cell_type": "markdown",
   "id": "064acdb8-8cba-4e60-979d-06e667fc70a3",
   "metadata": {},
   "source": [
    "#### Cell粒度类型转换\n",
    "\n",
    "`nn.Cell`类提供了`to_float`方法，可以一键配置该模块的运算精度，自动将模块输入cast为指定的精度："
   ]
  },
  {
   "cell_type": "code",
   "execution_count": 6,
   "id": "112b57a8-c279-49cb-8069-cc261d92e857",
   "metadata": {},
   "outputs": [],
   "source": [
    "class NetworkFP16(nn.Cell):\n",
    "    def __init__(self):\n",
    "        super().__init__()\n",
    "        self.flatten = nn.Flatten()\n",
    "        self.dense_relu_sequential = nn.SequentialCell(\n",
    "            nn.Dense(28*28, 512).to_float(ms.float16),\n",
    "            nn.ReLU(),\n",
    "            nn.Dense(512, 512).to_float(ms.float16),\n",
    "            nn.ReLU(),\n",
    "            nn.Dense(512, 10).to_float(ms.float16)\n",
    "        )\n",
    "\n",
    "    def construct(self, x):\n",
    "        x = self.flatten(x)\n",
    "        logits = self.dense_relu_sequential(x)\n",
    "        return logits"
   ]
  },
  {
   "cell_type": "markdown",
   "id": "a169af9b-df4c-4644-8377-833d4cf7100a",
   "metadata": {},
   "source": [
    "#### 自定义粒度类型转换\n",
    "\n",
    "当用户需要在单个运算，或多个模块组合配置运算精度时，Cell粒度往往无法满足，此时可以直接通过对输入数据的类型进行cast来达到自定义粒度控制的目的。"
   ]
  },
  {
   "cell_type": "code",
   "execution_count": 7,
   "id": "d99f7986-bde4-4254-bc97-3baa1c7353d9",
   "metadata": {},
   "outputs": [],
   "source": [
    "class NetworkFP16Manual(nn.Cell):\n",
    "    def __init__(self):\n",
    "        super().__init__()\n",
    "        self.flatten = nn.Flatten()\n",
    "        self.dense_relu_sequential = nn.SequentialCell(\n",
    "            nn.Dense(28*28, 512),\n",
    "            nn.ReLU(),\n",
    "            nn.Dense(512, 512),\n",
    "            nn.ReLU(),\n",
    "            nn.Dense(512, 10)\n",
    "        )\n",
    "\n",
    "    def construct(self, x):\n",
    "        x = self.flatten(x)\n",
    "        x = x.astype(ms.float16)\n",
    "        logits = self.dense_relu_sequential(x)\n",
    "        logits = logits.astype(ms.float32)\n",
    "        return logits"
   ]
  },
  {
   "cell_type": "markdown",
   "id": "42d9a6e5-765e-4c28-9ad4-2c1f59996a0b",
   "metadata": {},
   "source": [
    "## 损失缩放\n",
    "\n",
    "MindSpore中提供了两种Loss Scale的实现，分别为`StaticLossScaler`和`DynamicLossScaler`，其差异为损失缩放值scale value是否进行动态调整。下面以`DynamicLossScalar`为例，根据混合精度计算流程实现神经网络训练逻辑。\n",
    "\n",
    "首先，实例化LossScaler，并在定义前向网络时，手动放大loss值。"
   ]
  },
  {
   "cell_type": "code",
   "execution_count": 8,
   "id": "9f3abade",
   "metadata": {
    "collapsed": false,
    "jupyter": {
     "outputs_hidden": false
    },
    "pycharm": {
     "name": "#%%\n"
    }
   },
   "outputs": [],
   "source": [
    "from mindspore.amp import DynamicLossScaler\n",
    "\n",
    "# Instantiate loss function and optimizer\n",
    "loss_fn = nn.CrossEntropyLoss()\n",
    "optimizer = nn.SGD(model.trainable_params(), 1e-2)\n",
    "\n",
    "# Define LossScaler\n",
    "loss_scaler = DynamicLossScaler(scale_value=2**16, scale_factor=2, scale_window=50)\n",
    "\n",
    "def forward_fn(data, label):\n",
    "    logits = model(data)\n",
    "    loss = loss_fn(logits, label)\n",
    "    # scale up the loss value\n",
    "    loss = loss_scaler.scale(loss)\n",
    "    return loss, logits"
   ]
  },
  {
   "cell_type": "markdown",
   "id": "09ca284d",
   "metadata": {},
   "source": [
    "接下来进行函数变换，获得梯度函数。"
   ]
  },
  {
   "cell_type": "code",
   "execution_count": 9,
   "id": "95715438-38f9-4476-afc3-5ff655b66966",
   "metadata": {
    "collapsed": false,
    "jupyter": {
     "outputs_hidden": false
    },
    "pycharm": {
     "name": "#%%\n"
    }
   },
   "outputs": [],
   "source": [
    "grad_fn = value_and_grad(forward_fn, None, model.trainable_params(), has_aux=True)"
   ]
  },
  {
   "cell_type": "markdown",
   "id": "2ccec7bf",
   "metadata": {},
   "source": [
    "定义训练step：计算当前梯度值并恢复损失。使用 `all_finite` 判断是否出现梯度下溢问题，如果无溢出，恢复梯度并更新网络权重；如果溢出，跳过此step。"
   ]
  },
  {
   "cell_type": "code",
   "execution_count": 10,
   "id": "5a3c1cc3",
   "metadata": {
    "collapsed": false,
    "jupyter": {
     "outputs_hidden": false
    },
    "pycharm": {
     "name": "#%%\n"
    }
   },
   "outputs": [],
   "source": [
    "from mindspore.amp import all_finite\n",
    "\n",
    "@ms.jit\n",
    "def train_step(data, label):\n",
    "    (loss, _), grads = grad_fn(data, label)\n",
    "    loss = loss_scaler.unscale(loss)\n",
    "\n",
    "    is_finite = all_finite(grads)\n",
    "    if is_finite:\n",
    "        grads = loss_scaler.unscale(grads)\n",
    "        optimizer(grads)\n",
    "    loss_scaler.adjust(is_finite)\n",
    "\n",
    "    return loss"
   ]
  },
  {
   "cell_type": "markdown",
   "id": "70519642-58d2-485a-9614-773e270889dd",
   "metadata": {},
   "source": [
    "最后，我们训练1个epoch，观察使用自动混合精度训练的loss收敛情况。"
   ]
  },
  {
   "cell_type": "markdown",
   "id": "9bb6039f",
   "metadata": {},
   "source": [
    "如出现如下告警请忽略，并不影响模型训练。\n",
    "\n",
    "[mindspore/core/utils/file_utils.cc:253] GetRealPath] Get realpath failed, path[/tmp/ipykernel_119032/1438112663.py]\n",
    "..."
   ]
  },
  {
   "cell_type": "code",
   "execution_count": 11,
   "id": "0bb34af6-b3e2-494b-afbe-4ff68896552c",
   "metadata": {},
   "outputs": [
    {
     "name": "stderr",
     "output_type": "stream",
     "text": [
      "[ERROR] CORE(10331,ffffbbec0020,python):2025-02-22-16:32:03.981.879 [mindspore/core/utils/file_utils.cc:253] GetRealPath] Get realpath failed, path[/tmp/ipykernel_10331/933851328.py]\n",
      "[ERROR] CORE(10331,ffffbbec0020,python):2025-02-22-16:32:03.982.104 [mindspore/core/utils/file_utils.cc:253] GetRealPath] Get realpath failed, path[/tmp/ipykernel_10331/933851328.py]\n",
      "[ERROR] CORE(10331,ffffbbec0020,python):2025-02-22-16:32:03.982.149 [mindspore/core/utils/file_utils.cc:253] GetRealPath] Get realpath failed, path[/tmp/ipykernel_10331/933851328.py]\n",
      "[ERROR] CORE(10331,ffffbbec0020,python):2025-02-22-16:32:03.982.377 [mindspore/core/utils/file_utils.cc:253] GetRealPath] Get realpath failed, path[/tmp/ipykernel_10331/933851328.py]\n",
      "[ERROR] CORE(10331,ffffbbec0020,python):2025-02-22-16:32:03.982.422 [mindspore/core/utils/file_utils.cc:253] GetRealPath] Get realpath failed, path[/tmp/ipykernel_10331/933851328.py]\n",
      "[ERROR] CORE(10331,ffffbbec0020,python):2025-02-22-16:32:04.029.819 [mindspore/core/utils/file_utils.cc:253] GetRealPath] Get realpath failed, path[/tmp/ipykernel_10331/933851328.py]\n",
      "[ERROR] CORE(10331,ffffbbec0020,python):2025-02-22-16:32:04.029.916 [mindspore/core/utils/file_utils.cc:253] GetRealPath] Get realpath failed, path[/tmp/ipykernel_10331/933851328.py]\n",
      "[ERROR] CORE(10331,ffffbbec0020,python):2025-02-22-16:32:04.029.993 [mindspore/core/utils/file_utils.cc:253] GetRealPath] Get realpath failed, path[/tmp/ipykernel_10331/933851328.py]\n",
      "[ERROR] CORE(10331,ffffbbec0020,python):2025-02-22-16:32:04.030.037 [mindspore/core/utils/file_utils.cc:253] GetRealPath] Get realpath failed, path[/tmp/ipykernel_10331/933851328.py]\n",
      "[ERROR] CORE(10331,ffffbbec0020,python):2025-02-22-16:32:04.030.075 [mindspore/core/utils/file_utils.cc:253] GetRealPath] Get realpath failed, path[/tmp/ipykernel_10331/933851328.py]\n",
      "[ERROR] CORE(10331,ffffbbec0020,python):2025-02-22-16:32:04.030.236 [mindspore/core/utils/file_utils.cc:253] GetRealPath] Get realpath failed, path[/tmp/ipykernel_10331/933851328.py]\n",
      "[ERROR] CORE(10331,ffffbbec0020,python):2025-02-22-16:32:04.030.283 [mindspore/core/utils/file_utils.cc:253] GetRealPath] Get realpath failed, path[/tmp/ipykernel_10331/933851328.py]\n",
      "[ERROR] CORE(10331,ffffbbec0020,python):2025-02-22-16:32:04.030.343 [mindspore/core/utils/file_utils.cc:253] GetRealPath] Get realpath failed, path[/tmp/ipykernel_10331/933851328.py]\n",
      "[ERROR] CORE(10331,ffffbbec0020,python):2025-02-22-16:32:04.030.394 [mindspore/core/utils/file_utils.cc:253] GetRealPath] Get realpath failed, path[/tmp/ipykernel_10331/933851328.py]\n",
      "[ERROR] CORE(10331,ffffbbec0020,python):2025-02-22-16:32:04.030.455 [mindspore/core/utils/file_utils.cc:253] GetRealPath] Get realpath failed, path[/tmp/ipykernel_10331/933851328.py]\n",
      "[ERROR] CORE(10331,ffffbbec0020,python):2025-02-22-16:32:04.030.502 [mindspore/core/utils/file_utils.cc:253] GetRealPath] Get realpath failed, path[/tmp/ipykernel_10331/933851328.py]\n",
      "[ERROR] CORE(10331,ffffbbec0020,python):2025-02-22-16:32:04.030.564 [mindspore/core/utils/file_utils.cc:253] GetRealPath] Get realpath failed, path[/tmp/ipykernel_10331/933851328.py]\n",
      "[ERROR] CORE(10331,ffffbbec0020,python):2025-02-22-16:32:04.030.842 [mindspore/core/utils/file_utils.cc:253] GetRealPath] Get realpath failed, path[/tmp/ipykernel_10331/933851328.py]\n",
      "[ERROR] CORE(10331,ffffbbec0020,python):2025-02-22-16:32:04.030.888 [mindspore/core/utils/file_utils.cc:253] GetRealPath] Get realpath failed, path[/tmp/ipykernel_10331/933851328.py]\n",
      "[ERROR] CORE(10331,ffffbbec0020,python):2025-02-22-16:32:04.030.944 [mindspore/core/utils/file_utils.cc:253] GetRealPath] Get realpath failed, path[/tmp/ipykernel_10331/933851328.py]\n",
      "[ERROR] CORE(10331,ffffbbec0020,python):2025-02-22-16:32:04.030.997 [mindspore/core/utils/file_utils.cc:253] GetRealPath] Get realpath failed, path[/tmp/ipykernel_10331/933851328.py]\n",
      "[ERROR] CORE(10331,ffffbbec0020,python):2025-02-22-16:32:04.031.048 [mindspore/core/utils/file_utils.cc:253] GetRealPath] Get realpath failed, path[/tmp/ipykernel_10331/933851328.py]\n",
      "[ERROR] CORE(10331,ffffbbec0020,python):2025-02-22-16:32:04.031.100 [mindspore/core/utils/file_utils.cc:253] GetRealPath] Get realpath failed, path[/tmp/ipykernel_10331/933851328.py]\n"
     ]
    },
    {
     "name": "stdout",
     "output_type": "stream",
     "text": [
      "loss: 2.283561  [  0/938]\n",
      "loss: 1.757284  [100/938]\n",
      "loss: 0.828924  [200/938]\n",
      "loss: 0.549088  [300/938]\n",
      "loss: 0.442240  [400/938]\n",
      "loss: 0.500467  [500/938]\n",
      "loss: 0.337319  [600/938]\n",
      "loss: 0.501972  [700/938]\n",
      "loss: 0.310465  [800/938]\n",
      "loss: 0.378165  [900/938]\n"
     ]
    },
    {
     "name": "stderr",
     "output_type": "stream",
     "text": [
      "[ERROR] CORE(10331,ffffbbec0020,python):2025-02-22-16:32:21.635.989 [mindspore/core/utils/file_utils.cc:253] GetRealPath] Get realpath failed, path[/tmp/ipykernel_10331/933851328.py]\n",
      "[ERROR] CORE(10331,ffffbbec0020,python):2025-02-22-16:32:21.636.106 [mindspore/core/utils/file_utils.cc:253] GetRealPath] Get realpath failed, path[/tmp/ipykernel_10331/933851328.py]\n",
      "[ERROR] CORE(10331,ffffbbec0020,python):2025-02-22-16:32:21.636.152 [mindspore/core/utils/file_utils.cc:253] GetRealPath] Get realpath failed, path[/tmp/ipykernel_10331/933851328.py]\n",
      "[ERROR] CORE(10331,ffffbbec0020,python):2025-02-22-16:32:21.636.379 [mindspore/core/utils/file_utils.cc:253] GetRealPath] Get realpath failed, path[/tmp/ipykernel_10331/933851328.py]\n",
      "[ERROR] CORE(10331,ffffbbec0020,python):2025-02-22-16:32:21.636.424 [mindspore/core/utils/file_utils.cc:253] GetRealPath] Get realpath failed, path[/tmp/ipykernel_10331/933851328.py]\n"
     ]
    }
   ],
   "source": [
    "size = train_dataset.get_dataset_size()\n",
    "model.set_train()\n",
    "for batch, (data, label) in enumerate(train_dataset.create_tuple_iterator()):\n",
    "    loss = train_step(data, label)\n",
    "\n",
    "    if batch % 100 == 0:\n",
    "        loss, current = loss.asnumpy(), batch\n",
    "        print(f\"loss: {loss:>7f}  [{current:>3d}/{size:>3d}]\")"
   ]
  },
  {
   "cell_type": "markdown",
   "id": "17ff0777",
   "metadata": {},
   "source": [
    "可以看到loss收敛趋势正常，没有出现溢出问题。"
   ]
  },
  {
   "cell_type": "markdown",
   "id": "e307279c-1694-44d6-96be-93a7fbb169eb",
   "metadata": {},
   "source": [
    "## `Cell`配置自动混合精度\n",
    "\n",
    "MindSpore支持使用Cell封装完整计算图的编程范式，此时可以使用`mindspore.amp.build_train_network`接口，自动进行类型转换，并将Loss Scale传入，作为整图计算的一部分。\n",
    "此时仅需要配置混合精度等级和`LossScaleManager`即可获得配置好自动混合精度的计算图。\n",
    "\n",
    "`FixedLossScaleManager`和`DynamicLossScaleManager`是`Cell`配置自动混合精度的Loss scale管理接口，分别与`StaticLossScalar`和`DynamicLossScalar`对应，具体详见[mindspore.amp](https://www.mindspore.cn/docs/zh-CN/r2.5.0/api_python/mindspore.amp.html)。\n",
    "\n",
    "> 使用`Cell`配置自动混合精度训练仅支持`GPU`和`Ascend`。"
   ]
  },
  {
   "cell_type": "code",
   "execution_count": 12,
   "id": "ff433a1f-30b5-486b-bfc2-218bca91d85d",
   "metadata": {},
   "outputs": [
    {
     "name": "stdout",
     "output_type": "stream",
     "text": [
      "."
     ]
    }
   ],
   "source": [
    "from mindspore.amp import build_train_network, FixedLossScaleManager\n",
    "\n",
    "model = Network()\n",
    "loss_scale_manager = FixedLossScaleManager()\n",
    "\n",
    "model = build_train_network(model, optimizer, loss_fn, level=\"O2\", loss_scale_manager=loss_scale_manager)"
   ]
  },
  {
   "cell_type": "markdown",
   "id": "e09b86b5",
   "metadata": {},
   "source": [
    "## `Model` 配置自动混合精度"
   ]
  },
  {
   "cell_type": "markdown",
   "id": "d5c8adf4-71bb-4061-8801-9a4f97168dc5",
   "metadata": {},
   "source": [
    "`mindspore.train.Model`是神经网络快速训练的高阶封装，其将`mindspore.amp.build_train_network`封装在内，因此同样只需要配置混合精度等级和`LossScaleManager`，即可进行自动混合精度训练。\n",
    "\n",
    "> 使用`Model`配置自动混合精度训练仅支持`GPU`和`Ascend`。"
   ]
  },
  {
   "cell_type": "code",
   "execution_count": 13,
   "id": "4e855c91",
   "metadata": {
    "collapsed": false,
    "jupyter": {
     "outputs_hidden": false
    },
    "pycharm": {
     "name": "#%%\n"
    }
   },
   "outputs": [
    {
     "name": "stdout",
     "output_type": "stream",
     "text": [
      "epoch: 1 step: 100, loss is 1.7207587\n",
      "epoch: 1 step: 200, loss is 0.8560922\n",
      "epoch: 1 step: 300, loss is 0.51207745\n",
      "epoch: 1 step: 400, loss is 0.59479046\n",
      "epoch: 1 step: 500, loss is 0.4142971\n",
      "epoch: 1 step: 600, loss is 0.36488798\n",
      "epoch: 1 step: 700, loss is 0.28091013\n",
      "epoch: 1 step: 800, loss is 0.40492067\n",
      "epoch: 1 step: 900, loss is 0.36308324\n",
      "epoch: 2 step: 62, loss is 0.23377907\n",
      "epoch: 2 step: 162, loss is 0.25783044\n",
      "epoch: 2 step: 262, loss is 0.3463395\n",
      "epoch: 2 step: 362, loss is 0.18748818\n",
      "epoch: 2 step: 462, loss is 0.23970774\n",
      "epoch: 2 step: 562, loss is 0.16158819\n",
      "epoch: 2 step: 662, loss is 0.24567005\n",
      "epoch: 2 step: 762, loss is 0.26954034\n",
      "epoch: 2 step: 862, loss is 0.2993837\n",
      "epoch: 3 step: 24, loss is 0.28033078\n",
      "epoch: 3 step: 124, loss is 0.2827335\n",
      "epoch: 3 step: 224, loss is 0.23706183\n",
      "epoch: 3 step: 324, loss is 0.23544204\n",
      "epoch: 3 step: 424, loss is 0.20315143\n",
      "epoch: 3 step: 524, loss is 0.18154421\n",
      "epoch: 3 step: 624, loss is 0.25626007\n",
      "epoch: 3 step: 724, loss is 0.32450858\n",
      "epoch: 3 step: 824, loss is 0.27233428\n",
      "epoch: 3 step: 924, loss is 0.2221368\n",
      "epoch: 4 step: 86, loss is 0.09236869\n",
      "epoch: 4 step: 186, loss is 0.12910323\n",
      "epoch: 4 step: 286, loss is 0.1784873\n",
      "epoch: 4 step: 386, loss is 0.11677813\n",
      "epoch: 4 step: 486, loss is 0.19205058\n",
      "epoch: 4 step: 586, loss is 0.2847665\n",
      "epoch: 4 step: 686, loss is 0.14448506\n",
      "epoch: 4 step: 786, loss is 0.15280645\n",
      "epoch: 4 step: 886, loss is 0.19282459\n",
      "epoch: 5 step: 48, loss is 0.20583697\n",
      "epoch: 5 step: 148, loss is 0.22956926\n",
      "epoch: 5 step: 248, loss is 0.20670246\n",
      "epoch: 5 step: 348, loss is 0.12261986\n",
      "epoch: 5 step: 448, loss is 0.20967713\n",
      "epoch: 5 step: 548, loss is 0.09355535\n",
      "epoch: 5 step: 648, loss is 0.16515574\n",
      "epoch: 5 step: 748, loss is 0.094533026\n",
      "epoch: 5 step: 848, loss is 0.107042104\n",
      "epoch: 6 step: 10, loss is 0.12492626\n",
      "epoch: 6 step: 110, loss is 0.14275478\n",
      "epoch: 6 step: 210, loss is 0.081514545\n",
      "epoch: 6 step: 310, loss is 0.23530169\n",
      "epoch: 6 step: 410, loss is 0.3464948\n",
      "epoch: 6 step: 510, loss is 0.22214125\n",
      "epoch: 6 step: 610, loss is 0.1466167\n",
      "epoch: 6 step: 710, loss is 0.22579002\n",
      "epoch: 6 step: 810, loss is 0.13211472\n",
      "epoch: 6 step: 910, loss is 0.21673718\n",
      "epoch: 7 step: 72, loss is 0.078940265\n",
      "epoch: 7 step: 172, loss is 0.10499442\n",
      "epoch: 7 step: 272, loss is 0.16785574\n",
      "epoch: 7 step: 372, loss is 0.18796316\n",
      "epoch: 7 step: 472, loss is 0.12169438\n",
      "epoch: 7 step: 572, loss is 0.2374933\n",
      "epoch: 7 step: 672, loss is 0.13277468\n",
      "epoch: 7 step: 772, loss is 0.16036505\n",
      "epoch: 7 step: 872, loss is 0.11670114\n",
      "epoch: 8 step: 34, loss is 0.06654371\n",
      "epoch: 8 step: 134, loss is 0.10116998\n",
      "epoch: 8 step: 234, loss is 0.13479671\n",
      "epoch: 8 step: 334, loss is 0.07179332\n",
      "epoch: 8 step: 434, loss is 0.2512645\n",
      "epoch: 8 step: 534, loss is 0.38190666\n",
      "epoch: 8 step: 634, loss is 0.12752315\n",
      "epoch: 8 step: 734, loss is 0.0564996\n",
      "epoch: 8 step: 834, loss is 0.124098934\n",
      "epoch: 8 step: 934, loss is 0.17013344\n",
      "epoch: 9 step: 96, loss is 0.022174083\n",
      "epoch: 9 step: 196, loss is 0.054416567\n",
      "epoch: 9 step: 296, loss is 0.07227466\n",
      "epoch: 9 step: 396, loss is 0.18597971\n",
      "epoch: 9 step: 496, loss is 0.1813781\n",
      "epoch: 9 step: 596, loss is 0.07637482\n",
      "epoch: 9 step: 696, loss is 0.08404245\n",
      "epoch: 9 step: 796, loss is 0.12329745\n",
      "epoch: 9 step: 896, loss is 0.16165549\n",
      "epoch: 10 step: 58, loss is 0.114085466\n",
      "epoch: 10 step: 158, loss is 0.059750438\n",
      "epoch: 10 step: 258, loss is 0.12866679\n",
      "epoch: 10 step: 358, loss is 0.07037936\n",
      "epoch: 10 step: 458, loss is 0.08228986\n",
      "epoch: 10 step: 558, loss is 0.163324\n",
      "epoch: 10 step: 658, loss is 0.28426903\n",
      "epoch: 10 step: 758, loss is 0.11048245\n",
      "epoch: 10 step: 858, loss is 0.0863429\n"
     ]
    }
   ],
   "source": [
    "from mindspore.train import Model, LossMonitor\n",
    "# Initialize network\n",
    "model = Network()\n",
    "loss_fn = nn.CrossEntropyLoss()\n",
    "optimizer = nn.SGD(model.trainable_params(), 1e-2)\n",
    "\n",
    "loss_scale_manager = FixedLossScaleManager()\n",
    "trainer = Model(model, loss_fn=loss_fn, optimizer=optimizer, metrics={'accuracy'}, amp_level=\"O2\", loss_scale_manager=loss_scale_manager)\n",
    "\n",
    "loss_callback = LossMonitor(100)\n",
    "trainer.train(10, train_dataset, callbacks=[loss_callback])"
   ]
  },
  {
   "cell_type": "markdown",
   "id": "7e24bdca",
   "metadata": {},
   "source": [
    "> 图片引用自[automatic-mixed-precision](https://developer.nvidia.com/automatic-mixed-precision)。"
   ]
  }
 ],
 "metadata": {
  "kernelspec": {
   "display_name": "Python 3 (ipykernel)",
   "language": "python",
   "name": "python3"
  },
  "language_info": {
   "codemirror_mode": {
    "name": "ipython",
    "version": 3
   },
   "file_extension": ".py",
   "mimetype": "text/x-python",
   "name": "python",
   "nbconvert_exporter": "python",
   "pygments_lexer": "ipython3",
   "version": "3.9.21"
  },
  "vscode": {
   "interpreter": {
    "hash": "8c9da313289c39257cb28b126d2dadd33153d4da4d524f730c81a4aaccbd2ca7"
   }
  }
 },
 "nbformat": 4,
 "nbformat_minor": 5
}
