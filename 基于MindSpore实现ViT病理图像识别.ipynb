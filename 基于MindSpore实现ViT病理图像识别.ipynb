{
 "cells": [
  {
   "cell_type": "markdown",
   "id": "3b69f2b5-5c6f-4c3d-91b8-342f707fbcf9",
   "metadata": {
    "tags": []
   },
   "source": [
    "## 项目背景介绍\n",
    "> \n",
    "+ 在本项目中，基于MindSpore框架使用 MedMNIST 提供的 PathMNIST 数据集，利用预训练的 Vision Transformer（ViT）模型对结直肠组织图像进行多分类任务；\n",
    "+ PathMNIST 为 MedMNIST v2 中的一个子集，专注于结直肠癌组织切片的多分类任务，共包含约 100,000 张 28×28 彩色图像，涵盖 9 类组织类型，包括正常粘膜、癌相关间质、淋巴细胞等。  PathMNIST 数据集经过统一尺寸与预处理，便于快速原型开发与模型评估；  \n",
    "+ 结直肠癌是全球发病率和死亡率较高的恶性肿瘤之一，早期病理筛查与分类对提高诊断准确性和治疗效果至关重要。利用自动化图像识别技术，可减轻病理专家工作量并提升诊断一致性。      "
   ]
  },
  {
   "cell_type": "markdown",
   "id": "56c8a3f3-b0c9-4f19-9960-39ede2493791",
   "metadata": {},
   "source": [
    "## 模型简介\n",
    ">\n",
    "+ ViT 通过将图像划分为固定大小的“patch”并在 Transformer 编码器上进行自注意力计算，展现出在各类视觉任务上媲美或超越传统 CNN 的性能；\n",
    "+ 采用 MindVision 提供的 vit_b_16 模型，该模型在 ImageNet-21k 上预训练，并在 ImageNet-1k 上微调后提供良好泛化性能；\n",
    "+ 将原有的 1000 类分类头替换为适应 PathMNIST 的 9 类输出层，保留主干 Transformer 权重，以加速下游任务训练。"
   ]
  },
  {
   "cell_type": "markdown",
   "id": "2e409768-1100-4d76-a756-b8172cead8c6",
   "metadata": {},
   "source": [
    "## 环境配置"
   ]
  },
  {
   "cell_type": "code",
   "execution_count": null,
   "id": "d7b61724-09ae-4d55-907f-9fb955a6d60d",
   "metadata": {},
   "outputs": [],
   "source": [
    "%%capture captured_output\n",
    "# 实验环境已经预装了mindspore==2.5.0，如需更换mindspore版本，可更改下面 MINDSPORE_VERSION 变量\n",
    "!pip uninstall mindspore -y\n",
    "%env MINDSPORE_VERSION=2.5.0\n",
    "!pip install https://ms-release.obs.cn-north-4.myhuaweicloud.com/${MINDSPORE_VERSION}/MindSpore/unified/aarch64/mindspore-${MINDSPORE_VERSION}-cp39-cp39-linux_aarch64.whl --trusted-host ms-release.obs.cn-north-4.myhuaweicloud.com -i https://pypi.tuna.tsinghua.edu.cn/simple"
   ]
  },
  {
   "cell_type": "code",
   "execution_count": 5,
   "id": "f5eeb9f1-4e69-42a7-be65-9641f3653403",
   "metadata": {
    "tags": []
   },
   "outputs": [
    {
     "name": "stdout",
     "output_type": "stream",
     "text": [
      "Name: mindspore\n",
      "Version: 2.5.0\n",
      "Summary: MindSpore is a new open source deep learning training/inference framework that could be used for mobile, edge and cloud scenarios.\n",
      "Home-page: https://www.mindspore.cn\n",
      "Author: The MindSpore Authors\n",
      "Author-email: contact@mindspore.cn\n",
      "License: Apache 2.0\n",
      "Location: /home/mindspore/miniconda/envs/jupyter/lib/python3.9/site-packages\n",
      "Requires: asttokens, astunparse, dill, numpy, packaging, pillow, protobuf, psutil, safetensors, scipy\n",
      "Required-by: \n"
     ]
    }
   ],
   "source": [
    "# 查看当前 mindspore 版本\n",
    "!pip show mindspore"
   ]
  },
  {
   "cell_type": "code",
   "execution_count": 3,
   "id": "a663d2ce-a95e-489d-947a-f2d7ba4a85a4",
   "metadata": {
    "tags": []
   },
   "outputs": [
    {
     "name": "stdout",
     "output_type": "stream",
     "text": [
      "Looking in indexes: https://repo.huaweicloud.com/repository/pypi/simple/\n",
      "Collecting medmnist\n",
      "  Downloading https://repo.huaweicloud.com/repository/pypi/packages/b5/ea/53e762bb5c3f443fed86b2020daf2e0bb42fa87fea3ac31b374df86364e2/medmnist-3.0.2-py3-none-any.whl (25 kB)\n",
      "Requirement already satisfied: numpy in /home/mindspore/miniconda/envs/jupyter/lib/python3.9/site-packages (from medmnist) (1.26.4)\n",
      "Requirement already satisfied: pandas in /home/mindspore/miniconda/envs/jupyter/lib/python3.9/site-packages (from medmnist) (2.2.3)\n",
      "Requirement already satisfied: scikit-learn in /home/mindspore/miniconda/envs/jupyter/lib/python3.9/site-packages (from medmnist) (1.6.1)\n",
      "Collecting scikit-image (from medmnist)\n",
      "  Downloading https://repo.huaweicloud.com/repository/pypi/packages/52/03/59c52aa59b952aafcf19163e5d7e924e6156c3d9e9c86ea3372ad31d90f8/scikit_image-0.24.0-cp39-cp39-manylinux_2_17_aarch64.manylinux2014_aarch64.whl (14.2 MB)\n",
      "\u001b[2K     \u001b[90m━━━━━━━━━━━━━━━━━━━━━━━━━━━━━━━━━━━━━━━━\u001b[0m \u001b[32m14.2/14.2 MB\u001b[0m \u001b[31m69.5 MB/s\u001b[0m eta \u001b[36m0:00:00\u001b[0m00:01\u001b[0m\n",
      "\u001b[?25hRequirement already satisfied: tqdm in /home/mindspore/miniconda/envs/jupyter/lib/python3.9/site-packages (from medmnist) (4.67.1)\n",
      "Requirement already satisfied: Pillow in /home/mindspore/miniconda/envs/jupyter/lib/python3.9/site-packages (from medmnist) (11.2.1)\n",
      "Collecting fire (from medmnist)\n",
      "  Downloading https://repo.huaweicloud.com/repository/pypi/packages/6b/b6/82c7e601d6d3c3278c40b7bd35e17e82aa227f050aa9f66cb7b7fce29471/fire-0.7.0.tar.gz (87 kB)\n",
      "  Preparing metadata (setup.py) ... \u001b[?25ldone\n",
      "\u001b[?25hCollecting torch (from medmnist)\n",
      "  Downloading https://repo.huaweicloud.com/repository/pypi/packages/57/6a/36775d1b553a443ba1453e1bfeae903ef20d94c95ab31aa09225bf52fda1/torch-2.7.0-cp39-cp39-manylinux_2_28_aarch64.whl (99.2 MB)\n",
      "\u001b[2K     \u001b[90m━━━━━━━━━━━━━━━━━━━━━━━━━━━━━━━━━━━━━━━━\u001b[0m \u001b[32m99.2/99.2 MB\u001b[0m \u001b[31m22.7 MB/s\u001b[0m eta \u001b[36m0:00:00\u001b[0m00:01\u001b[0m00:01\u001b[0m\n",
      "\u001b[?25hCollecting torchvision (from medmnist)\n",
      "  Downloading https://repo.huaweicloud.com/repository/pypi/packages/2c/40/ca84add0f8e548a5b083b271e832786cd397047a9c2e7fac76c0c1f3de04/torchvision-0.22.0-cp39-cp39-manylinux_2_28_aarch64.whl (2.5 MB)\n",
      "\u001b[2K     \u001b[90m━━━━━━━━━━━━━━━━━━━━━━━━━━━━━━━━━━━━━━━━\u001b[0m \u001b[32m2.5/2.5 MB\u001b[0m \u001b[31m84.9 MB/s\u001b[0m eta \u001b[36m0:00:00\u001b[0m\n",
      "\u001b[?25hCollecting termcolor (from fire->medmnist)\n",
      "  Downloading https://repo.huaweicloud.com/repository/pypi/packages/4f/bd/de8d508070629b6d84a30d01d57e4a65c69aa7f5abe7560b8fad3b50ea59/termcolor-3.1.0-py3-none-any.whl (7.7 kB)\n",
      "Requirement already satisfied: python-dateutil>=2.8.2 in /home/mindspore/miniconda/envs/jupyter/lib/python3.9/site-packages (from pandas->medmnist) (2.9.0.post0)\n",
      "Requirement already satisfied: pytz>=2020.1 in /home/mindspore/miniconda/envs/jupyter/lib/python3.9/site-packages (from pandas->medmnist) (2025.2)\n",
      "Requirement already satisfied: tzdata>=2022.7 in /home/mindspore/miniconda/envs/jupyter/lib/python3.9/site-packages (from pandas->medmnist) (2025.2)\n",
      "Requirement already satisfied: six>=1.5 in /home/mindspore/miniconda/envs/jupyter/lib/python3.9/site-packages (from python-dateutil>=2.8.2->pandas->medmnist) (1.17.0)\n",
      "Requirement already satisfied: scipy>=1.9 in /home/mindspore/miniconda/envs/jupyter/lib/python3.9/site-packages (from scikit-image->medmnist) (1.13.1)\n",
      "Collecting networkx>=2.8 (from scikit-image->medmnist)\n",
      "  Downloading https://repo.huaweicloud.com/repository/pypi/packages/d5/f0/8fbc882ca80cf077f1b246c0e3c3465f7f415439bdea6b899f6b19f61f70/networkx-3.2.1-py3-none-any.whl (1.6 MB)\n",
      "\u001b[2K     \u001b[90m━━━━━━━━━━━━━━━━━━━━━━━━━━━━━━━━━━━━━━━━\u001b[0m \u001b[32m1.6/1.6 MB\u001b[0m \u001b[31m87.9 MB/s\u001b[0m eta \u001b[36m0:00:00\u001b[0m\n",
      "\u001b[?25hCollecting imageio>=2.33 (from scikit-image->medmnist)\n",
      "  Downloading https://repo.huaweicloud.com/repository/pypi/packages/cb/bd/b394387b598ed84d8d0fa90611a90bee0adc2021820ad5729f7ced74a8e2/imageio-2.37.0-py3-none-any.whl (315 kB)\n",
      "Collecting tifffile>=2022.8.12 (from scikit-image->medmnist)\n",
      "  Downloading https://repo.huaweicloud.com/repository/pypi/packages/3a/4f/73714b1c1d339b1545cac28764e39f88c69468b5e10e51f327f9aa9d55b9/tifffile-2024.8.30-py3-none-any.whl (227 kB)\n",
      "Requirement already satisfied: packaging>=21 in /home/mindspore/miniconda/envs/jupyter/lib/python3.9/site-packages (from scikit-image->medmnist) (24.2)\n",
      "Collecting lazy-loader>=0.4 (from scikit-image->medmnist)\n",
      "  Downloading https://repo.huaweicloud.com/repository/pypi/packages/83/60/d497a310bde3f01cb805196ac61b7ad6dc5dcf8dce66634dc34364b20b4f/lazy_loader-0.4-py3-none-any.whl (12 kB)\n",
      "Requirement already satisfied: joblib>=1.2.0 in /home/mindspore/miniconda/envs/jupyter/lib/python3.9/site-packages (from scikit-learn->medmnist) (1.4.2)\n",
      "Requirement already satisfied: threadpoolctl>=3.1.0 in /home/mindspore/miniconda/envs/jupyter/lib/python3.9/site-packages (from scikit-learn->medmnist) (3.6.0)\n",
      "Collecting filelock (from torch->medmnist)\n",
      "  Downloading https://repo.huaweicloud.com/repository/pypi/packages/4d/36/2a115987e2d8c300a974597416d9de88f2444426de9571f4b59b2cca3acc/filelock-3.18.0-py3-none-any.whl (16 kB)\n",
      "Requirement already satisfied: typing-extensions>=4.10.0 in /home/mindspore/miniconda/envs/jupyter/lib/python3.9/site-packages (from torch->medmnist) (4.12.2)\n",
      "Requirement already satisfied: sympy>=1.13.3 in /home/mindspore/miniconda/envs/jupyter/lib/python3.9/site-packages (from torch->medmnist) (1.13.3)\n",
      "Requirement already satisfied: jinja2 in /home/mindspore/miniconda/envs/jupyter/lib/python3.9/site-packages (from torch->medmnist) (3.1.6)\n",
      "Collecting fsspec (from torch->medmnist)\n",
      "  Downloading https://repo.huaweicloud.com/repository/pypi/packages/44/4b/e0cfc1a6f17e990f3e64b7d941ddc4acdc7b19d6edd51abf495f32b1a9e4/fsspec-2025.3.2-py3-none-any.whl (194 kB)\n",
      "Requirement already satisfied: mpmath<1.4,>=1.1.0 in /home/mindspore/miniconda/envs/jupyter/lib/python3.9/site-packages (from sympy>=1.13.3->torch->medmnist) (1.3.0)\n",
      "Requirement already satisfied: MarkupSafe>=2.0 in /home/mindspore/miniconda/envs/jupyter/lib/python3.9/site-packages (from jinja2->torch->medmnist) (3.0.2)\n",
      "Building wheels for collected packages: fire\n",
      "\u001b[33m  DEPRECATION: Building 'fire' using the legacy setup.py bdist_wheel mechanism, which will be removed in a future version. pip 25.3 will enforce this behaviour change. A possible replacement is to use the standardized build interface by setting the `--use-pep517` option, (possibly combined with `--no-build-isolation`), or adding a `pyproject.toml` file to the source tree of 'fire'. Discussion can be found at https://github.com/pypa/pip/issues/6334\u001b[0m\u001b[33m\n",
      "\u001b[0m  Building wheel for fire (setup.py) ... \u001b[?25ldone\n",
      "\u001b[?25h  Created wheel for fire: filename=fire-0.7.0-py3-none-any.whl size=114298 sha256=f3193544b185fc1eedab0d7cdaa70e6abe9c9f5afd60ecf2afd7b30a64761bd2\n",
      "  Stored in directory: /home/mindspore/.cache/pip/wheels/40/a2/14/1a10dfb4d2c13453acadb604427d13db8d84e0dfe21bcf8d64\n",
      "Successfully built fire\n",
      "Installing collected packages: tifffile, termcolor, networkx, lazy-loader, imageio, fsspec, filelock, torch, scikit-image, fire, torchvision, medmnist\n",
      "\u001b[2K   \u001b[90m━━━━━━━━━━━━━━━━━━━━━━━━━━━━━━━━━━━━━━━━\u001b[0m \u001b[32m12/12\u001b[0m [medmnist]/12\u001b[0m [torchvision]]\n",
      "\u001b[1A\u001b[2KSuccessfully installed filelock-3.18.0 fire-0.7.0 fsspec-2025.3.2 imageio-2.37.0 lazy-loader-0.4 medmnist-3.0.2 networkx-3.2.1 scikit-image-0.24.0 termcolor-3.1.0 tifffile-2024.8.30 torch-2.7.0 torchvision-0.22.0\n",
      "\n",
      "\u001b[1m[\u001b[0m\u001b[34;49mnotice\u001b[0m\u001b[1;39;49m]\u001b[0m\u001b[39;49m A new release of pip is available: \u001b[0m\u001b[31;49m25.1\u001b[0m\u001b[39;49m -> \u001b[0m\u001b[32;49m25.1.1\u001b[0m\n",
      "\u001b[1m[\u001b[0m\u001b[34;49mnotice\u001b[0m\u001b[1;39;49m]\u001b[0m\u001b[39;49m To update, run: \u001b[0m\u001b[32;49mpython -m pip install --upgrade pip\u001b[0m\n"
     ]
    }
   ],
   "source": [
    "!pip install medmnist\n",
    "!export HF_ENDPOINT=https://hf-mirror.com"
   ]
  },
  {
   "cell_type": "markdown",
   "id": "a3d6ee8c-b795-4fc3-a4d2-b12c08806e62",
   "metadata": {},
   "source": [
    "## 数据集加载及预处理"
   ]
  },
  {
   "cell_type": "code",
   "execution_count": 1,
   "id": "855d24e9-1591-49fe-b8f0-68dc75c31be9",
   "metadata": {
    "tags": []
   },
   "outputs": [
    {
     "name": "stderr",
     "output_type": "stream",
     "text": [
      "/home/mindspore/miniconda/envs/jupyter/lib/python3.9/site-packages/numpy/core/getlimits.py:549: UserWarning: The value of the smallest subnormal for <class 'numpy.float64'> type is zero.\n",
      "  setattr(self, word, getattr(machar, word).flat[0])\n",
      "/home/mindspore/miniconda/envs/jupyter/lib/python3.9/site-packages/numpy/core/getlimits.py:89: UserWarning: The value of the smallest subnormal for <class 'numpy.float64'> type is zero.\n",
      "  return self._float_to_str(self.smallest_subnormal)\n",
      "/home/mindspore/miniconda/envs/jupyter/lib/python3.9/site-packages/numpy/core/getlimits.py:549: UserWarning: The value of the smallest subnormal for <class 'numpy.float32'> type is zero.\n",
      "  setattr(self, word, getattr(machar, word).flat[0])\n",
      "/home/mindspore/miniconda/envs/jupyter/lib/python3.9/site-packages/numpy/core/getlimits.py:89: UserWarning: The value of the smallest subnormal for <class 'numpy.float32'> type is zero.\n",
      "  return self._float_to_str(self.smallest_subnormal)\n"
     ]
    }
   ],
   "source": [
    "import os\n",
    "import mindspore\n",
    "from mindspore import dataset as ds\n",
    "from medmnist import INFO, PathMNIST\n",
    "import mindspore.dataset.vision as vision\n",
    "from mindspore.dataset import GeneratorDataset\n",
    "from mindspore.dataset import transforms as c_transforms\n",
    "\n",
    "\n",
    "# 指定数据集\n",
    "data_flag = 'pathmnist'\n",
    "download_root = './data'\n",
    "os.makedirs(download_root, exist_ok=True) \n",
    "# 从 INFO 中读取所有可用字段\n",
    "info = INFO[data_flag]\n",
    "\n",
    "# 直接根据标签列表计算类别数\n",
    "labels = info['label']           # 每个元素是一个类别名称\n",
    "num_classes = len(labels)        # 类别总数 :contentReference[oaicite:0]{index=0}\n",
    "n_channels  = info['n_channels'] # 通道数\n",
    "\n",
    "# 下载并加载数据\n",
    "train_dataset = PathMNIST(root=download_root, split='train', download=True)\n",
    "val_dataset   = PathMNIST(root=download_root, split='val',   download=True)"
   ]
  },
  {
   "cell_type": "code",
   "execution_count": 2,
   "id": "1ac6a6e6-fc1a-4efb-a59e-41a8973afab2",
   "metadata": {
    "tags": []
   },
   "outputs": [],
   "source": [
    "def create_dataset(dataset, batch_size=32, shuffle=True):\n",
    "    py_ops = [\n",
    "        vision.Resize((224, 224)),   # 对 PIL/ndarray 做缩放\n",
    "        vision.ToTensor(),           # 转为 [C,H,W] float32, 0~1\n",
    "    ]\n",
    "    ds = GeneratorDataset(dataset, column_names=['image','label'], shuffle=shuffle)  # image 已是 PIL/ndarray :contentReference[oaicite:5]{index=5}\n",
    "    ds = ds.map(input_columns=['image'], operations=py_ops)                            # 直接用 Python transforms :contentReference[oaicite:6]{index=6}\n",
    "    ds = ds.map(input_columns=['label'], operations=lambda x: x.squeeze().astype('int32'))\n",
    "    ds = ds.batch(batch_size)\n",
    "    return ds\n",
    "\n",
    "\n",
    "# 构造训练/验证集\n",
    "train_ds = create_dataset(train_dataset, batch_size=64, shuffle=True)\n",
    "val_ds   = create_dataset(val_dataset,   batch_size=64, shuffle=False)"
   ]
  },
  {
   "cell_type": "markdown",
   "id": "f4faceb9-bf63-4315-a5e9-f07854c8efa0",
   "metadata": {
    "tags": []
   },
   "source": [
    "从数据集随机选取9个样本展示"
   ]
  },
  {
   "cell_type": "code",
   "execution_count": 3,
   "id": "72f82fc7-fcd9-45c0-9942-07af03cdff98",
   "metadata": {
    "tags": []
   },
   "outputs": [
    {
     "data": {
      "image/png": "[encoded data removed]",
      "text/plain": [
       "<Figure size 800x800 with 9 Axes>"
      ]
     },
     "metadata": {},
     "output_type": "display_data"
    }
   ],
   "source": [
    "import matplotlib.pyplot as plt\n",
    "import numpy as np\n",
    "from medmnist import PathMNIST\n",
    "\n",
    "# 定义类别名称\n",
    "labels = [\n",
    "    'Adipose tissue',\n",
    "    'Background',\n",
    "    'Debris',\n",
    "    'Lymphocytes',\n",
    "    'Mucus',\n",
    "    'Smooth muscle',\n",
    "    'Normal colon mucosa',\n",
    "    'Cancer-associated stroma',\n",
    "    'Colorectal adenocarcinoma epithelium'\n",
    "]\n",
    "\n",
    "# 假设 train_dataset 已经初始化好\n",
    "num_samples = 9\n",
    "indices = np.random.choice(len(train_dataset), num_samples, replace=False)\n",
    "\n",
    "plt.figure(figsize=(8, 8))\n",
    "for i, idx in enumerate(indices):\n",
    "    pil_img, target = train_dataset[idx]\n",
    "    cls = int(target.item())         # 获取整数标签\n",
    "    class_name = labels[cls]         # 查找类别名称\n",
    "\n",
    "    # 将 PIL Image 转为 NumPy 数组\n",
    "    img_np = np.array(pil_img)\n",
    "\n",
    "    plt.subplot(3, 3, i + 1)\n",
    "    # 根据数组维度决定用灰度还是彩色显示\n",
    "    if img_np.ndim == 2:\n",
    "        plt.imshow(img_np, cmap='gray')\n",
    "    else:\n",
    "        plt.imshow(img_np)\n",
    "    plt.title(class_name, fontsize=8)\n",
    "    plt.axis('off')\n",
    "\n",
    "plt.tight_layout()\n",
    "plt.show()"
   ]
  },
  {
   "cell_type": "markdown",
   "id": "823d09c5-fac1-4f36-90bb-3a8a002ce4e6",
   "metadata": {},
   "source": [
    "## 模型构建"
   ]
  },
  {
   "cell_type": "code",
   "execution_count": 4,
   "id": "ca1d5567-477b-40af-a2f4-4f791d205401",
   "metadata": {
    "tags": []
   },
   "outputs": [
    {
     "name": "stderr",
     "output_type": "stream",
     "text": [
      "[WARNING] ME(6494:281473106489376,MainProcess):2025-05-13-01:24:23.824.917 [mindspore/nn/layer/basic.py:176] For Dropout, this parameter `keep_prob` will be deprecated, please use `p` instead.\n",
      "[WARNING] ME(6494:281473106489376,MainProcess):2025-05-13-01:24:23.869.322 [mindspore/nn/layer/basic.py:176] For Dropout, this parameter `keep_prob` will be deprecated, please use `p` instead.\n",
      "[WARNING] ME(6494:281473106489376,MainProcess):2025-05-13-01:24:23.882.181 [mindspore/nn/layer/basic.py:176] For Dropout, this parameter `keep_prob` will be deprecated, please use `p` instead.\n",
      "[WARNING] ME(6494:281473106489376,MainProcess):2025-05-13-01:24:23.961.628 [mindspore/nn/layer/basic.py:176] For Dropout, this parameter `keep_prob` will be deprecated, please use `p` instead.\n",
      "[WARNING] ME(6494:281473106489376,MainProcess):2025-05-13-01:24:23.999.259 [mindspore/nn/layer/basic.py:176] For Dropout, this parameter `keep_prob` will be deprecated, please use `p` instead.\n",
      "[WARNING] ME(6494:281473106489376,MainProcess):2025-05-13-01:24:24.116.67 [mindspore/nn/layer/basic.py:176] For Dropout, this parameter `keep_prob` will be deprecated, please use `p` instead.\n",
      "[WARNING] ME(6494:281473106489376,MainProcess):2025-05-13-01:24:24.913.78 [mindspore/nn/layer/basic.py:176] For Dropout, this parameter `keep_prob` will be deprecated, please use `p` instead.\n",
      "[WARNING] ME(6494:281473106489376,MainProcess):2025-05-13-01:24:24.128.145 [mindspore/nn/layer/basic.py:176] For Dropout, this parameter `keep_prob` will be deprecated, please use `p` instead.\n",
      "[WARNING] ME(6494:281473106489376,MainProcess):2025-05-13-01:24:24.140.622 [mindspore/nn/layer/basic.py:176] For Dropout, this parameter `keep_prob` will be deprecated, please use `p` instead.\n",
      "[WARNING] ME(6494:281473106489376,MainProcess):2025-05-13-01:24:24.221.850 [mindspore/nn/layer/basic.py:176] For Dropout, this parameter `keep_prob` will be deprecated, please use `p` instead.\n",
      "[WARNING] ME(6494:281473106489376,MainProcess):2025-05-13-01:24:24.259.698 [mindspore/nn/layer/basic.py:176] For Dropout, this parameter `keep_prob` will be deprecated, please use `p` instead.\n",
      "[WARNING] ME(6494:281473106489376,MainProcess):2025-05-13-01:24:24.272.113 [mindspore/nn/layer/basic.py:176] For Dropout, this parameter `keep_prob` will be deprecated, please use `p` instead.\n",
      "[WARNING] ME(6494:281473106489376,MainProcess):2025-05-13-01:24:24.351.775 [mindspore/nn/layer/basic.py:176] For Dropout, this parameter `keep_prob` will be deprecated, please use `p` instead.\n",
      "[WARNING] ME(6494:281473106489376,MainProcess):2025-05-13-01:24:24.388.454 [mindspore/nn/layer/basic.py:176] For Dropout, this parameter `keep_prob` will be deprecated, please use `p` instead.\n",
      "[WARNING] ME(6494:281473106489376,MainProcess):2025-05-13-01:24:24.401.050 [mindspore/nn/layer/basic.py:176] For Dropout, this parameter `keep_prob` will be deprecated, please use `p` instead.\n",
      "[WARNING] ME(6494:281473106489376,MainProcess):2025-05-13-01:24:24.480.782 [mindspore/nn/layer/basic.py:176] For Dropout, this parameter `keep_prob` will be deprecated, please use `p` instead.\n",
      "[WARNING] ME(6494:281473106489376,MainProcess):2025-05-13-01:24:24.517.927 [mindspore/nn/layer/basic.py:176] For Dropout, this parameter `keep_prob` will be deprecated, please use `p` instead.\n",
      "[WARNING] ME(6494:281473106489376,MainProcess):2025-05-13-01:24:24.530.300 [mindspore/nn/layer/basic.py:176] For Dropout, this parameter `keep_prob` will be deprecated, please use `p` instead.\n",
      "[WARNING] ME(6494:281473106489376,MainProcess):2025-05-13-01:24:24.610.027 [mindspore/nn/layer/basic.py:176] For Dropout, this parameter `keep_prob` will be deprecated, please use `p` instead.\n",
      "[WARNING] ME(6494:281473106489376,MainProcess):2025-05-13-01:24:24.650.088 [mindspore/nn/layer/basic.py:176] For Dropout, this parameter `keep_prob` will be deprecated, please use `p` instead.\n",
      "[WARNING] ME(6494:281473106489376,MainProcess):2025-05-13-01:24:24.662.881 [mindspore/nn/layer/basic.py:176] For Dropout, this parameter `keep_prob` will be deprecated, please use `p` instead.\n",
      "[WARNING] ME(6494:281473106489376,MainProcess):2025-05-13-01:24:24.745.111 [mindspore/nn/layer/basic.py:176] For Dropout, this parameter `keep_prob` will be deprecated, please use `p` instead.\n",
      "[WARNING] ME(6494:281473106489376,MainProcess):2025-05-13-01:24:24.782.131 [mindspore/nn/layer/basic.py:176] For Dropout, this parameter `keep_prob` will be deprecated, please use `p` instead.\n",
      "[WARNING] ME(6494:281473106489376,MainProcess):2025-05-13-01:24:24.794.765 [mindspore/nn/layer/basic.py:176] For Dropout, this parameter `keep_prob` will be deprecated, please use `p` instead.\n",
      "[WARNING] ME(6494:281473106489376,MainProcess):2025-05-13-01:24:24.874.690 [mindspore/nn/layer/basic.py:176] For Dropout, this parameter `keep_prob` will be deprecated, please use `p` instead.\n",
      "[WARNING] ME(6494:281473106489376,MainProcess):2025-05-13-01:24:24.911.483 [mindspore/nn/layer/basic.py:176] For Dropout, this parameter `keep_prob` will be deprecated, please use `p` instead.\n",
      "[WARNING] ME(6494:281473106489376,MainProcess):2025-05-13-01:24:24.924.305 [mindspore/nn/layer/basic.py:176] For Dropout, this parameter `keep_prob` will be deprecated, please use `p` instead.\n",
      "[WARNING] ME(6494:281473106489376,MainProcess):2025-05-13-01:24:25.411.0 [mindspore/nn/layer/basic.py:176] For Dropout, this parameter `keep_prob` will be deprecated, please use `p` instead.\n",
      "[WARNING] ME(6494:281473106489376,MainProcess):2025-05-13-01:24:25.412.81 [mindspore/nn/layer/basic.py:176] For Dropout, this parameter `keep_prob` will be deprecated, please use `p` instead.\n",
      "[WARNING] ME(6494:281473106489376,MainProcess):2025-05-13-01:24:25.537.32 [mindspore/nn/layer/basic.py:176] For Dropout, this parameter `keep_prob` will be deprecated, please use `p` instead.\n",
      "[WARNING] ME(6494:281473106489376,MainProcess):2025-05-13-01:24:25.133.787 [mindspore/nn/layer/basic.py:176] For Dropout, this parameter `keep_prob` will be deprecated, please use `p` instead.\n",
      "[WARNING] ME(6494:281473106489376,MainProcess):2025-05-13-01:24:25.170.920 [mindspore/nn/layer/basic.py:176] For Dropout, this parameter `keep_prob` will be deprecated, please use `p` instead.\n",
      "[WARNING] ME(6494:281473106489376,MainProcess):2025-05-13-01:24:25.183.295 [mindspore/nn/layer/basic.py:176] For Dropout, this parameter `keep_prob` will be deprecated, please use `p` instead.\n",
      "[WARNING] ME(6494:281473106489376,MainProcess):2025-05-13-01:24:25.262.663 [mindspore/nn/layer/basic.py:176] For Dropout, this parameter `keep_prob` will be deprecated, please use `p` instead.\n",
      "[WARNING] ME(6494:281473106489376,MainProcess):2025-05-13-01:24:25.299.631 [mindspore/nn/layer/basic.py:176] For Dropout, this parameter `keep_prob` will be deprecated, please use `p` instead.\n",
      "[WARNING] ME(6494:281473106489376,MainProcess):2025-05-13-01:24:25.312.386 [mindspore/nn/layer/basic.py:176] For Dropout, this parameter `keep_prob` will be deprecated, please use `p` instead.\n",
      "[WARNING] ME(6494:281473106489376,MainProcess):2025-05-13-01:24:25.392.037 [mindspore/nn/layer/basic.py:176] For Dropout, this parameter `keep_prob` will be deprecated, please use `p` instead.\n",
      "[WARNING] ME(6494:281473106489376,MainProcess):2025-05-13-01:24:25.400.413 [mindspore/nn/layer/basic.py:176] For Dropout, this parameter `keep_prob` will be deprecated, please use `p` instead.\n",
      "[WARNING] ME(6494:281473106489376,MainProcess):2025-05-13-01:24:26.110.106 [mindspore/train/serialization.py:1848] For 'load_param_into_net', 152 parameters in the 'net' are not loaded, because they are not in the 'parameter_dict', please check whether the network structure is consistent when training and loading checkpoint. Another possibility is that the redundant loading is not enabled, but the loaded checkpoint is saved with redundancy removed. \n",
      "[WARNING] ME(6494:281473106489376,MainProcess):2025-05-13-01:24:26.111.094 [mindspore/train/serialization.py:1854] ['backbone.cls_token', 'backbone.pos_embedding', 'backbone.patch_embedding.conv.weight', 'backbone.patch_embedding.conv.bias', 'backbone.norm.gamma', 'backbone.norm.beta', 'backbone.transformer.layers.0.0.cell.0.gamma', 'backbone.transformer.layers.0.0.cell.0.beta', 'backbone.transformer.layers.0.0.cell.1.qkv.weight', 'backbone.transformer.layers.0.0.cell.1.qkv.bias', 'backbone.transformer.layers.0.0.cell.1.out.weight', 'backbone.transformer.layers.0.0.cell.1.out.bias', 'backbone.transformer.layers.0.1.cell.0.gamma', 'backbone.transformer.layers.0.1.cell.0.beta', 'backbone.transformer.layers.0.1.cell.1.dense1.weight', 'backbone.transformer.layers.0.1.cell.1.dense1.bias', 'backbone.transformer.layers.0.1.cell.1.dense2.weight', 'backbone.transformer.layers.0.1.cell.1.dense2.bias', 'backbone.transformer.layers.1.0.cell.0.gamma', 'backbone.transformer.layers.1.0.cell.0.beta', 'backbone.transformer.layers.1.0.cell.1.qkv.weight', 'backbone.transformer.layers.1.0.cell.1.qkv.bias', 'backbone.transformer.layers.1.0.cell.1.out.weight', 'backbone.transformer.layers.1.0.cell.1.out.bias', 'backbone.transformer.layers.1.1.cell.0.gamma', 'backbone.transformer.layers.1.1.cell.0.beta', 'backbone.transformer.layers.1.1.cell.1.dense1.weight', 'backbone.transformer.layers.1.1.cell.1.dense1.bias', 'backbone.transformer.layers.1.1.cell.1.dense2.weight', 'backbone.transformer.layers.1.1.cell.1.dense2.bias', 'backbone.transformer.layers.2.0.cell.0.gamma', 'backbone.transformer.layers.2.0.cell.0.beta', 'backbone.transformer.layers.2.0.cell.1.qkv.weight', 'backbone.transformer.layers.2.0.cell.1.qkv.bias', 'backbone.transformer.layers.2.0.cell.1.out.weight', 'backbone.transformer.layers.2.0.cell.1.out.bias', 'backbone.transformer.layers.2.1.cell.0.gamma', 'backbone.transformer.layers.2.1.cell.0.beta', 'backbone.transformer.layers.2.1.cell.1.dense1.weight', 'backbone.transformer.layers.2.1.cell.1.dense1.bias', 'backbone.transformer.layers.2.1.cell.1.dense2.weight', 'backbone.transformer.layers.2.1.cell.1.dense2.bias', 'backbone.transformer.layers.3.0.cell.0.gamma', 'backbone.transformer.layers.3.0.cell.0.beta', 'backbone.transformer.layers.3.0.cell.1.qkv.weight', 'backbone.transformer.layers.3.0.cell.1.qkv.bias', 'backbone.transformer.layers.3.0.cell.1.out.weight', 'backbone.transformer.layers.3.0.cell.1.out.bias', 'backbone.transformer.layers.3.1.cell.0.gamma', 'backbone.transformer.layers.3.1.cell.0.beta', 'backbone.transformer.layers.3.1.cell.1.dense1.weight', 'backbone.transformer.layers.3.1.cell.1.dense1.bias', 'backbone.transformer.layers.3.1.cell.1.dense2.weight', 'backbone.transformer.layers.3.1.cell.1.dense2.bias', 'backbone.transformer.layers.4.0.cell.0.gamma', 'backbone.transformer.layers.4.0.cell.0.beta', 'backbone.transformer.layers.4.0.cell.1.qkv.weight', 'backbone.transformer.layers.4.0.cell.1.qkv.bias', 'backbone.transformer.layers.4.0.cell.1.out.weight', 'backbone.transformer.layers.4.0.cell.1.out.bias', 'backbone.transformer.layers.4.1.cell.0.gamma', 'backbone.transformer.layers.4.1.cell.0.beta', 'backbone.transformer.layers.4.1.cell.1.dense1.weight', 'backbone.transformer.layers.4.1.cell.1.dense1.bias', 'backbone.transformer.layers.4.1.cell.1.dense2.weight', 'backbone.transformer.layers.4.1.cell.1.dense2.bias', 'backbone.transformer.layers.5.0.cell.0.gamma', 'backbone.transformer.layers.5.0.cell.0.beta', 'backbone.transformer.layers.5.0.cell.1.qkv.weight', 'backbone.transformer.layers.5.0.cell.1.qkv.bias', 'backbone.transformer.layers.5.0.cell.1.out.weight', 'backbone.transformer.layers.5.0.cell.1.out.bias', 'backbone.transformer.layers.5.1.cell.0.gamma', 'backbone.transformer.layers.5.1.cell.0.beta', 'backbone.transformer.layers.5.1.cell.1.dense1.weight', 'backbone.transformer.layers.5.1.cell.1.dense1.bias', 'backbone.transformer.layers.5.1.cell.1.dense2.weight', 'backbone.transformer.layers.5.1.cell.1.dense2.bias', 'backbone.transformer.layers.6.0.cell.0.gamma', 'backbone.transformer.layers.6.0.cell.0.beta', 'backbone.transformer.layers.6.0.cell.1.qkv.weight', 'backbone.transformer.layers.6.0.cell.1.qkv.bias', 'backbone.transformer.layers.6.0.cell.1.out.weight', 'backbone.transformer.layers.6.0.cell.1.out.bias', 'backbone.transformer.layers.6.1.cell.0.gamma', 'backbone.transformer.layers.6.1.cell.0.beta', 'backbone.transformer.layers.6.1.cell.1.dense1.weight', 'backbone.transformer.layers.6.1.cell.1.dense1.bias', 'backbone.transformer.layers.6.1.cell.1.dense2.weight', 'backbone.transformer.layers.6.1.cell.1.dense2.bias', 'backbone.transformer.layers.7.0.cell.0.gamma', 'backbone.transformer.layers.7.0.cell.0.beta', 'backbone.transformer.layers.7.0.cell.1.qkv.weight', 'backbone.transformer.layers.7.0.cell.1.qkv.bias', 'backbone.transformer.layers.7.0.cell.1.out.weight', 'backbone.transformer.layers.7.0.cell.1.out.bias', 'backbone.transformer.layers.7.1.cell.0.gamma', 'backbone.transformer.layers.7.1.cell.0.beta', 'backbone.transformer.layers.7.1.cell.1.dense1.weight', 'backbone.transformer.layers.7.1.cell.1.dense1.bias', 'backbone.transformer.layers.7.1.cell.1.dense2.weight', 'backbone.transformer.layers.7.1.cell.1.dense2.bias', 'backbone.transformer.layers.8.0.cell.0.gamma', 'backbone.transformer.layers.8.0.cell.0.beta', 'backbone.transformer.layers.8.0.cell.1.qkv.weight', 'backbone.transformer.layers.8.0.cell.1.qkv.bias', 'backbone.transformer.layers.8.0.cell.1.out.weight', 'backbone.transformer.layers.8.0.cell.1.out.bias', 'backbone.transformer.layers.8.1.cell.0.gamma', 'backbone.transformer.layers.8.1.cell.0.beta', 'backbone.transformer.layers.8.1.cell.1.dense1.weight', 'backbone.transformer.layers.8.1.cell.1.dense1.bias', 'backbone.transformer.layers.8.1.cell.1.dense2.weight', 'backbone.transformer.layers.8.1.cell.1.dense2.bias', 'backbone.transformer.layers.9.0.cell.0.gamma', 'backbone.transformer.layers.9.0.cell.0.beta', 'backbone.transformer.layers.9.0.cell.1.qkv.weight', 'backbone.transformer.layers.9.0.cell.1.qkv.bias', 'backbone.transformer.layers.9.0.cell.1.out.weight', 'backbone.transformer.layers.9.0.cell.1.out.bias', 'backbone.transformer.layers.9.1.cell.0.gamma', 'backbone.transformer.layers.9.1.cell.0.beta', 'backbone.transformer.layers.9.1.cell.1.dense1.weight', 'backbone.transformer.layers.9.1.cell.1.dense1.bias', 'backbone.transformer.layers.9.1.cell.1.dense2.weight', 'backbone.transformer.layers.9.1.cell.1.dense2.bias', 'backbone.transformer.layers.10.0.cell.0.gamma', 'backbone.transformer.layers.10.0.cell.0.beta', 'backbone.transformer.layers.10.0.cell.1.qkv.weight', 'backbone.transformer.layers.10.0.cell.1.qkv.bias', 'backbone.transformer.layers.10.0.cell.1.out.weight', 'backbone.transformer.layers.10.0.cell.1.out.bias', 'backbone.transformer.layers.10.1.cell.0.gamma', 'backbone.transformer.layers.10.1.cell.0.beta', 'backbone.transformer.layers.10.1.cell.1.dense1.weight', 'backbone.transformer.layers.10.1.cell.1.dense1.bias', 'backbone.transformer.layers.10.1.cell.1.dense2.weight', 'backbone.transformer.layers.10.1.cell.1.dense2.bias', 'backbone.transformer.layers.11.0.cell.0.gamma', 'backbone.transformer.layers.11.0.cell.0.beta', 'backbone.transformer.layers.11.0.cell.1.qkv.weight', 'backbone.transformer.layers.11.0.cell.1.qkv.bias', 'backbone.transformer.layers.11.0.cell.1.out.weight', 'backbone.transformer.layers.11.0.cell.1.out.bias', 'backbone.transformer.layers.11.1.cell.0.gamma', 'backbone.transformer.layers.11.1.cell.0.beta', 'backbone.transformer.layers.11.1.cell.1.dense1.weight', 'backbone.transformer.layers.11.1.cell.1.dense1.bias', 'backbone.transformer.layers.11.1.cell.1.dense2.weight', 'backbone.transformer.layers.11.1.cell.1.dense2.bias', 'head.dense.weight', 'head.dense.bias'] are not loaded.\n"
     ]
    }
   ],
   "source": [
    "import mindspore as ms\n",
    "from mindspore import nn, context\n",
    "from mindspore.train.callback import LossMonitor, ModelCheckpoint, CheckpointConfig\n",
    "from mindvision.classification.models import vit_b_16\n",
    "from mindspore.train import Model\n",
    "from mindspore.train.metrics import Accuracy\n",
    "\n",
    "\n",
    "# 加载预训练 ViT 并替换分类头\n",
    "net = vit_b_16(pretrained=True, num_classes=1000, image_size=224)\n",
    "net.head = nn.Dense(in_channels=768, out_channels=num_classes)  # 9 类\n",
    "\n",
    "# 定义损失函数与优化器\n",
    "loss_fn = nn.SoftmaxCrossEntropyWithLogits(sparse=True, reduction='mean')\n",
    "optimizer = nn.Adam(net.trainable_params(), learning_rate=2e-4)\n",
    "\n",
    "# 初始化 Accuracy 指标\n",
    "accuracy_metric = Accuracy()\n",
    "\n",
    "# 定义 Model，确保 metrics 为字典格式\n",
    "model = Model(net, loss_fn=loss_fn, optimizer=optimizer, metrics={\"Accuracy\": accuracy_metric})"
   ]
  },
  {
   "cell_type": "markdown",
   "id": "0a7d94b7-292a-410c-a3a6-0d3c247a6698",
   "metadata": {},
   "source": [
    "## 模型训练"
   ]
  },
  {
   "cell_type": "code",
   "execution_count": 5,
   "id": "ba50edca-74a1-4fbe-8174-09679e5e768a",
   "metadata": {
    "tags": []
   },
   "outputs": [
    {
     "name": "stdout",
     "output_type": "stream",
     "text": [
      "Start training for 3 epochs, dataset size: 1407 batches\n"
     ]
    },
    {
     "name": "stderr",
     "output_type": "stream",
     "text": [
      "[WARNING] DEVICE(6494,ffff9086b020,python):2025-05-13-01:24:30.385.738 [mindspore/ccsrc/plugin/device/ascend/hal/device/ascend_vmm_adapter.h:147] CheckVmmDriverVersion] Open file /etc/ascend_install.info failed.\n",
      "[WARNING] DEVICE(6494,ffff9086b020,python):2025-05-13-01:24:30.385.859 [mindspore/ccsrc/plugin/device/ascend/hal/device/ascend_vmm_adapter.h:186] CheckVmmDriverVersion] Driver version is less than 24.0.0, vmm is disabled by default, drvier_version: 23.0.6\n"
     ]
    },
    {
     "name": "stdout",
     "output_type": "stream",
     "text": [
      ".epoch: 1 step: 50, loss is 2.1977615356445312\n",
      "epoch: 1 step: 100, loss is 2.2292211055755615\n",
      "epoch: 1 step: 150, loss is 1.9665098190307617\n",
      "epoch: 1 step: 200, loss is 1.686094045639038\n",
      "epoch: 1 step: 250, loss is 1.714059591293335\n",
      "epoch: 1 step: 300, loss is 1.810146689414978\n",
      "epoch: 1 step: 350, loss is 1.755419373512268\n",
      "epoch: 1 step: 400, loss is 1.5137240886688232\n",
      "epoch: 1 step: 450, loss is 1.2674505710601807\n",
      "epoch: 1 step: 500, loss is 1.2926620244979858\n",
      "epoch: 1 step: 550, loss is 1.4577109813690186\n",
      "epoch: 1 step: 600, loss is 1.3775129318237305\n",
      "epoch: 1 step: 650, loss is 1.1601834297180176\n",
      "epoch: 1 step: 700, loss is 0.9986368417739868\n",
      "epoch: 1 step: 750, loss is 0.8986308574676514\n",
      "epoch: 1 step: 800, loss is 0.9380717873573303\n",
      "epoch: 1 step: 850, loss is 0.9710489511489868\n",
      "epoch: 1 step: 900, loss is 1.041949987411499\n",
      "epoch: 1 step: 950, loss is 0.8818055391311646\n",
      "epoch: 1 step: 1000, loss is 0.8953267931938171\n",
      "epoch: 1 step: 1050, loss is 0.9770921468734741\n",
      "epoch: 1 step: 1100, loss is 1.0111465454101562\n",
      "epoch: 1 step: 1150, loss is 0.9046437740325928\n",
      "epoch: 1 step: 1200, loss is 0.9288617372512817\n",
      "epoch: 1 step: 1250, loss is 0.8690612316131592\n",
      "epoch: 1 step: 1300, loss is 0.8883382678031921\n",
      "epoch: 1 step: 1350, loss is 0.6498634219169617\n",
      "epoch: 1 step: 1400, loss is 0.8100777268409729\n",
      "epoch: 2 step: 43, loss is 0.9976012706756592\n",
      "epoch: 2 step: 93, loss is 0.975166916847229\n",
      "epoch: 2 step: 143, loss is 1.1299903392791748\n",
      "epoch: 2 step: 193, loss is 0.6293878555297852\n",
      "epoch: 2 step: 243, loss is 0.8928766846656799\n",
      "epoch: 2 step: 293, loss is 0.699134349822998\n",
      "epoch: 2 step: 343, loss is 0.9846528768539429\n",
      "epoch: 2 step: 393, loss is 0.6961089968681335\n",
      "epoch: 2 step: 443, loss is 0.8361051082611084\n",
      "epoch: 2 step: 493, loss is 0.9249276518821716\n",
      "epoch: 2 step: 543, loss is 0.960476279258728\n",
      "epoch: 2 step: 593, loss is 0.941448986530304\n",
      "epoch: 2 step: 643, loss is 0.70140540599823\n",
      "epoch: 2 step: 693, loss is 0.6642711162567139\n",
      "epoch: 2 step: 743, loss is 0.7575544118881226\n",
      "epoch: 2 step: 793, loss is 0.6705707311630249\n",
      "epoch: 2 step: 843, loss is 0.9321001768112183\n",
      "epoch: 2 step: 893, loss is 0.8592671155929565\n",
      "epoch: 2 step: 943, loss is 0.5168865919113159\n",
      "epoch: 2 step: 993, loss is 0.6091427803039551\n",
      "epoch: 2 step: 1043, loss is 0.9861643314361572\n",
      "epoch: 2 step: 1093, loss is 0.5654210448265076\n",
      "epoch: 2 step: 1143, loss is 0.9231346845626831\n",
      "epoch: 2 step: 1193, loss is 0.6861865520477295\n",
      "epoch: 2 step: 1243, loss is 0.6687185764312744\n",
      "epoch: 2 step: 1293, loss is 0.6467711329460144\n",
      "epoch: 2 step: 1343, loss is 0.7424469590187073\n",
      "epoch: 2 step: 1393, loss is 0.8506679534912109\n",
      "epoch: 3 step: 36, loss is 0.7450297474861145\n",
      "epoch: 3 step: 86, loss is 0.5472781658172607\n",
      "epoch: 3 step: 136, loss is 0.6191399097442627\n",
      "epoch: 3 step: 186, loss is 0.7172731161117554\n",
      "epoch: 3 step: 236, loss is 0.5302313566207886\n",
      "epoch: 3 step: 286, loss is 0.5366042852401733\n",
      "epoch: 3 step: 336, loss is 0.5266217589378357\n",
      "epoch: 3 step: 386, loss is 0.7348150014877319\n",
      "epoch: 3 step: 436, loss is 0.500395655632019\n",
      "epoch: 3 step: 486, loss is 0.5880839824676514\n",
      "epoch: 3 step: 536, loss is 0.678256630897522\n",
      "epoch: 3 step: 586, loss is 0.6732902526855469\n",
      "epoch: 3 step: 636, loss is 0.6588163375854492\n",
      "epoch: 3 step: 686, loss is 0.3791930079460144\n",
      "epoch: 3 step: 736, loss is 0.44730445742607117\n",
      "epoch: 3 step: 786, loss is 0.6282552480697632\n",
      "epoch: 3 step: 836, loss is 0.6072142720222473\n",
      "epoch: 3 step: 886, loss is 0.43602773547172546\n",
      "epoch: 3 step: 936, loss is 0.4993860125541687\n",
      "epoch: 3 step: 986, loss is 0.4558279514312744\n",
      "epoch: 3 step: 1036, loss is 0.4762760102748871\n",
      "epoch: 3 step: 1086, loss is 0.45580196380615234\n",
      "epoch: 3 step: 1136, loss is 0.4813591539859772\n",
      "epoch: 3 step: 1186, loss is 0.3456902503967285\n",
      "epoch: 3 step: 1236, loss is 0.811821699142456\n",
      "epoch: 3 step: 1286, loss is 0.40027517080307007\n",
      "epoch: 3 step: 1336, loss is 0.5659706592559814\n",
      "epoch: 3 step: 1386, loss is 0.6163322925567627\n"
     ]
    }
   ],
   "source": [
    "# 每 100 步保存一次，最多保留 3 个检查点\n",
    "ckpt_config = CheckpointConfig(save_checkpoint_steps=100, keep_checkpoint_max=3)\n",
    "ckpt_cb = ModelCheckpoint(prefix=\"vit_pathmnist\",\n",
    "                          directory=\"./checkpoints\",\n",
    "                          config=ckpt_config)\n",
    "\n",
    "# 开始训练\n",
    "epoch_num = 3\n",
    "print(f\"Start training for {epoch_num} epochs, dataset size: {train_ds.get_dataset_size()} batches\")\n",
    "model.train(epoch_num,\n",
    "            train_dataset=train_ds,\n",
    "            callbacks=[LossMonitor(per_print_times=50), ckpt_cb],\n",
    "            dataset_sink_mode=False)"
   ]
  },
  {
   "cell_type": "markdown",
   "id": "24dd1860-d699-4546-8e57-0078b38ecb9a",
   "metadata": {},
   "source": [
    "## 模型评估"
   ]
  },
  {
   "cell_type": "code",
   "execution_count": 6,
   "id": "fad86f6e-3356-4b83-83d8-849563bd5684",
   "metadata": {
    "tags": []
   },
   "outputs": [
    {
     "name": "stdout",
     "output_type": "stream",
     "text": [
      "Evaluating on validation set...\n",
      "Validation metrics: {'Accuracy': 0.8251699320271891}\n"
     ]
    }
   ],
   "source": [
    "print(\"Evaluating on validation set...\")\n",
    "metrics = model.eval(val_ds, dataset_sink_mode=False)\n",
    "print(\"Validation metrics:\", metrics)"
   ]
  }
 ],
 "metadata": {
  "kernelspec": {
   "display_name": "Python 3 (ipykernel)",
   "language": "python",
   "name": "python3"
  },
  "language_info": {
   "codemirror_mode": {
    "name": "ipython",
    "version": 3
   },
   "file_extension": ".py",
   "mimetype": "text/x-python",
   "name": "python",
   "nbconvert_exporter": "python",
   "pygments_lexer": "ipython3",
   "version": "3.9.21"
  }
 },
 "nbformat": 4,
 "nbformat_minor": 5
}
